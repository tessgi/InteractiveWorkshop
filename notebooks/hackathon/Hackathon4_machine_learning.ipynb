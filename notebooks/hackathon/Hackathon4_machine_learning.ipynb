{
 "cells": [
  {
   "cell_type": "markdown",
   "id": "12f03fc4-67c5-4f86-a29c-406e9eb16375",
   "metadata": {},
   "source": [
    "This is the fourth in a series of notebooks designed for the \"Hackathon\" at the TESS Interactive Data Workshop at the 241st AAS meeting. \n",
    "\n",
    "The hackathon notebooks are intended to be a non-comprehensive guide on to how to approach different problems with TESS. It is up to the user to fill in the blanks to customize the notebook to their interests. Because of this, a basic knowledge of TESS data handling is prerequisite to these notebooks. \n",
    "\n",
    "If you are new to TESS, please first refer to the following tutorials before proceeding further.\n",
    "\n",
    "MAST tutorials (also available on TIKE): https://github.com/spacetelescope/tike_content/blob/main/content/science-examples-github.md\n",
    "\n",
    "lightkurve tutorials: https://docs.lightkurve.org/tutorials/index.html"
   ]
  },
  {
   "cell_type": "code",
   "execution_count": 1,
   "id": "09fdf1d7-41cf-49c5-a865-ddb74f799735",
   "metadata": {},
   "outputs": [],
   "source": [
    "%matplotlib inline"
   ]
  },
  {
   "cell_type": "code",
   "execution_count": 2,
   "id": "905c288c-300c-48ab-90d8-ab9cbbf5df03",
   "metadata": {},
   "outputs": [
    {
     "name": "stdout",
     "output_type": "stream",
     "text": [
      "INFO: Using the S3 STScI public dataset [astroquery.mast.cloud]\n"
     ]
    }
   ],
   "source": [
    "# Important: ensure files are retrieved from AWS \n",
    "from astroquery.mast import Observations\n",
    "Observations.enable_cloud_dataset(provider='AWS')\n",
    "\n",
    "import matplotlib.pyplot as plt\n",
    "import pandas as pd\n",
    "import numpy as np\n",
    "import random\n",
    "import lightkurve as lk\n",
    "from astropy.time import Time\n",
    "from astropy.units import Quantity\n",
    "from tqdm.notebook import tqdm\n",
    "import glob\n",
    "import os\n",
    "import csv\n",
    "\n",
    "#machine learning packages\n",
    "from tensorflow import keras\n",
    "from sklearn.preprocessing import LabelEncoder\n",
    "from sklearn.ensemble import RandomForestClassifier\n",
    "from sklearn.model_selection import train_test_split\n",
    "from sklearn.metrics import confusion_matrix, ConfusionMatrixDisplay, roc_curve, auc\n"
   ]
  },
  {
   "cell_type": "markdown",
   "id": "96c85135-ed95-49bc-9c73-b8f62216efc6",
   "metadata": {},
   "source": [
    "In this notebook, we will take a look at using TESS data as input for machine learning applications. This is a huge topic with a lot of variation and tailoring options, so there is plenty of room to hack! At the bottom of the notebook, we will include some references if you are interested in learning more about machine learning and applications to astronomy.\n",
    "\n",
    "This notebook will try to remain agnostic as to the science goal you want to pursue. You could be looking for exoplanet transits, transient objects, special types of variable stars, you name it and you can try to customize this notebook to find or characterize it. We just happen to be working with one example (distinguishing planet transits from eclipsing binaries), but you can tweak the codes to do whatever you'd like. \n",
    "\n",
    "\n",
    "In general, machine learning is a just a fancy way of looking for underlying patterns in the input data. Machine learning can be anything as simple as fitting a trend line to your two-dimensional data to complex multi-stage neural nets. We will focus on the data processing as a starting point to machine learning and demonstrate some very basic implementations. However, there is no way we can even cover all of the basics, so we refer you to the machine learning package documentation. \n",
    "\n",
    "We will be using two different machine learning libraries. The first is sklearn, which is an extremely popular and simple to use python package. It has many different types of machine learning algorithms in the library such as K-nearest neighbors, logistic regression, support vector machines, and random forest classifiers (which we will use here). Check out the documentation to see the full range of models. https://scikit-learn.org/stable/index.html\n",
    "\n",
    "We will also build a simple neural network model using keras. This is a great and simple tool to start working with deep learning models. https://keras.io  If you eventually want to create more complex models or use pre-trained networks, other options such at PyTorch can have more functionality, at the cost of less user-friendly documentation.\n",
    "\n",
    "Once you have your project goal, you can then decide what training data you have available. This is an extremely important step that shouldn't be taken lightly when using your algorithm out in the real world. There are many factors that go into it, such as will you use real data, synthetic data, or a combination? Do you have or can you generate a 'ground truth' sample or do you instead just want to group silimar things together with no label? And so much more.\n",
    "\n",
    "It is important to emphasize that this notebook is just a guide to get you started, not a comprehensive finished work. Please use your best judgement when using the cells in the notebook in other contexts!"
   ]
  },
  {
   "cell_type": "markdown",
   "id": "a0ea6c55-8a1a-497c-86bb-e2e88fe7c0a8",
   "metadata": {},
   "source": [
    "# Step 1 - define your problem\n",
    "\n",
    "The first step in developing your machine learning model is defining what you want to do. Before you decide that there are a few of factors to consider\n",
    "- Is your goal classification or regression, meaning are you trying to give categorical labels to objects in your sample or do you want to get a numerical estimate of some feature?\n",
    "- If you are interested in classification, how many categories of data do you expect to find? Binary classification is the most straightforward but often too simplified for astronomical purposes. \n",
    "- Do you have a sample of ground truth observations to train your model, or are you just looking for the machine learning model to look for underlying structure in the data?\n",
    "- What type of input data are you working with (images, lightcurves, csv-like features, etc)\n",
    "- What outcome is needed? Do you need to focus on optimizing precision or accuracy?\n",
    "\n",
    "All of these will change what type of machine learning model you want to use. \n",
    "For the sake of this tutorial, we will start by making a binary classifier that can distinguish between exoplanet transits and eclipsing binaries. For training, we will use data from the current confirmed TESS planets and the TESS Eclipsing Binaries (\"TESS-EBs\") catalog (https://ui.adsabs.harvard.edu/abs/2022ApJS..258...16P/abstract)."
   ]
  },
  {
   "cell_type": "markdown",
   "id": "700198e6-cd80-4865-83e4-254f6beb96cb",
   "metadata": {},
   "source": [
    "# Step 2 - get your data\n",
    "\n",
    "Now we need to gather the data. First I'll get a list of the confirmed TOI planets (CPs) and Eclipsing binaries. I will then save these as a csv file and read them in to a pandas dataframe. \n",
    "\n",
    "EB: https://archive.stsci.edu/hlsp/tess-ebs\n",
    "    \n",
    "exoplanet: https://tev.mit.edu/data/\n",
    "\n",
    "Now we need to decide how we want to represent the data for the machine learning application. This is where our machine learning model will come into play. For deep learning models, time series data can be used directly. However, in models such as random forest classifiers, each timestep in the lightcurve would be considered without any context which isn't that useful, so instead the light curve needs to be broken down with useful features that capture their shape (depth of transit, period of transit, ingress/egress duration, etc). \n",
    "\n",
    "We will create two different models to demonstrate these different inputs: a Random Forest Classifier (RFC) and a Convolutional Neural Network (CNN). We leave it up to the participant to put their internet search skills to use to find some blog posts to describe these two methods if they are unfamiliar. \n",
    "\n",
    "Once we have the stars we are interested in, we will save out some relevant metadata to train the RFC. Then we will get a global (full light curve) and local view (close up of the transit event) of the lightcurve following the practice of Shallue and Vanderburg (2018). Note, there is already a lightkurve tutorial on how to do this step, so we won't go into detail here. \n",
    "http://docs.lightkurve.org/tutorials/3-science-examples/exoplanets-machine-learning-preprocessing.html"
   ]
  },
  {
   "cell_type": "code",
   "execution_count": 3,
   "id": "a25926e4-aa5d-453a-aefd-70ee4603224b",
   "metadata": {},
   "outputs": [
    {
     "data": {
      "text/html": [
       "<div>\n",
       "<style scoped>\n",
       "    .dataframe tbody tr th:only-of-type {\n",
       "        vertical-align: middle;\n",
       "    }\n",
       "\n",
       "    .dataframe tbody tr th {\n",
       "        vertical-align: top;\n",
       "    }\n",
       "\n",
       "    .dataframe thead th {\n",
       "        text-align: right;\n",
       "    }\n",
       "</style>\n",
       "<table border=\"1\" class=\"dataframe\">\n",
       "  <thead>\n",
       "    <tr style=\"text-align: right;\">\n",
       "      <th></th>\n",
       "      <th>tess_id</th>\n",
       "      <th>signal_id</th>\n",
       "      <th>date_added</th>\n",
       "      <th>date_modified</th>\n",
       "      <th>source</th>\n",
       "      <th>ra</th>\n",
       "      <th>dec</th>\n",
       "      <th>pmra</th>\n",
       "      <th>pmdec</th>\n",
       "      <th>Tmag</th>\n",
       "      <th>...</th>\n",
       "      <th>sec_width_pf</th>\n",
       "      <th>sec_depth_pf</th>\n",
       "      <th>sec_pos_pf</th>\n",
       "      <th>prim_width_2g</th>\n",
       "      <th>prim_depth_2g</th>\n",
       "      <th>prim_pos_2g</th>\n",
       "      <th>sec_width_2g</th>\n",
       "      <th>sec_depth_2g</th>\n",
       "      <th>sec_pos_2g</th>\n",
       "      <th>sectors</th>\n",
       "    </tr>\n",
       "  </thead>\n",
       "  <tbody>\n",
       "    <tr>\n",
       "      <th>0</th>\n",
       "      <td>185259483</td>\n",
       "      <td>1</td>\n",
       "      <td>2020-07-27 20:19:32.475646</td>\n",
       "      <td>2021-09-16 17:36:17.538222</td>\n",
       "      <td>Light Curve File (LCF)</td>\n",
       "      <td>175.108299</td>\n",
       "      <td>-6.102530</td>\n",
       "      <td>5.76498</td>\n",
       "      <td>-10.34730</td>\n",
       "      <td>10.9183</td>\n",
       "      <td>...</td>\n",
       "      <td>NaN</td>\n",
       "      <td>NaN</td>\n",
       "      <td>NaN</td>\n",
       "      <td>0.320144</td>\n",
       "      <td>0.218613</td>\n",
       "      <td>0.004219</td>\n",
       "      <td>NaN</td>\n",
       "      <td>NaN</td>\n",
       "      <td>NaN</td>\n",
       "      <td>9,36</td>\n",
       "    </tr>\n",
       "    <tr>\n",
       "      <th>1</th>\n",
       "      <td>307990280</td>\n",
       "      <td>1</td>\n",
       "      <td>2020-07-27 20:19:32.859401</td>\n",
       "      <td>2021-09-16 17:36:17.578490</td>\n",
       "      <td>Light Curve File (LCF)</td>\n",
       "      <td>129.235983</td>\n",
       "      <td>-67.744751</td>\n",
       "      <td>-22.88000</td>\n",
       "      <td>-12.31450</td>\n",
       "      <td>9.4314</td>\n",
       "      <td>...</td>\n",
       "      <td>0.266834</td>\n",
       "      <td>0.023058</td>\n",
       "      <td>0.514608</td>\n",
       "      <td>NaN</td>\n",
       "      <td>NaN</td>\n",
       "      <td>NaN</td>\n",
       "      <td>NaN</td>\n",
       "      <td>NaN</td>\n",
       "      <td>NaN</td>\n",
       "      <td>9,10,11</td>\n",
       "    </tr>\n",
       "    <tr>\n",
       "      <th>2</th>\n",
       "      <td>387178621</td>\n",
       "      <td>1</td>\n",
       "      <td>2020-07-27 20:19:32.958864</td>\n",
       "      <td>2021-09-16 17:36:17.621185</td>\n",
       "      <td>Light Curve File (LCF)</td>\n",
       "      <td>140.414052</td>\n",
       "      <td>-55.907677</td>\n",
       "      <td>-4.22192</td>\n",
       "      <td>4.22438</td>\n",
       "      <td>11.1447</td>\n",
       "      <td>...</td>\n",
       "      <td>NaN</td>\n",
       "      <td>NaN</td>\n",
       "      <td>NaN</td>\n",
       "      <td>0.140927</td>\n",
       "      <td>0.441052</td>\n",
       "      <td>0.000095</td>\n",
       "      <td>0.176579</td>\n",
       "      <td>0.071165</td>\n",
       "      <td>0.506365</td>\n",
       "      <td>9,10</td>\n",
       "    </tr>\n",
       "    <tr>\n",
       "      <th>3</th>\n",
       "      <td>300560295</td>\n",
       "      <td>1</td>\n",
       "      <td>2020-07-27 20:19:33.639446</td>\n",
       "      <td>2021-09-16 17:36:17.671033</td>\n",
       "      <td>Light Curve File (LCF)</td>\n",
       "      <td>112.915987</td>\n",
       "      <td>-68.133213</td>\n",
       "      <td>-20.41370</td>\n",
       "      <td>9.18717</td>\n",
       "      <td>10.7757</td>\n",
       "      <td>...</td>\n",
       "      <td>0.004393</td>\n",
       "      <td>0.026034</td>\n",
       "      <td>0.500378</td>\n",
       "      <td>0.006209</td>\n",
       "      <td>0.029672</td>\n",
       "      <td>0.000426</td>\n",
       "      <td>0.006037</td>\n",
       "      <td>0.029204</td>\n",
       "      <td>0.500434</td>\n",
       "      <td>1,2,3,4,5,6,7,8,9,11,12,13,27,28,29,30,31,32,3...</td>\n",
       "    </tr>\n",
       "    <tr>\n",
       "      <th>4</th>\n",
       "      <td>318185328</td>\n",
       "      <td>1</td>\n",
       "      <td>2020-07-27 20:19:33.751141</td>\n",
       "      <td>2021-09-16 17:36:17.721127</td>\n",
       "      <td>Light Curve File (LCF)</td>\n",
       "      <td>162.141798</td>\n",
       "      <td>-3.624495</td>\n",
       "      <td>51.80000</td>\n",
       "      <td>-44.01000</td>\n",
       "      <td>10.4100</td>\n",
       "      <td>...</td>\n",
       "      <td>NaN</td>\n",
       "      <td>NaN</td>\n",
       "      <td>NaN</td>\n",
       "      <td>0.362418</td>\n",
       "      <td>0.300310</td>\n",
       "      <td>0.003106</td>\n",
       "      <td>0.303053</td>\n",
       "      <td>0.243379</td>\n",
       "      <td>0.503066</td>\n",
       "      <td>9,35</td>\n",
       "    </tr>\n",
       "  </tbody>\n",
       "</table>\n",
       "<p>5 rows × 28 columns</p>\n",
       "</div>"
      ],
      "text/plain": [
       "     tess_id  signal_id                  date_added  \\\n",
       "0  185259483          1  2020-07-27 20:19:32.475646   \n",
       "1  307990280          1  2020-07-27 20:19:32.859401   \n",
       "2  387178621          1  2020-07-27 20:19:32.958864   \n",
       "3  300560295          1  2020-07-27 20:19:33.639446   \n",
       "4  318185328          1  2020-07-27 20:19:33.751141   \n",
       "\n",
       "                date_modified                  source          ra        dec  \\\n",
       "0  2021-09-16 17:36:17.538222  Light Curve File (LCF)  175.108299  -6.102530   \n",
       "1  2021-09-16 17:36:17.578490  Light Curve File (LCF)  129.235983 -67.744751   \n",
       "2  2021-09-16 17:36:17.621185  Light Curve File (LCF)  140.414052 -55.907677   \n",
       "3  2021-09-16 17:36:17.671033  Light Curve File (LCF)  112.915987 -68.133213   \n",
       "4  2021-09-16 17:36:17.721127  Light Curve File (LCF)  162.141798  -3.624495   \n",
       "\n",
       "       pmra     pmdec     Tmag  ...  sec_width_pf  sec_depth_pf  sec_pos_pf  \\\n",
       "0   5.76498 -10.34730  10.9183  ...           NaN           NaN         NaN   \n",
       "1 -22.88000 -12.31450   9.4314  ...      0.266834      0.023058    0.514608   \n",
       "2  -4.22192   4.22438  11.1447  ...           NaN           NaN         NaN   \n",
       "3 -20.41370   9.18717  10.7757  ...      0.004393      0.026034    0.500378   \n",
       "4  51.80000 -44.01000  10.4100  ...           NaN           NaN         NaN   \n",
       "\n",
       "   prim_width_2g  prim_depth_2g  prim_pos_2g  sec_width_2g  sec_depth_2g  \\\n",
       "0       0.320144       0.218613     0.004219           NaN           NaN   \n",
       "1            NaN            NaN          NaN           NaN           NaN   \n",
       "2       0.140927       0.441052     0.000095      0.176579      0.071165   \n",
       "3       0.006209       0.029672     0.000426      0.006037      0.029204   \n",
       "4       0.362418       0.300310     0.003106      0.303053      0.243379   \n",
       "\n",
       "   sec_pos_2g                                            sectors  \n",
       "0         NaN                                               9,36  \n",
       "1         NaN                                            9,10,11  \n",
       "2    0.506365                                               9,10  \n",
       "3    0.500434  1,2,3,4,5,6,7,8,9,11,12,13,27,28,29,30,31,32,3...  \n",
       "4    0.503066                                               9,35  \n",
       "\n",
       "[5 rows x 28 columns]"
      ]
     },
     "execution_count": 3,
     "metadata": {},
     "output_type": "execute_result"
    }
   ],
   "source": [
    "#Read in the Eclipsing Binary table\n",
    "EBs = pd.read_csv('workshop_material/TESS_EBs.csv')\n",
    "EBs.head()"
   ]
  },
  {
   "cell_type": "code",
   "execution_count": 4,
   "id": "722d4ca7-a7fc-47c3-817e-45923089f453",
   "metadata": {},
   "outputs": [
    {
     "data": {
      "text/html": [
       "<div>\n",
       "<style scoped>\n",
       "    .dataframe tbody tr th:only-of-type {\n",
       "        vertical-align: middle;\n",
       "    }\n",
       "\n",
       "    .dataframe tbody tr th {\n",
       "        vertical-align: top;\n",
       "    }\n",
       "\n",
       "    .dataframe thead th {\n",
       "        text-align: right;\n",
       "    }\n",
       "</style>\n",
       "<table border=\"1\" class=\"dataframe\">\n",
       "  <thead>\n",
       "    <tr style=\"text-align: right;\">\n",
       "      <th></th>\n",
       "      <th>TIC ID</th>\n",
       "      <th>TOI</th>\n",
       "      <th>CTOI</th>\n",
       "      <th>Master priority</th>\n",
       "      <th>SG1A priority</th>\n",
       "      <th>SG1B priority</th>\n",
       "      <th>SG2 priority</th>\n",
       "      <th>SG3 priority</th>\n",
       "      <th>SG4 priority</th>\n",
       "      <th>SG5 priority</th>\n",
       "      <th>...</th>\n",
       "      <th>Stellar Radius error</th>\n",
       "      <th>Stellar Metallicity</th>\n",
       "      <th>Stellar Metallicity error</th>\n",
       "      <th>Stellar Mass (M_Sun)</th>\n",
       "      <th>Stellar Mass error</th>\n",
       "      <th>Sectors</th>\n",
       "      <th>Comments</th>\n",
       "      <th>Date TOI Alerted (by TESS Project)</th>\n",
       "      <th>Date TOI Updated (by TESS Project)</th>\n",
       "      <th>Date Modified (by ExoFOP-TESS)</th>\n",
       "    </tr>\n",
       "  </thead>\n",
       "  <tbody>\n",
       "    <tr>\n",
       "      <th>0</th>\n",
       "      <td>266980320</td>\n",
       "      <td>118.01</td>\n",
       "      <td>NaN</td>\n",
       "      <td>2</td>\n",
       "      <td>5</td>\n",
       "      <td>5</td>\n",
       "      <td>4</td>\n",
       "      <td>4</td>\n",
       "      <td>2</td>\n",
       "      <td>4</td>\n",
       "      <td>...</td>\n",
       "      <td>0.054950</td>\n",
       "      <td>NaN</td>\n",
       "      <td>NaN</td>\n",
       "      <td>0.970000</td>\n",
       "      <td>0.120939</td>\n",
       "      <td>1,28</td>\n",
       "      <td>HD 219666 b</td>\n",
       "      <td>2018-09-05</td>\n",
       "      <td>2021-10-07</td>\n",
       "      <td>2022-12-14</td>\n",
       "    </tr>\n",
       "    <tr>\n",
       "      <th>1</th>\n",
       "      <td>394137592</td>\n",
       "      <td>120.01</td>\n",
       "      <td>NaN</td>\n",
       "      <td>3</td>\n",
       "      <td>5</td>\n",
       "      <td>5</td>\n",
       "      <td>3</td>\n",
       "      <td>4</td>\n",
       "      <td>4</td>\n",
       "      <td>4</td>\n",
       "      <td>...</td>\n",
       "      <td>0.298399</td>\n",
       "      <td>-0.02</td>\n",
       "      <td>0.09</td>\n",
       "      <td>0.960000</td>\n",
       "      <td>0.124471</td>\n",
       "      <td>1</td>\n",
       "      <td>HD 1397 b\\t</td>\n",
       "      <td>2018-09-05</td>\n",
       "      <td>2021-12-07</td>\n",
       "      <td>2022-12-14</td>\n",
       "    </tr>\n",
       "    <tr>\n",
       "      <th>2</th>\n",
       "      <td>231702397</td>\n",
       "      <td>122.01</td>\n",
       "      <td>NaN</td>\n",
       "      <td>2</td>\n",
       "      <td>5</td>\n",
       "      <td>5</td>\n",
       "      <td>2</td>\n",
       "      <td>4</td>\n",
       "      <td>3</td>\n",
       "      <td>4</td>\n",
       "      <td>...</td>\n",
       "      <td>0.010041</td>\n",
       "      <td>NaN</td>\n",
       "      <td>NaN</td>\n",
       "      <td>0.315858</td>\n",
       "      <td>0.020251</td>\n",
       "      <td>1,27,28</td>\n",
       "      <td>TOI-122 b</td>\n",
       "      <td>2018-09-05</td>\n",
       "      <td>2021-12-01</td>\n",
       "      <td>2022-12-14</td>\n",
       "    </tr>\n",
       "    <tr>\n",
       "      <th>3</th>\n",
       "      <td>290131778</td>\n",
       "      <td>123.01</td>\n",
       "      <td>NaN</td>\n",
       "      <td>3</td>\n",
       "      <td>5</td>\n",
       "      <td>5</td>\n",
       "      <td>5</td>\n",
       "      <td>4</td>\n",
       "      <td>5</td>\n",
       "      <td>3</td>\n",
       "      <td>...</td>\n",
       "      <td>0.132412</td>\n",
       "      <td>NaN</td>\n",
       "      <td>NaN</td>\n",
       "      <td>1.263000</td>\n",
       "      <td>0.201024</td>\n",
       "      <td>1,28</td>\n",
       "      <td>HD 202772 A b</td>\n",
       "      <td>2018-09-05</td>\n",
       "      <td>2021-10-20</td>\n",
       "      <td>2022-12-14</td>\n",
       "    </tr>\n",
       "    <tr>\n",
       "      <th>4</th>\n",
       "      <td>52368076</td>\n",
       "      <td>125.01</td>\n",
       "      <td>NaN</td>\n",
       "      <td>1</td>\n",
       "      <td>5</td>\n",
       "      <td>5</td>\n",
       "      <td>5</td>\n",
       "      <td>4</td>\n",
       "      <td>1</td>\n",
       "      <td>2</td>\n",
       "      <td>...</td>\n",
       "      <td>0.049719</td>\n",
       "      <td>NaN</td>\n",
       "      <td>NaN</td>\n",
       "      <td>0.910000</td>\n",
       "      <td>0.110203</td>\n",
       "      <td>1,2,28</td>\n",
       "      <td>TOI-125 b / TOI 125.01</td>\n",
       "      <td>2018-10-19</td>\n",
       "      <td>2021-12-02</td>\n",
       "      <td>2022-12-14</td>\n",
       "    </tr>\n",
       "  </tbody>\n",
       "</table>\n",
       "<p>5 rows × 61 columns</p>\n",
       "</div>"
      ],
      "text/plain": [
       "      TIC ID     TOI CTOI  Master priority  SG1A priority  SG1B priority  \\\n",
       "0  266980320  118.01  NaN                2              5              5   \n",
       "1  394137592  120.01  NaN                3              5              5   \n",
       "2  231702397  122.01  NaN                2              5              5   \n",
       "3  290131778  123.01  NaN                3              5              5   \n",
       "4   52368076  125.01  NaN                1              5              5   \n",
       "\n",
       "   SG2 priority  SG3 priority  SG4 priority  SG5 priority  ...  \\\n",
       "0             4             4             2             4  ...   \n",
       "1             3             4             4             4  ...   \n",
       "2             2             4             3             4  ...   \n",
       "3             5             4             5             3  ...   \n",
       "4             5             4             1             2  ...   \n",
       "\n",
       "   Stellar Radius error  Stellar Metallicity  Stellar Metallicity error  \\\n",
       "0              0.054950                  NaN                        NaN   \n",
       "1              0.298399                -0.02                       0.09   \n",
       "2              0.010041                  NaN                        NaN   \n",
       "3              0.132412                  NaN                        NaN   \n",
       "4              0.049719                  NaN                        NaN   \n",
       "\n",
       "   Stellar Mass (M_Sun)  Stellar Mass error  Sectors                Comments  \\\n",
       "0              0.970000            0.120939     1,28             HD 219666 b   \n",
       "1              0.960000            0.124471        1             HD 1397 b\\t   \n",
       "2              0.315858            0.020251  1,27,28               TOI-122 b   \n",
       "3              1.263000            0.201024     1,28           HD 202772 A b   \n",
       "4              0.910000            0.110203   1,2,28  TOI-125 b / TOI 125.01   \n",
       "\n",
       "  Date TOI Alerted (by TESS Project)  Date TOI Updated (by TESS Project)  \\\n",
       "0                         2018-09-05                          2021-10-07   \n",
       "1                         2018-09-05                          2021-12-07   \n",
       "2                         2018-09-05                          2021-12-01   \n",
       "3                         2018-09-05                          2021-10-20   \n",
       "4                         2018-10-19                          2021-12-02   \n",
       "\n",
       "   Date Modified (by ExoFOP-TESS)  \n",
       "0                      2022-12-14  \n",
       "1                      2022-12-14  \n",
       "2                      2022-12-14  \n",
       "3                      2022-12-14  \n",
       "4                      2022-12-14  \n",
       "\n",
       "[5 rows x 61 columns]"
      ]
     },
     "execution_count": 4,
     "metadata": {},
     "output_type": "execute_result"
    }
   ],
   "source": [
    "#Read in the confirmed planets table\n",
    "planets = pd.read_csv('workshop_material/exofop_tess_tois.csv', skiprows=3)\n",
    "planets.head()"
   ]
  },
  {
   "cell_type": "code",
   "execution_count": 5,
   "id": "64ff6ad2-eb60-451d-a012-bfc8ce863a91",
   "metadata": {},
   "outputs": [
    {
     "name": "stdout",
     "output_type": "stream",
     "text": [
      "there are 173 planets and 4584 EBs\n"
     ]
    }
   ],
   "source": [
    "print('there are %s planets and %s EBs'%(len(planets), len(EBs)))"
   ]
  },
  {
   "cell_type": "markdown",
   "id": "d3f9ee23-df99-4523-8c79-b85d14e02834",
   "metadata": {},
   "source": [
    "OK, now we have a sample of confirmed planets and eclipsing binaries. However, the sample size is very uneven, which is not ideal for ML. There is a lot of literature out there on ways to handle imbalanced data sets that you can check out if/when you run into this extremely common problem. We are going to implement the simplest solution here, which is to keep a random subset of 173 EBs so that the class sizes are balanced. Note this really shrinks down our training data set size, so is probably not a great choice. Please do think about other possible solutions.\n"
   ]
  },
  {
   "cell_type": "code",
   "execution_count": 6,
   "id": "aac12d79-4c83-4345-846b-5ad6f74e805e",
   "metadata": {},
   "outputs": [
    {
     "data": {
      "text/html": [
       "<div>\n",
       "<style scoped>\n",
       "    .dataframe tbody tr th:only-of-type {\n",
       "        vertical-align: middle;\n",
       "    }\n",
       "\n",
       "    .dataframe tbody tr th {\n",
       "        vertical-align: top;\n",
       "    }\n",
       "\n",
       "    .dataframe thead th {\n",
       "        text-align: right;\n",
       "    }\n",
       "</style>\n",
       "<table border=\"1\" class=\"dataframe\">\n",
       "  <thead>\n",
       "    <tr style=\"text-align: right;\">\n",
       "      <th></th>\n",
       "      <th>index</th>\n",
       "      <th>tess_id</th>\n",
       "      <th>signal_id</th>\n",
       "      <th>date_added</th>\n",
       "      <th>date_modified</th>\n",
       "      <th>source</th>\n",
       "      <th>ra</th>\n",
       "      <th>dec</th>\n",
       "      <th>pmra</th>\n",
       "      <th>pmdec</th>\n",
       "      <th>...</th>\n",
       "      <th>sec_width_pf</th>\n",
       "      <th>sec_depth_pf</th>\n",
       "      <th>sec_pos_pf</th>\n",
       "      <th>prim_width_2g</th>\n",
       "      <th>prim_depth_2g</th>\n",
       "      <th>prim_pos_2g</th>\n",
       "      <th>sec_width_2g</th>\n",
       "      <th>sec_depth_2g</th>\n",
       "      <th>sec_pos_2g</th>\n",
       "      <th>sectors</th>\n",
       "    </tr>\n",
       "  </thead>\n",
       "  <tbody>\n",
       "    <tr>\n",
       "      <th>0</th>\n",
       "      <td>2753</td>\n",
       "      <td>157968186</td>\n",
       "      <td>1</td>\n",
       "      <td>2020-07-28 16:50:44.500967</td>\n",
       "      <td>2021-09-16 17:39:10.203436</td>\n",
       "      <td>Light Curve File (LCF)</td>\n",
       "      <td>218.803247</td>\n",
       "      <td>24.639262</td>\n",
       "      <td>-22.6250</td>\n",
       "      <td>-6.06443</td>\n",
       "      <td>...</td>\n",
       "      <td>0.074643</td>\n",
       "      <td>0.293904</td>\n",
       "      <td>0.500003</td>\n",
       "      <td>0.106826</td>\n",
       "      <td>0.432710</td>\n",
       "      <td>0.000005</td>\n",
       "      <td>0.108546</td>\n",
       "      <td>0.330823</td>\n",
       "      <td>0.500000</td>\n",
       "      <td>23,24</td>\n",
       "    </tr>\n",
       "    <tr>\n",
       "      <th>1</th>\n",
       "      <td>2478</td>\n",
       "      <td>233635280</td>\n",
       "      <td>1</td>\n",
       "      <td>2020-07-28 16:49:22.006020</td>\n",
       "      <td>2021-09-16 17:38:50.601406</td>\n",
       "      <td>Light Curve File (LCF)</td>\n",
       "      <td>146.047415</td>\n",
       "      <td>25.353183</td>\n",
       "      <td>58.7280</td>\n",
       "      <td>-75.75820</td>\n",
       "      <td>...</td>\n",
       "      <td>0.090341</td>\n",
       "      <td>0.411639</td>\n",
       "      <td>0.499469</td>\n",
       "      <td>0.131712</td>\n",
       "      <td>0.486997</td>\n",
       "      <td>0.000213</td>\n",
       "      <td>0.134487</td>\n",
       "      <td>0.469453</td>\n",
       "      <td>0.500000</td>\n",
       "      <td>21</td>\n",
       "    </tr>\n",
       "    <tr>\n",
       "      <th>2</th>\n",
       "      <td>2030</td>\n",
       "      <td>346541355</td>\n",
       "      <td>1</td>\n",
       "      <td>2020-07-28 16:47:30.562041</td>\n",
       "      <td>2021-09-16 17:38:17.765416</td>\n",
       "      <td>Light Curve File (LCF)</td>\n",
       "      <td>55.161537</td>\n",
       "      <td>28.773338</td>\n",
       "      <td>20.3987</td>\n",
       "      <td>-38.01080</td>\n",
       "      <td>...</td>\n",
       "      <td>0.023253</td>\n",
       "      <td>0.220588</td>\n",
       "      <td>0.355007</td>\n",
       "      <td>0.051115</td>\n",
       "      <td>0.527911</td>\n",
       "      <td>0.000008</td>\n",
       "      <td>0.032800</td>\n",
       "      <td>0.251320</td>\n",
       "      <td>0.354970</td>\n",
       "      <td>18</td>\n",
       "    </tr>\n",
       "    <tr>\n",
       "      <th>3</th>\n",
       "      <td>1471</td>\n",
       "      <td>312286761</td>\n",
       "      <td>1</td>\n",
       "      <td>2020-07-28 16:45:29.069188</td>\n",
       "      <td>2021-09-16 17:37:38.354150</td>\n",
       "      <td>Light Curve File (LCF)</td>\n",
       "      <td>313.346924</td>\n",
       "      <td>48.514586</td>\n",
       "      <td>23.8000</td>\n",
       "      <td>25.00000</td>\n",
       "      <td>...</td>\n",
       "      <td>0.169456</td>\n",
       "      <td>0.115990</td>\n",
       "      <td>0.500283</td>\n",
       "      <td>0.277052</td>\n",
       "      <td>0.298072</td>\n",
       "      <td>0.000293</td>\n",
       "      <td>0.341625</td>\n",
       "      <td>0.277210</td>\n",
       "      <td>0.500080</td>\n",
       "      <td>15,16</td>\n",
       "    </tr>\n",
       "    <tr>\n",
       "      <th>4</th>\n",
       "      <td>3097</td>\n",
       "      <td>234211934</td>\n",
       "      <td>1</td>\n",
       "      <td>2020-07-28 17:16:19.969356</td>\n",
       "      <td>2021-09-16 17:39:35.270961</td>\n",
       "      <td>Light Curve File (LCF)</td>\n",
       "      <td>101.666801</td>\n",
       "      <td>1.154377</td>\n",
       "      <td>71.4745</td>\n",
       "      <td>-258.12900</td>\n",
       "      <td>...</td>\n",
       "      <td>0.061270</td>\n",
       "      <td>0.232948</td>\n",
       "      <td>0.499714</td>\n",
       "      <td>0.096260</td>\n",
       "      <td>0.280296</td>\n",
       "      <td>0.000445</td>\n",
       "      <td>0.080485</td>\n",
       "      <td>0.263834</td>\n",
       "      <td>0.500113</td>\n",
       "      <td>6</td>\n",
       "    </tr>\n",
       "  </tbody>\n",
       "</table>\n",
       "<p>5 rows × 29 columns</p>\n",
       "</div>"
      ],
      "text/plain": [
       "   index    tess_id  signal_id                  date_added  \\\n",
       "0   2753  157968186          1  2020-07-28 16:50:44.500967   \n",
       "1   2478  233635280          1  2020-07-28 16:49:22.006020   \n",
       "2   2030  346541355          1  2020-07-28 16:47:30.562041   \n",
       "3   1471  312286761          1  2020-07-28 16:45:29.069188   \n",
       "4   3097  234211934          1  2020-07-28 17:16:19.969356   \n",
       "\n",
       "                date_modified                  source          ra        dec  \\\n",
       "0  2021-09-16 17:39:10.203436  Light Curve File (LCF)  218.803247  24.639262   \n",
       "1  2021-09-16 17:38:50.601406  Light Curve File (LCF)  146.047415  25.353183   \n",
       "2  2021-09-16 17:38:17.765416  Light Curve File (LCF)   55.161537  28.773338   \n",
       "3  2021-09-16 17:37:38.354150  Light Curve File (LCF)  313.346924  48.514586   \n",
       "4  2021-09-16 17:39:35.270961  Light Curve File (LCF)  101.666801   1.154377   \n",
       "\n",
       "      pmra      pmdec  ...  sec_width_pf  sec_depth_pf  sec_pos_pf  \\\n",
       "0 -22.6250   -6.06443  ...      0.074643      0.293904    0.500003   \n",
       "1  58.7280  -75.75820  ...      0.090341      0.411639    0.499469   \n",
       "2  20.3987  -38.01080  ...      0.023253      0.220588    0.355007   \n",
       "3  23.8000   25.00000  ...      0.169456      0.115990    0.500283   \n",
       "4  71.4745 -258.12900  ...      0.061270      0.232948    0.499714   \n",
       "\n",
       "   prim_width_2g  prim_depth_2g  prim_pos_2g  sec_width_2g  sec_depth_2g  \\\n",
       "0       0.106826       0.432710     0.000005      0.108546      0.330823   \n",
       "1       0.131712       0.486997     0.000213      0.134487      0.469453   \n",
       "2       0.051115       0.527911     0.000008      0.032800      0.251320   \n",
       "3       0.277052       0.298072     0.000293      0.341625      0.277210   \n",
       "4       0.096260       0.280296     0.000445      0.080485      0.263834   \n",
       "\n",
       "   sec_pos_2g  sectors  \n",
       "0    0.500000    23,24  \n",
       "1    0.500000       21  \n",
       "2    0.354970       18  \n",
       "3    0.500080    15,16  \n",
       "4    0.500113        6  \n",
       "\n",
       "[5 rows x 29 columns]"
      ]
     },
     "execution_count": 6,
     "metadata": {},
     "output_type": "execute_result"
    }
   ],
   "source": [
    "#First let's limit all of the data to shorter period objects, as we are only going to download one sector worth of data for each object. \n",
    "#If you decide to modify the code to handle multiple sectors, this may not be necessary. \n",
    "EBs = EBs[EBs['period'] < 27]\n",
    "#Some data is missing, particularly the transit width. We will just ignore those as there are so many EBs anyways, but there are better ways to handle this in practice. \n",
    "EBs = EBs.dropna()\n",
    "planets = planets[planets['Period (days)'] < 27]\n",
    "\n",
    "\n",
    "#Get a random sub-sample of EBs to match the number of planets\n",
    "EBs_sub = EBs.sample(n=len(planets)).reset_index()\n",
    "EBs_sub.head()"
   ]
  },
  {
   "cell_type": "markdown",
   "id": "c04abe69-ee25-4629-b82f-a9b4bba23cfe",
   "metadata": {},
   "source": [
    "# Step 3 - explore your data\n",
    "\n",
    "Let's take a look at what we know about these objects. We may need to change or modify the data to be consistent as it comes from different sources. This is known as feature engineering. While the ML models get a lot of the attention, this is actually the most important step. If you don't have good clean data going in to the model, your results will never reach the potential. "
   ]
  },
  {
   "cell_type": "code",
   "execution_count": 7,
   "id": "271b4652-6c6d-42ec-a9ff-84b01441ba13",
   "metadata": {},
   "outputs": [
    {
     "name": "stdout",
     "output_type": "stream",
     "text": [
      "Index(['index', 'tess_id', 'signal_id', 'date_added', 'date_modified',\n",
      "       'source', 'ra', 'dec', 'pmra', 'pmdec', 'Tmag', 'bjd0', 'bjd0_uncert',\n",
      "       'period', 'period_uncert', 'morph_coeff', 'prim_width_pf',\n",
      "       'prim_depth_pf', 'prim_pos_pf', 'sec_width_pf', 'sec_depth_pf',\n",
      "       'sec_pos_pf', 'prim_width_2g', 'prim_depth_2g', 'prim_pos_2g',\n",
      "       'sec_width_2g', 'sec_depth_2g', 'sec_pos_2g', 'sectors'],\n",
      "      dtype='object')\n",
      "Index(['TIC ID', 'TOI', 'CTOI', 'Master priority', 'SG1A priority',\n",
      "       'SG1B priority', 'SG2 priority', 'SG3 priority', 'SG4 priority',\n",
      "       'SG5 priority', 'ESM', 'TSM', 'Predicted Mass (M_Earth)',\n",
      "       'Time Series Observations', 'Spectroscopy Observations',\n",
      "       'Imaging Observations', 'TESS Disposition', 'TFOPWG Disposition',\n",
      "       'TESS mag', 'TESS mag error', 'Pipeline Signal ID', 'Source',\n",
      "       'Detection', 'RA (deg)', 'Dec (deg)', 'PM RA (mas/yr)', 'PM RA error',\n",
      "       'PM Dec (mas/yr)', 'PM Dec error', 'Transit Epoch (BJD)',\n",
      "       'Transit Epoch error', 'Period (days)', 'Period error',\n",
      "       'Duration (hours)', 'Duration error', 'Depth (mmag)',\n",
      "       'Depth (mmag) error', 'Depth (ppm)', 'Depth (ppm) error',\n",
      "       'Planet Radius (R_Earth)', 'Planet Radius error',\n",
      "       'Planet Insolation (Earth flux)', 'Planet Eq Temp (K)', 'Planet SNR',\n",
      "       'Stellar Distance (pc)', 'Stellar Distance error', 'Stellar Teff (K)',\n",
      "       'Stellar Teff error', 'Stellar log(g) (cm/s2)', 'Stellar log(g) error',\n",
      "       'Stellar Radius (R_Sun)', 'Stellar Radius error', 'Stellar Metallicity',\n",
      "       'Stellar Metallicity error', 'Stellar Mass (M_Sun)',\n",
      "       'Stellar Mass error', 'Sectors', 'Comments',\n",
      "       'Date TOI Alerted (by TESS Project)',\n",
      "       'Date TOI Updated (by TESS Project)', 'Date Modified (by ExoFOP-TESS)'],\n",
      "      dtype='object')\n"
     ]
    }
   ],
   "source": [
    "#first lets identify what bits of data overlap between the two input sources. \n",
    "print(EBs_sub.keys())\n",
    "print(planets.keys())"
   ]
  },
  {
   "cell_type": "code",
   "execution_count": 8,
   "id": "6091275e-1d86-4baf-b01a-7931f88ef8c4",
   "metadata": {},
   "outputs": [
    {
     "data": {
      "text/plain": [
       "Index(['index', 'TIC ID', 'signal_id', 'date_added', 'date_modified', 'source',\n",
       "       'ra', 'dec', 'PM RA (mas/yr)', 'PM Dec (mas/yr)', 'TESS mag',\n",
       "       'Transit Epoch (MBJD)', 'bjd0_uncert', 'Period (days)', 'period_uncert',\n",
       "       'morph_coeff', 'prim_width_pf', 'prim_depth_pf', 'prim_pos_pf',\n",
       "       'sec_width_pf', 'sec_depth_pf', 'sec_pos_pf', 'prim_width_2g',\n",
       "       'prim_depth_2g', 'prim_pos_2g', 'sec_width_2g', 'sec_depth_2g',\n",
       "       'sec_pos_2g', 'sectors', 'Duration (hours)', 'Depth (mmag)'],\n",
       "      dtype='object')"
      ]
     },
     "execution_count": 8,
     "metadata": {},
     "output_type": "execute_result"
    }
   ],
   "source": [
    "#There are a handful of overlapping features. Let's pick those out and match them together. \n",
    "#Note that the EBs have two values for the transit fit, _pf and _2g for a polychain fit and a 2D Gaussian fit. Here I'm just picking the polychain fit, but that may lose important information. Worth looking at more.  \n",
    "\n",
    "#Make sure the equivalent features from both datasets are on the same scale\n",
    "EBs_sub['Duration (hours)'] = EBs_sub['prim_width_pf']*EBs_sub['period']*24\n",
    "EBs_sub['Depth (mmag)'] = EBs_sub['prim_depth_pf']*1.0863*1000 #convert to mmag\n",
    "\n",
    "\n",
    "planets['Transit Epoch (MBJD)'] = planets['Transit Epoch (BJD)'] - 2457000\n",
    "\n",
    "EBs_sub = EBs_sub.rename(columns={'tess_id':'TIC ID', 'Tmag':'TESS mag', 'bjd0':'Transit Epoch (MBJD)',\n",
    "                                  'period':'Period (days)','pmra':'PM RA (mas/yr)','pmdec':'PM Dec (mas/yr)'})\n",
    "EBs_sub.keys()"
   ]
  },
  {
   "cell_type": "code",
   "execution_count": 9,
   "id": "0d6e5a26-8551-475b-9f6a-076a30c6ad44",
   "metadata": {},
   "outputs": [
    {
     "data": {
      "image/png": "[encoded data removed]",
      "text/plain": [
       "<Figure size 432x288 with 1 Axes>"
      ]
     },
     "metadata": {
      "needs_background": "light"
     },
     "output_type": "display_data"
    },
    {
     "data": {
      "image/png": "[encoded data removed]",
      "text/plain": [
       "<Figure size 432x288 with 1 Axes>"
      ]
     },
     "metadata": {
      "needs_background": "light"
     },
     "output_type": "display_data"
    }
   ],
   "source": [
    "#Visualize the data. Are the units consistent? Do they fall in expected ranges? This is just a small example, but it is wise to explore the data in more detail.\n",
    "\n",
    "def plot_histo(feature):\n",
    "    plt.title(feature)\n",
    "    plt.hist(planets[feature], alpha=0.5, label='Planet')\n",
    "    plt.hist(EBs_sub[feature], alpha=0.5, label='EB')\n",
    "    plt.legend()\n",
    "    plt.show()\n",
    "plot_histo('TESS mag')\n",
    "plot_histo('Period (days)')\n"
   ]
  },
  {
   "cell_type": "code",
   "execution_count": 10,
   "id": "5985561f-b49f-4a33-b1de-b7d1b0c39de5",
   "metadata": {},
   "outputs": [
    {
     "data": {
      "text/html": [
       "SearchResult containing 3 data products.\n",
       "\n",
       "<table id=\"table140679467636096\">\n",
       "<thead><tr><th>#</th><th>mission</th><th>year</th><th>author</th><th>exptime</th><th>target_name</th><th>distance</th></tr></thead>\n",
       "<thead><tr><th></th><th></th><th></th><th></th><th>s</th><th></th><th>arcsec</th></tr></thead>\n",
       "<tr><td>0</td><td>TESS Sector 23</td><td>2020</td><td><a href='https://heasarc.gsfc.nasa.gov/docs/tess/pipeline.html'>SPOC</a></td><td>120</td><td>157968186</td><td>0.0</td></tr>\n",
       "<tr><td>1</td><td>TESS Sector 24</td><td>2020</td><td><a href='https://heasarc.gsfc.nasa.gov/docs/tess/pipeline.html'>SPOC</a></td><td>120</td><td>157968186</td><td>0.0</td></tr>\n",
       "<tr><td>2</td><td>TESS Sector 50</td><td>2022</td><td><a href='https://heasarc.gsfc.nasa.gov/docs/tess/pipeline.html'>SPOC</a></td><td>120</td><td>157968186</td><td>0.0</td></tr>\n",
       "</table>"
      ],
      "text/plain": [
       "SearchResult containing 3 data products.\n",
       "\n",
       " #     mission     year author exptime target_name distance\n",
       "                                  s                 arcsec \n",
       "--- -------------- ---- ------ ------- ----------- --------\n",
       "  0 TESS Sector 23 2020   SPOC     120   157968186      0.0\n",
       "  1 TESS Sector 24 2020   SPOC     120   157968186      0.0\n",
       "  2 TESS Sector 50 2022   SPOC     120   157968186      0.0"
      ]
     },
     "execution_count": 10,
     "metadata": {},
     "output_type": "execute_result"
    }
   ],
   "source": [
    "#Lets just pick one random example of each type of object to inspect what our data looks like. \n",
    "#test_eb = 'TIC 143924219'\n",
    "test_eb = EBs_sub['TIC ID'][0]\n",
    "search_result = lk.search_lightcurve('TIC %s'%test_eb, author='SPOC', exptime=120)\n",
    "search_result"
   ]
  },
  {
   "cell_type": "code",
   "execution_count": 11,
   "id": "9930c72c-8978-4848-9c16-91afdbe84c4a",
   "metadata": {},
   "outputs": [
    {
     "name": "stdout",
     "output_type": "stream",
     "text": [
      "Period:  [2.06881355] d\n",
      "Epoch:  [1931.38631061]\n",
      "Transit Duration:  [3.5857533] h\n"
     ]
    },
    {
     "data": {
      "text/plain": [
       "<AxesSubplot:xlabel='Phase [JD]', ylabel='Normalized Flux'>"
      ]
     },
     "execution_count": 11,
     "metadata": {},
     "output_type": "execute_result"
    },
    {
     "data": {
      "image/png": "[encoded data removed]",
      "text/plain": [
       "<Figure size 848.5x400 with 1 Axes>"
      ]
     },
     "metadata": {},
     "output_type": "display_data"
    },
    {
     "data": {
      "image/png": "[encoded data removed]",
      "text/plain": [
       "<Figure size 848.5x400 with 1 Axes>"
      ]
     },
     "metadata": {},
     "output_type": "display_data"
    }
   ],
   "source": [
    "#Download the first available sector\n",
    "EB = search_result[0].download()\n",
    "EB.normalize().plot()\n",
    "\n",
    "per = Quantity(EBs_sub[EBs_sub['TIC ID'] == test_eb]['Period (days)'],unit='day')\n",
    "ep = Time(EBs_sub[EBs_sub['TIC ID'] == test_eb]['Transit Epoch (MBJD)'],format='btjd')\n",
    "dur = Quantity(EBs_sub[EBs_sub['TIC ID'] == test_eb]['Duration (hours)'], unit='hour')\n",
    "print('Period: ',per)\n",
    "print('Epoch: ', ep)\n",
    "print('Transit Duration: ', dur)\n",
    "#Fold the data on the EB period and re-plot\n",
    "ax = EB.normalize().fold(period = per, epoch_time = ep).plot(c='gray')\n",
    "\n",
    "#Make a mask of the primary transit event\n",
    "mask = EB.create_transit_mask(period=per, transit_time = ep, duration= dur)\n",
    "\n",
    "EB.normalize()[mask].fold(period=per, epoch_time = ep).plot(ax = ax, c='red', ms=10, label=None)"
   ]
  },
  {
   "cell_type": "code",
   "execution_count": 12,
   "id": "c64214f2-a1ed-4acf-9fd5-6c813c4c2d62",
   "metadata": {},
   "outputs": [
    {
     "data": {
      "text/html": [
       "SearchResult containing 2 data products.\n",
       "\n",
       "<table id=\"table140679462631264\">\n",
       "<thead><tr><th>#</th><th>mission</th><th>year</th><th>author</th><th>exptime</th><th>target_name</th><th>distance</th></tr></thead>\n",
       "<thead><tr><th></th><th></th><th></th><th></th><th>s</th><th></th><th>arcsec</th></tr></thead>\n",
       "<tr><td>0</td><td>TESS Sector 01</td><td>2018</td><td><a href='https://heasarc.gsfc.nasa.gov/docs/tess/pipeline.html'>SPOC</a></td><td>120</td><td>266980320</td><td>0.0</td></tr>\n",
       "<tr><td>1</td><td>TESS Sector 28</td><td>2020</td><td><a href='https://heasarc.gsfc.nasa.gov/docs/tess/pipeline.html'>SPOC</a></td><td>120</td><td>266980320</td><td>0.0</td></tr>\n",
       "</table>"
      ],
      "text/plain": [
       "SearchResult containing 2 data products.\n",
       "\n",
       " #     mission     year author exptime target_name distance\n",
       "                                  s                 arcsec \n",
       "--- -------------- ---- ------ ------- ----------- --------\n",
       "  0 TESS Sector 01 2018   SPOC     120   266980320      0.0\n",
       "  1 TESS Sector 28 2020   SPOC     120   266980320      0.0"
      ]
     },
     "execution_count": 12,
     "metadata": {},
     "output_type": "execute_result"
    }
   ],
   "source": [
    "test_planet = planets['TIC ID'][0]\n",
    "search_result = lk.search_lightcurve('TIC %s'%test_planet, author='SPOC', exptime=120)\n",
    "search_result"
   ]
  },
  {
   "cell_type": "code",
   "execution_count": 13,
   "id": "a30827cd-3467-4c3c-8afb-001c58fd016c",
   "metadata": {},
   "outputs": [
    {
     "data": {
      "text/plain": [
       "<AxesSubplot:xlabel='Phase [JD]', ylabel='Normalized Flux'>"
      ]
     },
     "execution_count": 13,
     "metadata": {},
     "output_type": "execute_result"
    },
    {
     "data": {
      "image/png": "[encoded data removed]",
      "text/plain": [
       "<Figure size 848.5x400 with 1 Axes>"
      ]
     },
     "metadata": {},
     "output_type": "display_data"
    },
    {
     "data": {
      "image/png": "[encoded data removed]",
      "text/plain": [
       "<Figure size 848.5x400 with 1 Axes>"
      ]
     },
     "metadata": {},
     "output_type": "display_data"
    }
   ],
   "source": [
    "planet = search_result[0].download()\n",
    "planet.normalize().plot()\n",
    "\n",
    "per = Quantity(planets[planets['TIC ID'] == test_planet]['Period (days)'],unit='day')\n",
    "ep = Time(planets[planets['TIC ID'] == test_planet]['Transit Epoch (MBJD)'],format='btjd') \n",
    "dur = Quantity(planets[planets['TIC ID'] == test_planet]['Duration (hours)'], unit='hour')\n",
    "\n",
    "ax = planet.normalize().fold(period=per, epoch_time = ep).plot()\n",
    "\n",
    "mask = planet.create_transit_mask(period=per,\n",
    "                   transit_time = ep,\n",
    "                   duration= dur)\n",
    "\n",
    "planet.normalize()[mask].fold(period=per, \n",
    "                   epoch_time = ep).plot(ax=ax,c='red')"
   ]
  },
  {
   "cell_type": "markdown",
   "id": "e8c4dffd-cd77-49d0-a82c-de00867b863d",
   "metadata": {},
   "source": [
    "# Step 4 - prepare the data for machine learning\n",
    "\n",
    "We will create two datasets, one with metadata describing the object's transit, and the other binned lightcurve data. \n",
    "\n",
    "Note that we aren't doing any special pre-processesing of the metadata values at all, but ML methods like having nice normalized data. Check out https://scikit-learn.org/stable/modules/preprocessing.html and try your hand and preparing the data."
   ]
  },
  {
   "cell_type": "code",
   "execution_count": 14,
   "id": "6c7ba1bd-1644-4951-988b-b28b04d6dab8",
   "metadata": {},
   "outputs": [
    {
     "data": {
      "text/html": [
       "<div>\n",
       "<style scoped>\n",
       "    .dataframe tbody tr th:only-of-type {\n",
       "        vertical-align: middle;\n",
       "    }\n",
       "\n",
       "    .dataframe tbody tr th {\n",
       "        vertical-align: top;\n",
       "    }\n",
       "\n",
       "    .dataframe thead th {\n",
       "        text-align: right;\n",
       "    }\n",
       "</style>\n",
       "<table border=\"1\" class=\"dataframe\">\n",
       "  <thead>\n",
       "    <tr style=\"text-align: right;\">\n",
       "      <th></th>\n",
       "      <th>label</th>\n",
       "      <th>TIC ID</th>\n",
       "      <th>PM RA (mas/yr)</th>\n",
       "      <th>PM Dec (mas/yr)</th>\n",
       "      <th>TESS mag</th>\n",
       "      <th>Transit Epoch (MBJD)</th>\n",
       "      <th>Period (days)</th>\n",
       "      <th>Duration (hours)</th>\n",
       "      <th>Depth (mmag)</th>\n",
       "    </tr>\n",
       "  </thead>\n",
       "  <tbody>\n",
       "    <tr>\n",
       "      <th>0</th>\n",
       "      <td>EB</td>\n",
       "      <td>157968186</td>\n",
       "      <td>-22.6250</td>\n",
       "      <td>-6.06443</td>\n",
       "      <td>8.91335</td>\n",
       "      <td>1931.386311</td>\n",
       "      <td>2.068814</td>\n",
       "      <td>3.585753</td>\n",
       "      <td>423.307407</td>\n",
       "    </tr>\n",
       "    <tr>\n",
       "      <th>1</th>\n",
       "      <td>EB</td>\n",
       "      <td>233635280</td>\n",
       "      <td>58.7280</td>\n",
       "      <td>-75.75820</td>\n",
       "      <td>8.60894</td>\n",
       "      <td>1870.792297</td>\n",
       "      <td>1.374205</td>\n",
       "      <td>3.002032</td>\n",
       "      <td>459.662789</td>\n",
       "    </tr>\n",
       "    <tr>\n",
       "      <th>2</th>\n",
       "      <td>EB</td>\n",
       "      <td>346541355</td>\n",
       "      <td>20.3987</td>\n",
       "      <td>-38.01080</td>\n",
       "      <td>7.27652</td>\n",
       "      <td>1793.663305</td>\n",
       "      <td>8.161155</td>\n",
       "      <td>7.044762</td>\n",
       "      <td>514.205245</td>\n",
       "    </tr>\n",
       "    <tr>\n",
       "      <th>3</th>\n",
       "      <td>EB</td>\n",
       "      <td>312286761</td>\n",
       "      <td>23.8000</td>\n",
       "      <td>25.00000</td>\n",
       "      <td>11.42060</td>\n",
       "      <td>1711.448260</td>\n",
       "      <td>0.509999</td>\n",
       "      <td>1.196751</td>\n",
       "      <td>148.928960</td>\n",
       "    </tr>\n",
       "    <tr>\n",
       "      <th>4</th>\n",
       "      <td>EB</td>\n",
       "      <td>234211934</td>\n",
       "      <td>71.4745</td>\n",
       "      <td>-258.12900</td>\n",
       "      <td>11.44210</td>\n",
       "      <td>1468.811066</td>\n",
       "      <td>1.064934</td>\n",
       "      <td>1.520433</td>\n",
       "      <td>281.777839</td>\n",
       "    </tr>\n",
       "  </tbody>\n",
       "</table>\n",
       "</div>"
      ],
      "text/plain": [
       "  label     TIC ID  PM RA (mas/yr)  PM Dec (mas/yr)  TESS mag  \\\n",
       "0    EB  157968186        -22.6250         -6.06443   8.91335   \n",
       "1    EB  233635280         58.7280        -75.75820   8.60894   \n",
       "2    EB  346541355         20.3987        -38.01080   7.27652   \n",
       "3    EB  312286761         23.8000         25.00000  11.42060   \n",
       "4    EB  234211934         71.4745       -258.12900  11.44210   \n",
       "\n",
       "   Transit Epoch (MBJD)  Period (days)  Duration (hours)  Depth (mmag)  \n",
       "0           1931.386311       2.068814          3.585753    423.307407  \n",
       "1           1870.792297       1.374205          3.002032    459.662789  \n",
       "2           1793.663305       8.161155          7.044762    514.205245  \n",
       "3           1711.448260       0.509999          1.196751    148.928960  \n",
       "4           1468.811066       1.064934          1.520433    281.777839  "
      ]
     },
     "execution_count": 14,
     "metadata": {},
     "output_type": "execute_result"
    }
   ],
   "source": [
    "#Add in the 'ground truth' labels so we can measure the performance\n",
    "EBs_sub['label'] = ['EB']*len(EBs_sub)\n",
    "planets['label'] = ['P']*len(planets)\n",
    "\n",
    "#Common features from the two datasets\n",
    "shared_keys = ['label','TIC ID', 'PM RA (mas/yr)','PM Dec (mas/yr)','TESS mag', 'Transit Epoch (MBJD)','Period (days)','Duration (hours)','Depth (mmag)']\n",
    "\n",
    "meta = pd.concat([EBs_sub[shared_keys], planets[shared_keys]], ignore_index=True)\n",
    "meta.head()"
   ]
  },
  {
   "cell_type": "markdown",
   "id": "fd0b7993-c46f-4528-acf5-141776d01c2f",
   "metadata": {},
   "source": [
    "For supervised learning (when using a dataset with known labels to train the model, as we are doing here), it is essential that your training data is not used at all when testing your model. This would lead to a false and overly optimistic evaluation of your model. An easy way to split up the data is with sklearn's train_test_split function, where you can provide the relative size of your datasets. Here we shuffle the data so that we get a random slection of EBs and planets.\n",
    "\n",
    "In this notebook we will only implement the most basic algorithms. It is worth playing around with the models, tweaking different hyperparameters and tracking the model performance across the changes. "
   ]
  },
  {
   "cell_type": "code",
   "execution_count": 15,
   "id": "ddc5fa01-a334-460b-856c-18ff19999c76",
   "metadata": {},
   "outputs": [
    {
     "name": "stdout",
     "output_type": "stream",
     "text": [
      "251 63\n"
     ]
    }
   ],
   "source": [
    "train, test = train_test_split(meta, train_size=0.8, shuffle=True)\n",
    "print(len(train), len(test))"
   ]
  },
  {
   "cell_type": "code",
   "execution_count": 16,
   "id": "b982f7ac-a21a-4659-94fc-8ca339e970c5",
   "metadata": {},
   "outputs": [
    {
     "name": "stdout",
     "output_type": "stream",
     "text": [
      "251 63\n"
     ]
    },
    {
     "data": {
      "text/plain": [
       "array(['EB', 'P'], dtype=object)"
      ]
     },
     "execution_count": 16,
     "metadata": {},
     "output_type": "execute_result"
    }
   ],
   "source": [
    "#Separate the metadata from the label data. \n",
    "def prep_data(df):\n",
    "    df = df.dropna().reset_index()\n",
    "    y = df[['TIC ID','label']]\n",
    "    X = df.drop(columns=['TIC ID','label', 'index'])\n",
    "    return (y, X)\n",
    "\n",
    "y_train_meta, X_train_meta = prep_data(train)\n",
    "y_test_meta, X_test_meta = prep_data(test)\n",
    "print(len(X_train_meta), len(X_test_meta))\n",
    "\n",
    "#Convert the label strings to binary values needed for ML\n",
    "#This is a super handy tool for doing this easily. You can even save out your encoder to use later. \n",
    "le = LabelEncoder()\n",
    "le.fit(y_train_meta['label'])\n",
    "le.classes_"
   ]
  },
  {
   "cell_type": "code",
   "execution_count": 17,
   "id": "62c34a13-b480-404c-854f-d1439ee2d760",
   "metadata": {},
   "outputs": [
    {
     "data": {
      "text/html": [
       "<div>\n",
       "<style scoped>\n",
       "    .dataframe tbody tr th:only-of-type {\n",
       "        vertical-align: middle;\n",
       "    }\n",
       "\n",
       "    .dataframe tbody tr th {\n",
       "        vertical-align: top;\n",
       "    }\n",
       "\n",
       "    .dataframe thead th {\n",
       "        text-align: right;\n",
       "    }\n",
       "</style>\n",
       "<table border=\"1\" class=\"dataframe\">\n",
       "  <thead>\n",
       "    <tr style=\"text-align: right;\">\n",
       "      <th></th>\n",
       "      <th>PM RA (mas/yr)</th>\n",
       "      <th>PM Dec (mas/yr)</th>\n",
       "      <th>TESS mag</th>\n",
       "      <th>Transit Epoch (MBJD)</th>\n",
       "      <th>Period (days)</th>\n",
       "      <th>Duration (hours)</th>\n",
       "      <th>Depth (mmag)</th>\n",
       "    </tr>\n",
       "  </thead>\n",
       "  <tbody>\n",
       "    <tr>\n",
       "      <th>0</th>\n",
       "      <td>-24.24630</td>\n",
       "      <td>21.818400</td>\n",
       "      <td>11.49000</td>\n",
       "      <td>1930.082579</td>\n",
       "      <td>0.588243</td>\n",
       "      <td>1.186962</td>\n",
       "      <td>69.277492</td>\n",
       "    </tr>\n",
       "    <tr>\n",
       "      <th>1</th>\n",
       "      <td>71.47450</td>\n",
       "      <td>-258.129000</td>\n",
       "      <td>11.44210</td>\n",
       "      <td>1468.811066</td>\n",
       "      <td>1.064934</td>\n",
       "      <td>1.520433</td>\n",
       "      <td>281.777839</td>\n",
       "    </tr>\n",
       "    <tr>\n",
       "      <th>2</th>\n",
       "      <td>-16.05320</td>\n",
       "      <td>0.401263</td>\n",
       "      <td>11.42590</td>\n",
       "      <td>1826.541508</td>\n",
       "      <td>14.498288</td>\n",
       "      <td>5.021470</td>\n",
       "      <td>154.966069</td>\n",
       "    </tr>\n",
       "    <tr>\n",
       "      <th>3</th>\n",
       "      <td>-68.26270</td>\n",
       "      <td>-27.022500</td>\n",
       "      <td>9.30460</td>\n",
       "      <td>1571.073096</td>\n",
       "      <td>0.512334</td>\n",
       "      <td>1.605658</td>\n",
       "      <td>432.955058</td>\n",
       "    </tr>\n",
       "    <tr>\n",
       "      <th>4</th>\n",
       "      <td>6.37297</td>\n",
       "      <td>-11.912700</td>\n",
       "      <td>9.30545</td>\n",
       "      <td>1792.931274</td>\n",
       "      <td>8.803258</td>\n",
       "      <td>12.860484</td>\n",
       "      <td>607.554104</td>\n",
       "    </tr>\n",
       "  </tbody>\n",
       "</table>\n",
       "</div>"
      ],
      "text/plain": [
       "   PM RA (mas/yr)  PM Dec (mas/yr)  TESS mag  Transit Epoch (MBJD)  \\\n",
       "0       -24.24630        21.818400  11.49000           1930.082579   \n",
       "1        71.47450      -258.129000  11.44210           1468.811066   \n",
       "2       -16.05320         0.401263  11.42590           1826.541508   \n",
       "3       -68.26270       -27.022500   9.30460           1571.073096   \n",
       "4         6.37297       -11.912700   9.30545           1792.931274   \n",
       "\n",
       "   Period (days)  Duration (hours)  Depth (mmag)  \n",
       "0       0.588243          1.186962     69.277492  \n",
       "1       1.064934          1.520433    281.777839  \n",
       "2      14.498288          5.021470    154.966069  \n",
       "3       0.512334          1.605658    432.955058  \n",
       "4       8.803258         12.860484    607.554104  "
      ]
     },
     "execution_count": 17,
     "metadata": {},
     "output_type": "execute_result"
    }
   ],
   "source": [
    "#Let's look at what our final dataset looks like\n",
    "X_train_meta.head()"
   ]
  },
  {
   "cell_type": "code",
   "execution_count": 18,
   "id": "9eaf0541-d223-491a-928d-1e3023e6e0aa",
   "metadata": {},
   "outputs": [
    {
     "data": {
      "text/html": [
       "<div>\n",
       "<style scoped>\n",
       "    .dataframe tbody tr th:only-of-type {\n",
       "        vertical-align: middle;\n",
       "    }\n",
       "\n",
       "    .dataframe tbody tr th {\n",
       "        vertical-align: top;\n",
       "    }\n",
       "\n",
       "    .dataframe thead th {\n",
       "        text-align: right;\n",
       "    }\n",
       "</style>\n",
       "<table border=\"1\" class=\"dataframe\">\n",
       "  <thead>\n",
       "    <tr style=\"text-align: right;\">\n",
       "      <th></th>\n",
       "      <th>TIC ID</th>\n",
       "      <th>label</th>\n",
       "    </tr>\n",
       "  </thead>\n",
       "  <tbody>\n",
       "    <tr>\n",
       "      <th>0</th>\n",
       "      <td>207504663</td>\n",
       "      <td>EB</td>\n",
       "    </tr>\n",
       "    <tr>\n",
       "      <th>1</th>\n",
       "      <td>234211934</td>\n",
       "      <td>EB</td>\n",
       "    </tr>\n",
       "    <tr>\n",
       "      <th>2</th>\n",
       "      <td>468754960</td>\n",
       "      <td>EB</td>\n",
       "    </tr>\n",
       "    <tr>\n",
       "      <th>3</th>\n",
       "      <td>162585265</td>\n",
       "      <td>EB</td>\n",
       "    </tr>\n",
       "    <tr>\n",
       "      <th>4</th>\n",
       "      <td>436863045</td>\n",
       "      <td>EB</td>\n",
       "    </tr>\n",
       "  </tbody>\n",
       "</table>\n",
       "</div>"
      ],
      "text/plain": [
       "      TIC ID label\n",
       "0  207504663    EB\n",
       "1  234211934    EB\n",
       "2  468754960    EB\n",
       "3  162585265    EB\n",
       "4  436863045    EB"
      ]
     },
     "execution_count": 18,
     "metadata": {},
     "output_type": "execute_result"
    }
   ],
   "source": [
    "y_train_meta.head()"
   ]
  },
  {
   "cell_type": "markdown",
   "id": "0235fd4d-8af2-4cd2-af20-7a7d0dbc1eed",
   "metadata": {},
   "source": [
    "Now it's time to put your TESS knowledge to use. We want to make a dataset that contains the the local and global lightcurves. I recommend making a CSV containing at least columns containing the TIC ID, the label, and the lightcurve (one column per bin). The columns need to be in the same lenght"
   ]
  },
  {
   "cell_type": "code",
   "execution_count": 19,
   "id": "bcf08e6f-b099-496e-96f6-bbcf2e7eb7ba",
   "metadata": {},
   "outputs": [],
   "source": [
    "#Bin and fold the lightcurves. You can change these lengths to what you think is reasonable given your data. \n",
    "\n",
    "global_len = 400\n",
    "local_len = 100\n",
    "\n",
    "def get_lightcurves():\n",
    "    #write your binning functions here! Might be a good idea to save out plots of the data as well so you can see what is happening. \n",
    "    #Remember, the global lightcurve is the full phase-folded lightcurve binned to global_len bins\n",
    "    #The local lightcurve is zoomed into the the transit event. The cutout region should be relative to the transit duration.\n",
    "    return (global_lc, local_lc)\n",
    "\n",
    "\n",
    "#wrapper function to create lightcurves from your training or test dataset\n",
    "def prep_nn_timeseries():\n",
    "    # Call the binning function you wrote above and save out a csv file\n",
    "    return #global_lcs, local_lcs\n",
    "\n",
    "#If you want to use the same training/test sets as for the RF, pass the TIC IDs to your function so you get the same targets\n",
    "\n",
    "#Note, reading in all of the fits files can take a bit of time, so I'd save out your csv to use next time you run the notebook. "
   ]
  },
  {
   "cell_type": "code",
   "execution_count": 20,
   "id": "63c5c843-3fef-4661-91a7-34c8c4b5ff5d",
   "metadata": {
    "tags": []
   },
   "outputs": [
    {
     "ename": "NameError",
     "evalue": "name 'train_lcs_global' is not defined",
     "output_type": "error",
     "traceback": [
      "\u001b[0;31m---------------------------------------------------------------------------\u001b[0m",
      "\u001b[0;31mNameError\u001b[0m                                 Traceback (most recent call last)",
      "Input \u001b[0;32mIn [20]\u001b[0m, in \u001b[0;36m<cell line: 4>\u001b[0;34m()\u001b[0m\n\u001b[1;32m      1\u001b[0m \u001b[38;5;66;03m#Now lets check the shape of our training and test datasets. \u001b[39;00m\n\u001b[1;32m      2\u001b[0m \u001b[38;5;66;03m#Keeping track of your data shapes is very important for neural networks, so get in the habit of checking. \u001b[39;00m\n\u001b[1;32m      3\u001b[0m \u001b[38;5;66;03m#Should be of the shape (number_of_samples, global_len+2), assuming you only added TIC ID and label\u001b[39;00m\n\u001b[0;32m----> 4\u001b[0m \u001b[38;5;28mprint\u001b[39m(\u001b[43mtrain_lcs_global\u001b[49m\u001b[38;5;241m.\u001b[39mshape)\n\u001b[1;32m      5\u001b[0m \u001b[38;5;28mprint\u001b[39m(train_lcs_local\u001b[38;5;241m.\u001b[39mshape)\n\u001b[1;32m      6\u001b[0m \u001b[38;5;28mprint\u001b[39m(test_lcs_global\u001b[38;5;241m.\u001b[39mshape)\n",
      "\u001b[0;31mNameError\u001b[0m: name 'train_lcs_global' is not defined"
     ]
    }
   ],
   "source": [
    "#Now lets check the shape of our training and test datasets. \n",
    "#Keeping track of your data shapes is very important for neural networks, so get in the habit of checking. \n",
    "#Should be of the shape (number_of_samples, global_len+2), assuming you only added TIC ID and label\n",
    "print(train_lcs_global.shape)\n",
    "print(train_lcs_local.shape)\n",
    "print(test_lcs_global.shape)\n",
    "print(test_lcs_local.shape)"
   ]
  },
  {
   "cell_type": "code",
   "execution_count": null,
   "id": "b76384d6-d4f5-43a4-88b2-a0afd8c36496",
   "metadata": {},
   "outputs": [],
   "source": [
    "#Get rid of any rows that contain nans if you have any. These will make your CNN unhappy (try leaving them in to see what happens)\n"
   ]
  },
  {
   "cell_type": "code",
   "execution_count": null,
   "id": "c4aa25fb-70c1-4364-bd63-3f8385b0189c",
   "metadata": {},
   "outputs": [],
   "source": [
    "#Reshape the data so they are in the format keras wants. Getting all the data in the right format is (more than) half the battle with keras!\n",
    "#THIS ASSUMES YOUR CSV HAS COLUMNS IN THE ORDER TIC ID, LABEL, LIGHTCURVE of length n\n",
    "x_train_global = train_lcs_global.values[:,2:].reshape((train_lcs_global.values[:,2:].shape[0], train_lcs_global.values[:,2:].shape[1], 1))\n",
    "x_test_global = test_lcs_global.values[:,2:].reshape((test_lcs_global.values[:,2:].shape[0], test_lcs_global.values[:,2:].shape[1], 1))\n",
    "\n",
    "x_train_local = train_lcs_local.values[:,2:].reshape((train_lcs_local.values[:,2:].shape[0], train_lcs_local.values[:,2:].shape[1], 1))\n",
    "x_test_local = test_lcs_local.values[:,2:].reshape((test_lcs_local.values[:,2:].shape[0], test_lcs_local.values[:,2:].shape[1], 1))\n",
    "\n",
    "print(x_train_global.shape, x_test_global.shape)\n",
    "print(x_train_local.shape, x_test_local.shape)"
   ]
  },
  {
   "cell_type": "code",
   "execution_count": null,
   "id": "52420964-c482-487b-9076-a0c930685459",
   "metadata": {},
   "outputs": [],
   "source": [
    "#Remember, our Y data cas a column for tic id and label\n",
    "y_train = train_lcs_local.values[:,1]\n",
    "y_test = test_lcs_local.values[:,1]\n",
    "\n"
   ]
  },
  {
   "cell_type": "markdown",
   "id": "eb89b080-a1db-471a-bee8-5dc1926f66d1",
   "metadata": {},
   "source": [
    "# Step 5 - Create your ML models"
   ]
  },
  {
   "cell_type": "code",
   "execution_count": null,
   "id": "0e07eec8-6ca2-4217-b42c-9e9143300aca",
   "metadata": {},
   "outputs": [],
   "source": [
    "# create an RFC with 25 trees in the forest. It's really that easy!\n",
    "# see the sklearn documentation for other tuning parameters\n",
    "clf = RandomForestClassifier(n_estimators = 25) \n",
    "clf.fit(X_train_meta.to_numpy(), le.transform(y_train_meta['label']))\n",
    "y_pred_rfc = clf.predict(X_test_meta.to_numpy())"
   ]
  },
  {
   "cell_type": "markdown",
   "id": "5c2116ba-a8ca-470b-9212-4c959ba65aa9",
   "metadata": {},
   "source": [
    "Let's look at our results. A classic way to look at classification results is with a confusion matrix, where we compare the ground truth with the model output. Correct labels will fall on the top-left to bottom-right diagonal, while wrong prediction are off the diagonal. Let's see how our model performed. "
   ]
  },
  {
   "cell_type": "code",
   "execution_count": null,
   "id": "62ae452f-e20f-4460-a955-446f3a561d9e",
   "metadata": {},
   "outputs": [],
   "source": [
    "cm = confusion_matrix(le.transform(y_test_meta['label']), y_pred_rfc)\n",
    "ConfusionMatrixDisplay(cm,display_labels=le.classes_).plot(cmap='Reds')"
   ]
  },
  {
   "cell_type": "markdown",
   "id": "4b3870a0-3426-4ab7-b64f-d935e6c34a22",
   "metadata": {},
   "source": [
    "Looks pretty good! There are lots of other ways to evaluate your model (precision, recall, F1 score,...) Check out the sklearn documentation and try a few of them out here. Depending on the goal of your model, the metric you end us using may change. Keep in mind, this is also using a very small number of features. You can improve this dataset by adding more features from information contained in the TESS fits header of each star, or even query another catalog like Gaia. The sky is the limit here. The good the about RFCs is that they are pretty robust to non-relavant data, so there isn't a lot of harm in trying out many different features. "
   ]
  },
  {
   "cell_type": "markdown",
   "id": "555ec045-ac08-421d-be35-79de32ad2f7d",
   "metadata": {},
   "source": [
    "Creating a neural network is a bit more involved. Below I've included two different models, one that takes only the local lightcurve as input and the second that considers both the global and local view. Note that several authors (e.g. Ansdell et al, 2018; Osborn et al 2020) have noted that including additional information will improve the results. This can include lightcurve centroid information (tracking how the center of light in the pixel shifts during the transit, which can expose blended sources). It is also a great idea to incorporate the meta data into the NN model. Can you modify the code below to make these changes?"
   ]
  },
  {
   "cell_type": "code",
   "execution_count": null,
   "id": "4ebd2661-7661-4a85-ab5c-509bfb46705f",
   "metadata": {},
   "outputs": [],
   "source": [
    "def single_input_model():\n",
    "    #Input layer gives the shape of your data. \n",
    "    input_layer = keras.layers.Input(shape = (local_len,1))\n",
    "\n",
    "    #These are the convolutional layers. Notice you can change the number of filters, kernel size, etc\n",
    "    #I didn't do any dropout layers here (helps with overfitting). Can you put them in?\n",
    "    conv1 = keras.layers.Conv1D(filters=64, kernel_size=3, padding=\"causal\")(input_layer)\n",
    "    conv1 = keras.layers.BatchNormalization()(conv1)\n",
    "    conv1 = keras.layers.ReLU()(conv1)\n",
    "\n",
    "    conv2 = keras.layers.Conv1D(filters=64, kernel_size=3, padding=\"causal\")(conv1)\n",
    "    conv2 = keras.layers.BatchNormalization()(conv2)\n",
    "    conv2 = keras.layers.ReLU()(conv2)\n",
    "\n",
    "    conv3 = keras.layers.Conv1D(filters=64, kernel_size=3, padding=\"causal\")(conv2)\n",
    "    conv3 = keras.layers.BatchNormalization()(conv3)\n",
    "    conv3 = keras.layers.ReLU()(conv3)\n",
    "\n",
    "    gap = keras.layers.GlobalAveragePooling1D()(conv3)\n",
    "    \n",
    "    #The dense layers are the ordinary neural network layers\n",
    "    dense1 = keras.layers.Dense(256, activation='relu')(gap)\n",
    "    \n",
    "    #for a binary classifier, the output layer size is 1, as the output is a single number between 0 and 1. \n",
    "    #A sigmoid activation function is good for a binary output layer. Can you figure out why that might be the case?\n",
    "    output_layer = keras.layers.Dense(1, activation=\"sigmoid\")(dense1)\n",
    "    \n",
    "    model = keras.models.Model(inputs=input_layer, outputs=output_layer)\n",
    "\n",
    "    model.compile(\n",
    "    optimizer='adam',\n",
    "    loss=\"binary_crossentropy\",\n",
    "    metrics=[\"accuracy\"],\n",
    ")\n",
    "    return model\n",
    "\n",
    "\n",
    "def multi_input_model():\n",
    "    #Now we have 2 inputs, the global light curves and the local light curves\n",
    "    inputA = keras.layers.Input(shape=(global_len,1))\n",
    "    inputB = keras.layers.Input(shape=(local_len,1))\n",
    "    \n",
    "    #Convolutions on the global lc\n",
    "    A = keras.layers.Conv1D(filters=64, kernel_size=3, padding=\"causal\", activation='relu')(inputA)\n",
    "    A = keras.layers.Conv1D(filters=64, kernel_size=3, padding=\"causal\", activation='relu')(A)\n",
    "    #A = keras.layers.ReLU()(A)\n",
    "    A = keras.layers.MaxPooling1D(pool_size=3, strides=2)(A)\n",
    "    A = keras.layers.Dropout(0.2)(A)\n",
    "    A = keras.layers.Flatten()(A)\n",
    "    A = keras.models.Model(inputA, A)\n",
    "    \n",
    "    #Convolutions on the local lc\n",
    "    B = keras.layers.Conv1D(filters=64, kernel_size=3, padding=\"causal\", activation='relu')(inputB)\n",
    "    B = keras.layers.Conv1D(filters=64, kernel_size=3, padding=\"causal\", activation='relu')(B)\n",
    "    #B = keras.layers.ReLU()(B)\n",
    "    B = keras.layers.MaxPooling1D(pool_size=3, strides=2)(B)\n",
    "    B = keras.layers.Dropout(0.2)(B)\n",
    "    B = keras.layers.Flatten()(B)\n",
    "    B = keras.models.Model(inputB, B)\n",
    "    \n",
    "    #Combine the two convolution branches before entering the dense layers\n",
    "    combined = keras.layers.concatenate([A.output, B.output])\n",
    "\n",
    "    \n",
    "    C = keras.layers.Dense(512, activation='relu', kernel_initializer='he_normal')(combined)\n",
    "    C = keras.layers.Dropout(0.2)(C)\n",
    "    C = keras.layers.Dense(512, activation='relu', kernel_initializer='he_normal')(C)\n",
    "    C = keras.layers.Dropout(0.2)(C)\n",
    "    C = keras.layers.Dense(1, activation='sigmoid')(C)\n",
    "    model = keras.models.Model(inputs=[A.input, B.input], outputs=C)\n",
    "    \n",
    "    model.compile(\n",
    "    optimizer=keras.optimizers.Adamax(lr=0.001),\n",
    "    loss=\"binary_crossentropy\",\n",
    "    metrics=[\"accuracy\"],\n",
    ")\n",
    "    return model\n",
    "\n",
    "input_model = single_input_model()\n",
    "history = input_model.fit(\n",
    "    x_train_local.astype('float32'),\n",
    "    le.transform(y_train),\n",
    "    batch_size=20,\n",
    "    epochs=25,\n",
    "    validation_split=0.2,\n",
    "    verbose=1,\n",
    ")\n",
    "\n",
    "'''input2_model = multi_input_model()\n",
    "history = input2_model.fit(\n",
    "    [x_train_global.astype('float32'), x_train_local.astype('float32')],\n",
    "    le.transform(y_train),\n",
    "    batch_size=20,\n",
    "    epochs=25,\n",
    "    validation_split=0.2,\n",
    "    verbose=1,\n",
    ")'''"
   ]
  },
  {
   "cell_type": "code",
   "execution_count": null,
   "id": "4823c562-b8ab-438e-b252-e09f070ab28b",
   "metadata": {},
   "outputs": [],
   "source": [
    "y_pred_CNN = input_model.predict(x_test_local.astype('float32'))\n",
    "#y_pred_CNN = input2_model.predict([x_test_global.astype('float32'), x_test_local.astype('float32')])\n",
    "print(y_pred_CNN[:5])"
   ]
  },
  {
   "cell_type": "markdown",
   "id": "4a1ed080-f047-4104-bb65-d2736ed26080",
   "metadata": {},
   "source": [
    "This doesn't look like the binary outputs we expected to convert back into classes. That's because the final layer of our model uses a sigmoid activation function, so the 'prediction' is a value between 0 and 1 and can be treated like a probability score, with values closer to 0 or 1 being more confident in the prediction. Let's binarize it by making the cutoff threshold 0.5.\n",
    "\n"
   ]
  },
  {
   "cell_type": "code",
   "execution_count": null,
   "id": "854faf7c-db58-446a-b01b-99688aa7fa92",
   "metadata": {},
   "outputs": [],
   "source": [
    "y_pred_CNN_binary = [1 if x >=0.5 else 0 for x in y_pred_CNN]"
   ]
  },
  {
   "cell_type": "code",
   "execution_count": null,
   "id": "dca84d67-f008-403f-8329-42a51f87e157",
   "metadata": {},
   "outputs": [],
   "source": [
    "cm = confusion_matrix(le.transform(y_test), y_pred_CNN_binary)\n",
    "ConfusionMatrixDisplay(cm,display_labels=le.classes_).plot(cmap='Reds')"
   ]
  },
  {
   "cell_type": "markdown",
   "id": "4ff5c15b-f719-4890-87c8-e087dd274422",
   "metadata": {},
   "source": [
    "The performance doesn't quite match the simple RFC. However, for this model, no hyperparameter tuning was done (batch size, number of epochs, size and number of convolutional and dense layers, etc). Try testing out different configurations to see how it goes - you can definitely improve this result! But remember, you don't want to be dealing with the test dataset until all of your models have been trained and you are ready for final production. Instead of using the confusion matrix like above for each model, pay attention to the val_accuracy that gets spit out with each of your epochs. Each epoch pulls out a validation set from the training data to check the progress on 'fresh' data. "
   ]
  },
  {
   "cell_type": "markdown",
   "id": "e7d854ee-1624-4731-8d2e-267c793c1e36",
   "metadata": {},
   "source": [
    "# Step 6 - analysis"
   ]
  },
  {
   "cell_type": "markdown",
   "id": "c802015e-15a9-4b74-a66d-7aa23b6c23c1",
   "metadata": {},
   "source": [
    "Let's take a look at a few other measures to try to understand our data a little more. First, let's look at the RFC. One of the reasons RFCs are extremely popular, other than their sheer simplicity, is that the creation of the model gets you a measure of the importance of each of the input features to making correct predictions. This can give some insight into what the model is picking up on. Let's plot that here. What conclusions can you make based on these results? Try adding more features and see how this changes. "
   ]
  },
  {
   "cell_type": "code",
   "execution_count": null,
   "id": "a6606466-092c-430a-9147-c47044a828d7",
   "metadata": {},
   "outputs": [],
   "source": [
    "importance_list, zipped_name_list = zip(*sorted(zip(clf.feature_importances_, X_train_meta.columns)))\n",
    "\n",
    "fig, ax = plt.subplots(figsize=(10,6))\n",
    "ax.barh(range(len(zipped_name_list)), importance_list, align='center')\n",
    "ax.set_yticks(range(len(zipped_name_list)), zipped_name_list, size=16)\n",
    "ax.set_xlabel('Relative Feature importance for the RFC', fontsize=20)\n",
    "ax.set_ylabel('Features', fontsize=20)\n",
    "plt.show()"
   ]
  },
  {
   "cell_type": "markdown",
   "id": "4399ed55-53cf-420a-b59d-e91efa77ec9c",
   "metadata": {},
   "source": [
    "Another very popular visualization is called the Receiver Operating Characteristic (ROC) curve and the related Area Under the Curve (https://towardsdatascience.com/understanding-auc-roc-curve-68b2303cc9c5). Let's implement this for our models. Note we use our RFC again but calling predict_proba() rather than just predict() as we did above because we want to see how changing the prediction threshold changes the outcome, which isn't possible with just the binary prediction. "
   ]
  },
  {
   "cell_type": "code",
   "execution_count": null,
   "id": "e97318e5-1de4-4e16-9b0a-a6bcd28e93e5",
   "metadata": {},
   "outputs": [],
   "source": [
    "fpr_keras, tpr_keras, thresholds_keras = roc_curve(le.transform(y_test), y_pred_CNN)\n",
    "auc_keras = auc(fpr_keras, tpr_keras)\n",
    "\n",
    "rfc_proba = clf.predict_proba(X_test_meta.to_numpy())[:,1]\n",
    "\n",
    "fpr_rfc, tpr_rfc, thresholds_rfc = roc_curve(le.transform(y_test_meta['label']), rfc_proba)\n",
    "auc_rfc = auc(fpr_rfc, tpr_rfc)\n",
    "\n",
    "plt.figure(1)\n",
    "plt.plot([0, 1], [0, 1], 'k--')\n",
    "plt.plot(fpr_keras, tpr_keras, label='Keras (area = {:.3f})'.format(auc_keras))\n",
    "plt.plot(fpr_rfc, tpr_rfc, label='RFC (area = {:.3f})'.format(auc_rfc))\n",
    "plt.xlabel('False positive rate')\n",
    "plt.ylabel('True positive rate')\n",
    "plt.title('ROC curve')\n",
    "plt.legend(loc='best')\n",
    "plt.show()"
   ]
  },
  {
   "cell_type": "markdown",
   "id": "170811ef-bf44-4f83-9718-75df35b440cd",
   "metadata": {},
   "source": [
    "How do your models look? If all goes as expected, they should both be performing quite well. This is to be expected as most EBs have substantially deeper transits than planets. You can explore the data more, and even look at the lightcurves and metadata for sampels the models got wrong to see if there is something obvious going on that could be improved. \n",
    "\n",
    "This hackathon notebook has just touched on a few points in the much larger field of machine learning. There is so much to explore! The great thing about machine learning is that once you learn the mechanics, you can apply it to new datasets quite seamlessly. But remember, the feature engineering is very important, so you will still need to spend plenty of time preparing your datasets. "
   ]
  },
  {
   "cell_type": "markdown",
   "id": "761009e8-e65e-43d8-9652-011a81bc728e",
   "metadata": {},
   "source": [
    "REFERENCES: \n",
    "    \n",
    "Machine learning is a rapidly evolving subject, so keeping up with the latest models can be difficult. But there are tons of great resources out there. I tend to start with searching the internet for blog posts about the method you are interested in and following the links from there to find out more. There are also really good youtube tutorials that you can find. It is well worth some time learning about the basics of a variety of different methods. \n",
    "\n",
    "Once you're familiar with the concepts, you can check out some TESS-related projects relating to machine learning\n",
    "\n",
    "Yu et al (2019) Identifying Exoplanets with Deep Learning. III. Automated Triage and Vetting of TESS Candidates - https://ui.adsabs.harvard.edu/abs/2019AJ....158...25Y/abstract\n",
    "\n",
    "Osborn et al (2020) Rapid classification of TESS planet candidates with convolutional neural networks - https://ui.adsabs.harvard.edu/abs/2020A%26A...633A..53O/abstract\n",
    "\n",
    "Rao et al (2021) Nigraha: Find and evaluate planet candidates from TESS light curves - https://ui.adsabs.harvard.edu/abs/2021MNRAS.502.2845R/abstract\n",
    "\n",
    "Olmschenk et al (2021) Identifying Planetary Transit Candidates in TESS Full-frame Image Light Curves via Convolutional Neural Networks - https://ui.adsabs.harvard.edu/abs/2021AJ....161..273O/abstract\n",
    "\n",
    "Hon et al (2021) A \"Quick Look\" at All-sky Galactic Archeology with TESS: 158,000 Oscillating Red Giants from the MIT Quick-look Pipeline - https://ui.adsabs.harvard.edu/abs/2021ApJ...919..131H/abstract\n",
    "\n",
    "Feinstein et al (2022) Testing Self-organized Criticality across the Main Sequence Using Stellar Flares from TESS - https://ui.adsabs.harvard.edu/abs/2022ApJ...925L...9F/abstract\n",
    "\n",
    "And many more! \n",
    "\n",
    "\n"
   ]
  },
  {
   "cell_type": "code",
   "execution_count": null,
   "id": "1636c951-b9da-4911-b6d3-ba0dade10018",
   "metadata": {},
   "outputs": [],
   "source": []
  },
  {
   "cell_type": "code",
   "execution_count": null,
   "id": "574e11e0-aad5-44de-9893-35bfc3c39247",
   "metadata": {},
   "outputs": [],
   "source": []
  }
 ],
 "metadata": {
  "kernelspec": {
   "display_name": "TESS Environment",
   "language": "python",
   "name": "tess"
  },
  "language_info": {
   "codemirror_mode": {
    "name": "ipython",
    "version": 3
   },
   "file_extension": ".py",
   "mimetype": "text/x-python",
   "name": "python",
   "nbconvert_exporter": "python",
   "pygments_lexer": "ipython3",
   "version": "3.8.13"
  }
 },
 "nbformat": 4,
 "nbformat_minor": 5
}
