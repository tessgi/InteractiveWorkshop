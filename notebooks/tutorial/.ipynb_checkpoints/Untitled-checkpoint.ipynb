{
 "cells": [
  {
   "cell_type": "markdown",
   "id": "3fef866a-6edf-4c29-bd73-75065048eaab",
   "metadata": {},
   "source": [
    "# Fitting Linear Models to Data\n",
    "\n",
    "*Note: This content is adapted from [Building Fast Linear Models for Astronomers](https://christinahedges.github.io/BuildingFastLinearModels/), which goes into greater detail on all these points.*\n",
    "\n",
    "In astronomy data we often have multiple signals both from our astrophysical objects of interest and some systematic noise terms. We might be looking at\n",
    "\n",
    "- 1D time series data\n",
    "- 2D imaging data\n",
    "- 3D data of images over time\n",
    "- Higher dimensional data from catalogs\n",
    "\n",
    "And we frequently want to remove some **systematics**, to get our best understanding of the truth. \"Systematics\" is an astronomy catch-all term that might mean something like\n",
    "\n",
    "- A systematic offset in image frames due to sky background\n",
    "- A systematic and predictable signal in our time-series data due to thermal changes in an instrument\n",
    "- A systematic increase in brightness in a spectrum at the faint end\n",
    "\n",
    "And many others.\n",
    "\n",
    "So how do we get the true flux of a star in an image with a systematic brightness? How do we detrend our noisy time series to remove the impact of thermal changes and preserve the true signal? How do we get accurate spectra?\n",
    "\n",
    "And, crucially, how do we do it fast.\n",
    "\n",
    "We're going to have to come up with some **model** for our data. This means modeling our systematics, and any astrophysical signal that's in our data, at the same time. We're going to do this with a **linear model**."
   ]
  },
  {
   "cell_type": "code",
   "execution_count": null,
   "id": "ad305fdf-b19a-48c1-b290-75a2851f7c05",
   "metadata": {},
   "outputs": [],
   "source": []
  }
 ],
 "metadata": {
  "kernelspec": {
   "display_name": "Python 3 (ipykernel)",
   "language": "python",
   "name": "python3"
  },
  "language_info": {
   "codemirror_mode": {
    "name": "ipython",
    "version": 3
   },
   "file_extension": ".py",
   "mimetype": "text/x-python",
   "name": "python",
   "nbconvert_exporter": "python",
   "pygments_lexer": "ipython3",
   "version": "3.9.13"
  }
 },
 "nbformat": 4,
 "nbformat_minor": 5
}
