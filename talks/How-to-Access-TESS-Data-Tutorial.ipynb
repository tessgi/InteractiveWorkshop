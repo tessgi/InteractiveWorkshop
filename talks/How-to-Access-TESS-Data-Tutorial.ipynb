{
 "cells": [
  {
   "cell_type": "markdown",
   "id": "6320d8d2-4a14-4087-b6fd-69813c8c6f17",
   "metadata": {},
   "source": [
    "# How to Access TESS Data: `astroquery`"
   ]
  },
  {
   "cell_type": "markdown",
   "id": "e69949b1-217b-490f-8856-66eee4dc498d",
   "metadata": {},
   "source": [
    "## Introduction\n",
    "\n",
    "This notebook uses the MAST Portal's advanced search options to retrieve\n",
    "1. all TESS light curves for a single target, and \n",
    "2. all data products from an example TESS Guest Investigator program. \n",
    "\n",
    "The notbook will show how to do an advanced query with `astroquery.mast` and filter out data products that are not desired, and then download the files of interest from the AWS S3 bucket.\n",
    "\n",
    "\n"
   ]
  },
  {
   "cell_type": "markdown",
   "id": "adec5027-fec0-4bcb-8d10-f70f42fff5ff",
   "metadata": {},
   "source": [
    "## Imports\n",
    "- The `Observations` module from `astroquery.mast` is needed to make the query and download the data\n",
    "\n",
    "NOTE -- If you are running this notebook on the TIKE, as recommended, you should not need to install or update your `astroquery` package"
   ]
  },
  {
   "cell_type": "code",
   "execution_count": 1,
   "id": "cf652882-ba92-4509-93c8-15bf0714299e",
   "metadata": {
    "tags": []
   },
   "outputs": [],
   "source": [
    "from astroquery.mast import Observations"
   ]
  },
  {
   "cell_type": "markdown",
   "id": "4a5db2d2-6e9a-4aa0-a8e4-27ccd3d2b529",
   "metadata": {},
   "source": [
    "All data from the TESS Mission are available for free on Amazon Web Services in public S3 buckets. (See the small caveat to this at the end of this notebook.) But we need to tell `astroquery` to download any data directly from the S3 bucket rather than retrieve it from the MAST servers.\n",
    "\n",
    "NOTE -- Using AWS resources to access public MAST data does **not** require an AWS account for all AWS regions. See the [`astroquery.mast` documentation](https://astroquery.readthedocs.io/en/latest/mast/mast.html#cloud-data-access) for more details."
   ]
  },
  {
   "cell_type": "code",
   "execution_count": 2,
   "id": "88425042-75e0-4e43-b720-3c5d1ccb8ac7",
   "metadata": {
    "tags": []
   },
   "outputs": [
    {
     "name": "stdout",
     "output_type": "stream",
     "text": [
      "INFO: Using the S3 STScI public dataset [astroquery.mast.cloud]\n"
     ]
    }
   ],
   "source": [
    "Observations.enable_cloud_dataset(provider='AWS')"
   ]
  },
  {
   "cell_type": "markdown",
   "id": "966c29df-1038-4c0e-9eec-c701662843cc",
   "metadata": {
    "tags": []
   },
   "source": [
    "## Query for a specific target\n",
    "In this example, we want to retrieve all TESS data (light curves, target pixel files, and data validation files) for the target TIC 7854182, a known $\\delta$ Scuti star in an eclipsing binary (Chen et al. 2022, Kahraman Aliçavuş et al. 2017, Liakos & Niarchos 2017).\n",
    "\n",
    "Feel free to use your favorite target here instead!"
   ]
  },
  {
   "cell_type": "code",
   "execution_count": 3,
   "id": "58b42980-ba7d-4cf0-9189-677a4299f3ac",
   "metadata": {
    "tags": []
   },
   "outputs": [],
   "source": [
    "target_name = \"TIC 7854182\""
   ]
  },
  {
   "cell_type": "code",
   "execution_count": 4,
   "id": "64b09a75-451e-467f-8f72-daeab4e7eee4",
   "metadata": {
    "tags": []
   },
   "outputs": [],
   "source": [
    "obs = Observations.query_object(target_name, radius=\"0s\")\n"
   ]
  },
  {
   "cell_type": "code",
   "execution_count": 5,
   "id": "dd513f12-8fce-4a1c-b44a-edb8999e6eff",
   "metadata": {
    "tags": []
   },
   "outputs": [
    {
     "name": "stdout",
     "output_type": "stream",
     "text": [
      "TOTAL Number of Observations available for TIC 7854182: \n",
      "47\n"
     ]
    }
   ],
   "source": [
    "print(f\"TOTAL Number of Observations available for {target_name}: \\n{len(obs)}\")"
   ]
  },
  {
   "cell_type": "markdown",
   "id": "7307a62f-1bcd-4146-bb50-1227c4f1adf0",
   "metadata": {},
   "source": [
    "The total number of Observations include all Missions (HST, JWST, etc.) in the MAST collection, as we have not filtered down to just TESS data yet.\n",
    "\n",
    "Next, we want to apply the advanced search filters to narrow our results, and retrieve the list of data products that are associated with each Observation.\n",
    "\n",
    "The filter names that can be used in the `get_product_list` function are listed on the [MAST API Field Description Page](https://mast.stsci.edu/api/v0/_c_a_o_mfields.html).\n",
    "\n",
    "To keep this search simple, we will use the following filters:\n",
    "- obs_collection to specify that we only want TESS data\n",
    "- dataproduct_type to specify that we want timeseries data"
   ]
  },
  {
   "cell_type": "code",
   "execution_count": 6,
   "id": "14f4b60b-6f2d-450f-ae60-09b052aaa34a",
   "metadata": {
    "tags": []
   },
   "outputs": [],
   "source": [
    "filters = (obs['obs_collection'] == \"TESS\") & (obs['dataproduct_type'] == 'timeseries')\n",
    "\n",
    "# Pick which products we want to retrieve using the Advanced Search options\n",
    "data_prod = Observations.get_product_list(obs[filters])\n"
   ]
  },
  {
   "cell_type": "code",
   "execution_count": 7,
   "id": "6bd85d5d-232e-4666-907b-8a16a9bc515e",
   "metadata": {
    "tags": []
   },
   "outputs": [
    {
     "name": "stdout",
     "output_type": "stream",
     "text": [
      "Number of TESS time series data products available for TIC 7854182: \n",
      "76\n"
     ]
    }
   ],
   "source": [
    "print(f\"Number of TESS time series data products available for {target_name}: \\n{len(data_prod)}\")"
   ]
  },
  {
   "cell_type": "code",
   "execution_count": 8,
   "id": "18d0e162-9d58-4927-a30a-7ad52f523dae",
   "metadata": {
    "tags": []
   },
   "outputs": [
    {
     "data": {
      "text/html": [
       "<div><i>Table masked=True length=5</i>\n",
       "<table id=\"table140435566046176\" class=\"table-striped table-bordered table-condensed\">\n",
       "<thead><tr><th>obsID</th><th>obs_collection</th><th>dataproduct_type</th><th>obs_id</th><th>description</th><th>type</th><th>dataURI</th><th>productType</th><th>productGroupDescription</th><th>productSubGroupDescription</th><th>productDocumentationURL</th><th>project</th><th>prvversion</th><th>proposal_id</th><th>productFilename</th><th>size</th><th>parent_obsid</th><th>dataRights</th><th>calib_level</th></tr></thead>\n",
       "<thead><tr><th>str8</th><th>str4</th><th>str10</th><th>str47</th><th>str33</th><th>str1</th><th>str81</th><th>str7</th><th>str28</th><th>str3</th><th>str1</th><th>str4</th><th>str20</th><th>str7</th><th>str63</th><th>int64</th><th>str8</th><th>str6</th><th>int64</th></tr></thead>\n",
       "<tr><td>91541675</td><td>TESS</td><td>timeseries</td><td>tess2022190063128-s0054-0000000007854182-0227-s</td><td>TCE summary report</td><td>S</td><td>mast:TESS/product/tess2022190092448-s0054-s0054-0000000007854182-01-00645_dvs.pdf</td><td>INFO</td><td>Minimum Recommended Products</td><td>DVS</td><td>--</td><td>SPOC</td><td>42dc8a2f6f</td><td>G04123</td><td>tess2022190092448-s0054-s0054-0000000007854182-01-00645_dvs.pdf</td><td>1261215</td><td>91541675</td><td>PUBLIC</td><td>3</td></tr>\n",
       "<tr><td>91541675</td><td>TESS</td><td>timeseries</td><td>tess2022190063128-s0054-0000000007854182-0227-s</td><td>TCE summary report</td><td>S</td><td>mast:TESS/product/tess2022190092448-s0054-s0054-0000000007854182-02-00645_dvs.pdf</td><td>INFO</td><td>Minimum Recommended Products</td><td>DVS</td><td>--</td><td>SPOC</td><td>42dc8a2f6f</td><td>G04123</td><td>tess2022190092448-s0054-s0054-0000000007854182-02-00645_dvs.pdf</td><td>1235945</td><td>91541675</td><td>PUBLIC</td><td>3</td></tr>\n",
       "<tr><td>91541675</td><td>TESS</td><td>timeseries</td><td>tess2022190063128-s0054-0000000007854182-0227-s</td><td>Data validation time series</td><td>S</td><td>mast:TESS/product/tess2022190092448-s0054-s0054-0000000007854182-00645_dvt.fits</td><td>SCIENCE</td><td>Minimum Recommended Products</td><td>DVT</td><td>--</td><td>SPOC</td><td>42dc8a2f6f</td><td>G04123</td><td>tess2022190092448-s0054-s0054-0000000007854182-00645_dvt.fits</td><td>4651200</td><td>91541675</td><td>PUBLIC</td><td>3</td></tr>\n",
       "<tr><td>91541675</td><td>TESS</td><td>timeseries</td><td>tess2022190063128-s0054-0000000007854182-0227-s</td><td>Light curves</td><td>S</td><td>mast:TESS/product/tess2022190063128-s0054-0000000007854182-0227-s_lc.fits</td><td>SCIENCE</td><td>Minimum Recommended Products</td><td>LC</td><td>--</td><td>SPOC</td><td>42dc8a2f6f</td><td>G04123</td><td>tess2022190063128-s0054-0000000007854182-0227-s_lc.fits</td><td>1918080</td><td>91541675</td><td>PUBLIC</td><td>3</td></tr>\n",
       "<tr><td>91541675</td><td>TESS</td><td>timeseries</td><td>tess2022190063128-s0054-0000000007854182-0227-s</td><td>Target pixel files</td><td>S</td><td>mast:TESS/product/tess2022190063128-s0054-0000000007854182-0227-s_tp.fits</td><td>SCIENCE</td><td>Minimum Recommended Products</td><td>TP</td><td>--</td><td>SPOC</td><td>spoc-5.0.74-20220814</td><td>G04123</td><td>tess2022190063128-s0054-0000000007854182-0227-s_tp.fits</td><td>46281600</td><td>91541675</td><td>PUBLIC</td><td>2</td></tr>\n",
       "</table></div>"
      ],
      "text/plain": [
       "<Table masked=True length=5>\n",
       " obsID   obs_collection dataproduct_type ... parent_obsid dataRights calib_level\n",
       "  str8        str4           str10       ...     str8        str6       int64   \n",
       "-------- -------------- ---------------- ... ------------ ---------- -----------\n",
       "91541675           TESS       timeseries ...     91541675     PUBLIC           3\n",
       "91541675           TESS       timeseries ...     91541675     PUBLIC           3\n",
       "91541675           TESS       timeseries ...     91541675     PUBLIC           3\n",
       "91541675           TESS       timeseries ...     91541675     PUBLIC           3\n",
       "91541675           TESS       timeseries ...     91541675     PUBLIC           2"
      ]
     },
     "metadata": {},
     "output_type": "display_data"
    }
   ],
   "source": [
    "display(data_prod[-5:])"
   ]
  },
  {
   "cell_type": "markdown",
   "id": "c57d8f09-3fe7-4bc9-adbd-97d72a61b4e9",
   "metadata": {},
   "source": [
    "If we decide that we only want to download, e.g., the light curve files, we can further filter the products list based on the columns/fields in the table.\n",
    "\n",
    "Descriptions of each of the product filters that can be used in the `filter_products` function are available on the [MAST API Product Field Description page](https://mast.stsci.edu/api/v0/_productsfields.html)."
   ]
  },
  {
   "cell_type": "code",
   "execution_count": 9,
   "id": "bcd93629-586e-437a-a3e9-9a8993895a7c",
   "metadata": {
    "tags": []
   },
   "outputs": [
    {
     "data": {
      "text/plain": [
       "['obsID',\n",
       " 'obs_collection',\n",
       " 'dataproduct_type',\n",
       " 'obs_id',\n",
       " 'description',\n",
       " 'type',\n",
       " 'dataURI',\n",
       " 'productType',\n",
       " 'productGroupDescription',\n",
       " 'productSubGroupDescription',\n",
       " 'productDocumentationURL',\n",
       " 'project',\n",
       " 'prvversion',\n",
       " 'proposal_id',\n",
       " 'productFilename',\n",
       " 'size',\n",
       " 'parent_obsid',\n",
       " 'dataRights',\n",
       " 'calib_level']"
      ]
     },
     "execution_count": 9,
     "metadata": {},
     "output_type": "execute_result"
    }
   ],
   "source": [
    "data_prod.colnames\n"
   ]
  },
  {
   "cell_type": "code",
   "execution_count": 10,
   "id": "43c1c0ef-64b9-4869-8ac8-e332bc4f34cb",
   "metadata": {
    "tags": []
   },
   "outputs": [],
   "source": [
    "# Select which files to download from the S3 bucket by applying additional filters\n",
    "filt_prod = Observations.filter_products(data_prod, description='Light curves')\n"
   ]
  },
  {
   "cell_type": "code",
   "execution_count": 11,
   "id": "0007d3e6-791c-4c99-b78a-0101a78678e6",
   "metadata": {
    "tags": []
   },
   "outputs": [
    {
     "name": "stdout",
     "output_type": "stream",
     "text": [
      "Number of TESS light curves available for TIC 7854182: \n",
      "7\n"
     ]
    }
   ],
   "source": [
    "print(f\"Number of TESS light curves available for {target_name}: \\n{len(filt_prod)}\")"
   ]
  },
  {
   "cell_type": "code",
   "execution_count": 12,
   "id": "a5cb89c0-c407-490c-8fef-000d3aca8e43",
   "metadata": {
    "tags": []
   },
   "outputs": [
    {
     "data": {
      "text/html": [
       "<div><i>Table masked=True length=7</i>\n",
       "<table id=\"table140435566153680\" class=\"table-striped table-bordered table-condensed\">\n",
       "<thead><tr><th>obsID</th><th>obs_collection</th><th>dataproduct_type</th><th>obs_id</th><th>description</th><th>type</th><th>dataURI</th><th>productType</th><th>productGroupDescription</th><th>productSubGroupDescription</th><th>productDocumentationURL</th><th>project</th><th>prvversion</th><th>proposal_id</th><th>productFilename</th><th>size</th><th>parent_obsid</th><th>dataRights</th><th>calib_level</th></tr></thead>\n",
       "<thead><tr><th>str8</th><th>str4</th><th>str10</th><th>str47</th><th>str33</th><th>str1</th><th>str81</th><th>str7</th><th>str28</th><th>str3</th><th>str1</th><th>str4</th><th>str20</th><th>str7</th><th>str63</th><th>int64</th><th>str8</th><th>str6</th><th>int64</th></tr></thead>\n",
       "<tr><td>27626482</td><td>TESS</td><td>timeseries</td><td>tess2020133194932-s0025-0000000007854182-0182-s</td><td>Light curves</td><td>S</td><td>mast:TESS/product/tess2020133194932-s0025-0000000007854182-0182-s_lc.fits</td><td>SCIENCE</td><td>Minimum Recommended Products</td><td>LC</td><td>--</td><td>SPOC</td><td>b9bb72fe01</td><td>G022062</td><td>tess2020133194932-s0025-0000000007854182-0182-s_lc.fits</td><td>1877760</td><td>27626482</td><td>PUBLIC</td><td>3</td></tr>\n",
       "<tr><td>27671902</td><td>TESS</td><td>timeseries</td><td>tess2020160202036-s0026-0000000007854182-0188-s</td><td>Light curves</td><td>S</td><td>mast:TESS/product/tess2020160202036-s0026-0000000007854182-0188-s_lc.fits</td><td>SCIENCE</td><td>Minimum Recommended Products</td><td>LC</td><td>--</td><td>SPOC</td><td>2f78f64b59</td><td>G022062</td><td>tess2020160202036-s0026-0000000007854182-0188-s_lc.fits</td><td>1820160</td><td>27671902</td><td>PUBLIC</td><td>3</td></tr>\n",
       "<tr><td>62346553</td><td>TESS</td><td>timeseries</td><td>tess2021175071901-s0040-0000000007854182-0211-s</td><td>Light curves</td><td>S</td><td>mast:TESS/product/tess2021175071901-s0040-0000000007854182-0211-s_lc.fits</td><td>SCIENCE</td><td>Minimum Recommended Products</td><td>LC</td><td>--</td><td>SPOC</td><td>0f075725c1</td><td>G04123</td><td>tess2021175071901-s0040-0000000007854182-0211-s_lc.fits</td><td>2062080</td><td>62346553</td><td>PUBLIC</td><td>3</td></tr>\n",
       "<tr><td>62789558</td><td>TESS</td><td>timeseries</td><td>tess2021204101404-s0041-0000000007854182-0212-s</td><td>Light curves</td><td>S</td><td>mast:TESS/product/tess2021204101404-s0041-0000000007854182-0212-s_lc.fits</td><td>SCIENCE</td><td>Minimum Recommended Products</td><td>LC</td><td>--</td><td>SPOC</td><td>c5eccc120c</td><td>G04123</td><td>tess2021204101404-s0041-0000000007854182-0212-s_lc.fits</td><td>1944000</td><td>62789558</td><td>PUBLIC</td><td>3</td></tr>\n",
       "<tr><td>87637038</td><td>TESS</td><td>timeseries</td><td>tess2022138205153-s0052-0000000007854182-0224-s</td><td>Light curves</td><td>S</td><td>mast:TESS/product/tess2022138205153-s0052-0000000007854182-0224-s_lc.fits</td><td>SCIENCE</td><td>Minimum Recommended Products</td><td>LC</td><td>--</td><td>SPOC</td><td>36a1b8e3de</td><td>G04123</td><td>tess2022138205153-s0052-0000000007854182-0224-s_lc.fits</td><td>1791360</td><td>87637038</td><td>PUBLIC</td><td>3</td></tr>\n",
       "<tr><td>87743465</td><td>TESS</td><td>timeseries</td><td>tess2022164095748-s0053-0000000007854182-0226-s</td><td>Light curves</td><td>S</td><td>mast:TESS/product/tess2022164095748-s0053-0000000007854182-0226-s_lc.fits</td><td>SCIENCE</td><td>Minimum Recommended Products</td><td>LC</td><td>--</td><td>SPOC</td><td>36a1b8e3de</td><td>G04123</td><td>tess2022164095748-s0053-0000000007854182-0226-s_lc.fits</td><td>1828800</td><td>87743465</td><td>PUBLIC</td><td>3</td></tr>\n",
       "<tr><td>91541675</td><td>TESS</td><td>timeseries</td><td>tess2022190063128-s0054-0000000007854182-0227-s</td><td>Light curves</td><td>S</td><td>mast:TESS/product/tess2022190063128-s0054-0000000007854182-0227-s_lc.fits</td><td>SCIENCE</td><td>Minimum Recommended Products</td><td>LC</td><td>--</td><td>SPOC</td><td>42dc8a2f6f</td><td>G04123</td><td>tess2022190063128-s0054-0000000007854182-0227-s_lc.fits</td><td>1918080</td><td>91541675</td><td>PUBLIC</td><td>3</td></tr>\n",
       "</table></div>"
      ],
      "text/plain": [
       "<Table masked=True length=7>\n",
       " obsID   obs_collection dataproduct_type ... parent_obsid dataRights calib_level\n",
       "  str8        str4           str10       ...     str8        str6       int64   \n",
       "-------- -------------- ---------------- ... ------------ ---------- -----------\n",
       "27626482           TESS       timeseries ...     27626482     PUBLIC           3\n",
       "27671902           TESS       timeseries ...     27671902     PUBLIC           3\n",
       "62346553           TESS       timeseries ...     62346553     PUBLIC           3\n",
       "62789558           TESS       timeseries ...     62789558     PUBLIC           3\n",
       "87637038           TESS       timeseries ...     87637038     PUBLIC           3\n",
       "87743465           TESS       timeseries ...     87743465     PUBLIC           3\n",
       "91541675           TESS       timeseries ...     91541675     PUBLIC           3"
      ]
     },
     "metadata": {},
     "output_type": "display_data"
    }
   ],
   "source": [
    "display(filt_prod)"
   ]
  },
  {
   "cell_type": "markdown",
   "id": "685f1032-0506-4541-847e-cd97958b4649",
   "metadata": {},
   "source": [
    "Now, we're ready to download the data from the AWS S3 bucket!\n",
    "\n",
    "When set to True, the `cloud_only` parameter in `download_products` skips any data products that are not available in the cloud; all TESS Mission data are available through AWS, so none of the selected data products should be skipped.\n",
    "\n",
    "NOTE -- If you try to download the same file(s) more than once (e.g., by running the cell below multiple times), you should get the message \"Found cached file\" instead of \"Downloading URL\" in the printed manifest."
   ]
  },
  {
   "cell_type": "code",
   "execution_count": 13,
   "id": "c21a8378-dded-4b8e-b22e-4ef0495b84aa",
   "metadata": {
    "tags": []
   },
   "outputs": [
    {
     "name": "stdout",
     "output_type": "stream",
     "text": [
      "Downloading URL s3://stpubdata/tess/public/tid/s0025/0000/0000/0785/4182/tess2020133194932-s0025-0000000007854182-0182-s_lc.fits to ./mastDownload/TESS/tess2020133194932-s0025-0000000007854182-0182-s/tess2020133194932-s0025-0000000007854182-0182-s_lc.fits ... [Done]\n",
      "Downloading URL s3://stpubdata/tess/public/tid/s0026/0000/0000/0785/4182/tess2020160202036-s0026-0000000007854182-0188-s_lc.fits to ./mastDownload/TESS/tess2020160202036-s0026-0000000007854182-0188-s/tess2020160202036-s0026-0000000007854182-0188-s_lc.fits ... [Done]\n",
      "Downloading URL s3://stpubdata/tess/public/tid/s0040/0000/0000/0785/4182/tess2021175071901-s0040-0000000007854182-0211-s_lc.fits to ./mastDownload/TESS/tess2021175071901-s0040-0000000007854182-0211-s/tess2021175071901-s0040-0000000007854182-0211-s_lc.fits ... [Done]\n",
      "Downloading URL s3://stpubdata/tess/public/tid/s0041/0000/0000/0785/4182/tess2021204101404-s0041-0000000007854182-0212-s_lc.fits to ./mastDownload/TESS/tess2021204101404-s0041-0000000007854182-0212-s/tess2021204101404-s0041-0000000007854182-0212-s_lc.fits ... [Done]\n",
      "Downloading URL s3://stpubdata/tess/public/tid/s0052/0000/0000/0785/4182/tess2022138205153-s0052-0000000007854182-0224-s_lc.fits to ./mastDownload/TESS/tess2022138205153-s0052-0000000007854182-0224-s/tess2022138205153-s0052-0000000007854182-0224-s_lc.fits ... [Done]\n",
      "Downloading URL s3://stpubdata/tess/public/tid/s0053/0000/0000/0785/4182/tess2022164095748-s0053-0000000007854182-0226-s_lc.fits to ./mastDownload/TESS/tess2022164095748-s0053-0000000007854182-0226-s/tess2022164095748-s0053-0000000007854182-0226-s_lc.fits ... [Done]\n",
      "Downloading URL s3://stpubdata/tess/public/tid/s0054/0000/0000/0785/4182/tess2022190063128-s0054-0000000007854182-0227-s_lc.fits to ./mastDownload/TESS/tess2022190063128-s0054-0000000007854182-0227-s/tess2022190063128-s0054-0000000007854182-0227-s_lc.fits ... [Done]\n"
     ]
    }
   ],
   "source": [
    "manifest = Observations.download_products(filt_prod, cloud_only=True)\n"
   ]
  },
  {
   "cell_type": "markdown",
   "id": "7d60fa49-924e-47ec-9765-1379b3f436bd",
   "metadata": {},
   "source": [
    "All TESS light curves for TIC 7854182 have been downloaded, and we're ready to start our science!"
   ]
  },
  {
   "cell_type": "markdown",
   "id": "a19de73d-033b-4b48-a31f-21e91f07583d",
   "metadata": {
    "tags": []
   },
   "source": [
    "## Query for a specific Guest Investigator program\n",
    "In this example, we want to retrieve all TESS data (light curves, target pixel files, and data validation files) associated with Guest Investigator program G05101 from Cycle 5 (PI: Susan Mullally).\n",
    "\n",
    "Feel free to use any program here! The list of program IDs can be found at the [TESS GI List of Approved Programs](https://heasarc.gsfc.nasa.gov/docs/tess/approved-programs.html)."
   ]
  },
  {
   "cell_type": "code",
   "execution_count": 14,
   "id": "2d9af135-94c1-4214-9a58-87ecfa9ce1a0",
   "metadata": {
    "tags": []
   },
   "outputs": [],
   "source": [
    "pid = \"G05101\""
   ]
  },
  {
   "cell_type": "code",
   "execution_count": 15,
   "id": "91a25f4c-fa8a-4eca-a731-52e636fee448",
   "metadata": {
    "tags": []
   },
   "outputs": [],
   "source": [
    "obs_pid = Observations.query_criteria(obs_collection = \"TESS\",\n",
    "                                  proposal_id = f\"*{pid}*\")"
   ]
  },
  {
   "cell_type": "code",
   "execution_count": 16,
   "id": "d684eac1-6ac2-4d01-baeb-2b2487988bfa",
   "metadata": {
    "tags": []
   },
   "outputs": [
    {
     "name": "stdout",
     "output_type": "stream",
     "text": [
      "TOTAL Number of Observations available for G05101: \n",
      "49\n"
     ]
    }
   ],
   "source": [
    "print(f\"TOTAL Number of Observations available for {pid}: \\n{len(obs_pid)}\")"
   ]
  },
  {
   "cell_type": "code",
   "execution_count": 17,
   "id": "fd7c29b0-a74b-47d1-82d3-b6db39d65976",
   "metadata": {
    "tags": []
   },
   "outputs": [
    {
     "data": {
      "text/html": [
       "<div><i>Table masked=True length=5</i>\n",
       "<table id=\"table140435531863952\" class=\"table-striped table-bordered table-condensed\">\n",
       "<thead><tr><th>intentType</th><th>obs_collection</th><th>provenance_name</th><th>instrument_name</th><th>project</th><th>filters</th><th>wavelength_region</th><th>target_name</th><th>target_classification</th><th>obs_id</th><th>s_ra</th><th>s_dec</th><th>dataproduct_type</th><th>proposal_pi</th><th>calib_level</th><th>t_min</th><th>t_max</th><th>t_exptime</th><th>em_min</th><th>em_max</th><th>obs_title</th><th>t_obs_release</th><th>proposal_id</th><th>proposal_type</th><th>sequence_number</th><th>s_region</th><th>jpegURL</th><th>dataURL</th><th>dataRights</th><th>mtFlag</th><th>srcDen</th><th>obsid</th><th>objID</th></tr></thead>\n",
       "<thead><tr><th>str7</th><th>str4</th><th>str4</th><th>str10</th><th>str4</th><th>str4</th><th>str7</th><th>str9</th><th>str1</th><th>str52</th><th>float64</th><th>float64</th><th>str10</th><th>str14</th><th>int64</th><th>float64</th><th>float64</th><th>float64</th><th>float64</th><th>float64</th><th>str1</th><th>float64</th><th>str34</th><th>str1</th><th>int64</th><th>str43</th><th>str1</th><th>str79</th><th>str6</th><th>bool</th><th>float64</th><th>str9</th><th>str9</th></tr></thead>\n",
       "<tr><td>science</td><td>TESS</td><td>SPOC</td><td>Photometer</td><td>TESS</td><td>TESS</td><td>Optical</td><td>298411553</td><td>--</td><td>tess2022330142927-s0059-0000000298411553-0248-s</td><td>149.476234232293</td><td>85.4946883170451</td><td>timeseries</td><td>Ricker, George</td><td>3</td><td>59909.7650365625</td><td>59936.18904974537</td><td>120.0</td><td>600.0</td><td>1000.0</td><td>--</td><td>59962.0</td><td>G05101_G05084_G05115_G05081</td><td>--</td><td>59</td><td>CIRCLE 149.47623423 85.49468832 0.00138889</td><td>--</td><td>mast:TESS/product/tess2022330142927-s0059-0000000298411553-0248-s_lc.fits</td><td>PUBLIC</td><td>False</td><td>nan</td><td>113392111</td><td>210500653</td></tr>\n",
       "<tr><td>science</td><td>TESS</td><td>SPOC</td><td>Photometer</td><td>TESS</td><td>TESS</td><td>Optical</td><td>219097989</td><td>--</td><td>tess2022357055054-s0060-0000000219097989-0249-s</td><td>269.658310781969</td><td>66.7811423559296</td><td>timeseries</td><td>Ricker, George</td><td>3</td><td>59936.40188498842</td><td>59962.08243238426</td><td>120.0</td><td>600.0</td><td>1000.0</td><td>--</td><td>59982.0</td><td>G05101</td><td>--</td><td>60</td><td>CIRCLE 269.65831078 66.78114236 0.00138889</td><td>--</td><td>mast:TESS/product/tess2022357055054-s0060-0000000219097989-0249-s_lc.fits</td><td>PUBLIC</td><td>False</td><td>nan</td><td>114309714</td><td>211965772</td></tr>\n",
       "<tr><td>science</td><td>TESS</td><td>SPOC</td><td>Photometer</td><td>TESS</td><td>TESS</td><td>Optical</td><td>383623835</td><td>--</td><td>tess2022330142927-s0059-0000000383623835-0248-s</td><td>270.628087535846</td><td>58.6272659486741</td><td>timeseries</td><td>Ricker, George</td><td>3</td><td>59909.76229211806</td><td>59936.1858008912</td><td>120.0</td><td>600.0</td><td>1000.0</td><td>--</td><td>59962.0</td><td>G05101</td><td>--</td><td>59</td><td>CIRCLE 270.62808754 58.62726595 0.00138889</td><td>--</td><td>mast:TESS/product/tess2022330142927-s0059-0000000383623835-0248-s_lc.fits</td><td>PUBLIC</td><td>False</td><td>nan</td><td>113395560</td><td>210506880</td></tr>\n",
       "<tr><td>science</td><td>TESS</td><td>SPOC</td><td>Photometer</td><td>TESS</td><td>TESS</td><td>Optical</td><td>5914520</td><td>--</td><td>tess2023096110322-s0064-0000000005914520-0257-s</td><td>193.312720118104</td><td>-18.5222248428656</td><td>timeseries</td><td>Ricker, George</td><td>3</td><td>60040.63527681713</td><td>60067.43903234954</td><td>120.0</td><td>600.0</td><td>1000.0</td><td>--</td><td>60087.0</td><td>G05101</td><td>--</td><td>64</td><td>CIRCLE 193.31272012 -18.52222484 0.00138889</td><td>--</td><td>mast:TESS/product/tess2023096110322-s0064-0000000005914520-0257-s_lc.fits</td><td>PUBLIC</td><td>False</td><td>nan</td><td>139084486</td><td>254133156</td></tr>\n",
       "<tr><td>science</td><td>TESS</td><td>SPOC</td><td>Photometer</td><td>TESS</td><td>TESS</td><td>Optical</td><td>420814525</td><td>--</td><td>tess2022244194134-s0056-0000000420814525-0243-s</td><td>330.794887332661</td><td>18.8843189579296</td><td>timeseries</td><td>Ricker, George</td><td>3</td><td>59824.761134409724</td><td>59852.642480821756</td><td>120.0</td><td>600.0</td><td>1000.0</td><td>--</td><td>59873.0</td><td>G05101_G05015_G05144_G05069</td><td>--</td><td>56</td><td>CIRCLE 330.79488733 18.88431896 0.00138889</td><td>--</td><td>mast:TESS/product/tess2022244194134-s0056-0000000420814525-0243-s_lc.fits</td><td>PUBLIC</td><td>False</td><td>nan</td><td>97942919</td><td>184143980</td></tr>\n",
       "</table></div>"
      ],
      "text/plain": [
       "<Table masked=True length=5>\n",
       "intentType obs_collection provenance_name ...  srcDen   obsid     objID  \n",
       "   str7         str4            str4      ... float64    str9      str9  \n",
       "---------- -------------- --------------- ... ------- --------- ---------\n",
       "   science           TESS            SPOC ...     nan 113392111 210500653\n",
       "   science           TESS            SPOC ...     nan 114309714 211965772\n",
       "   science           TESS            SPOC ...     nan 113395560 210506880\n",
       "   science           TESS            SPOC ...     nan 139084486 254133156\n",
       "   science           TESS            SPOC ...     nan  97942919 184143980"
      ]
     },
     "metadata": {},
     "output_type": "display_data"
    }
   ],
   "source": [
    "display(obs_pid[:5])"
   ]
  },
  {
   "cell_type": "markdown",
   "id": "3c2f097c-7f57-402a-9094-e58decf90a21",
   "metadata": {},
   "source": [
    "Next, we will retrieve the list of data products that are associated with each Observation.\n"
   ]
  },
  {
   "cell_type": "code",
   "execution_count": 18,
   "id": "a284a407-22ed-4123-ace4-0a33ae1cad8e",
   "metadata": {
    "tags": []
   },
   "outputs": [],
   "source": [
    "# Pick which products we want to retrieve\n",
    "data_prod_pid = Observations.get_product_list(obs_pid)"
   ]
  },
  {
   "cell_type": "code",
   "execution_count": 19,
   "id": "abef04aa-cf5f-4480-a2dd-7a727bdcf804",
   "metadata": {
    "tags": []
   },
   "outputs": [
    {
     "name": "stdout",
     "output_type": "stream",
     "text": [
      "Number of TESS data products available for G05101: \n",
      "106\n"
     ]
    }
   ],
   "source": [
    "print(f\"Number of TESS data products available for {pid}: \\n{len(data_prod_pid)}\")"
   ]
  },
  {
   "cell_type": "code",
   "execution_count": 20,
   "id": "33289b3b-44f3-4dad-9a57-adc2722700df",
   "metadata": {
    "tags": []
   },
   "outputs": [
    {
     "data": {
      "text/html": [
       "<div><i>Table masked=True length=7</i>\n",
       "<table id=\"table140435566151952\" class=\"table-striped table-bordered table-condensed\">\n",
       "<thead><tr><th>obsID</th><th>obs_collection</th><th>dataproduct_type</th><th>obs_id</th><th>description</th><th>type</th><th>dataURI</th><th>productType</th><th>productGroupDescription</th><th>productSubGroupDescription</th><th>productDocumentationURL</th><th>project</th><th>prvversion</th><th>proposal_id</th><th>productFilename</th><th>size</th><th>parent_obsid</th><th>dataRights</th><th>calib_level</th></tr></thead>\n",
       "<thead><tr><th>str8</th><th>str4</th><th>str10</th><th>str47</th><th>str33</th><th>str1</th><th>str81</th><th>str7</th><th>str28</th><th>str3</th><th>str1</th><th>str4</th><th>str20</th><th>str7</th><th>str63</th><th>int64</th><th>str8</th><th>str6</th><th>int64</th></tr></thead>\n",
       "<tr><td>64265093</td><td>TESS</td><td>timeseries</td><td>tess2019199201929-s0014-s0041-0000000007854182</td><td>TCE summary report</td><td>S</td><td>mast:TESS/product/tess2019199201929-s0014-s0041-0000000007854182-02-00512_dvs.pdf</td><td>INFO</td><td>Minimum Recommended Products</td><td>DVS</td><td>--</td><td>SPOC</td><td>c5eccc120c</td><td>G04123</td><td>tess2019199201929-s0014-s0041-0000000007854182-02-00512_dvs.pdf</td><td>1806484</td><td>64265093</td><td>PUBLIC</td><td>3</td></tr>\n",
       "<tr><td>64265093</td><td>TESS</td><td>timeseries</td><td>tess2019199201929-s0014-s0041-0000000007854182</td><td>TCE summary report</td><td>S</td><td>mast:TESS/product/tess2019199201929-s0014-s0041-0000000007854182-03-00512_dvs.pdf</td><td>INFO</td><td>Minimum Recommended Products</td><td>DVS</td><td>--</td><td>SPOC</td><td>c5eccc120c</td><td>G04123</td><td>tess2019199201929-s0014-s0041-0000000007854182-03-00512_dvs.pdf</td><td>1520264</td><td>64265093</td><td>PUBLIC</td><td>3</td></tr>\n",
       "<tr><td>64265093</td><td>TESS</td><td>timeseries</td><td>tess2019199201929-s0014-s0041-0000000007854182</td><td>Data validation time series</td><td>S</td><td>mast:TESS/product/tess2019199201929-s0014-s0041-0000000007854182-00512_dvt.fits</td><td>SCIENCE</td><td>Minimum Recommended Products</td><td>DVT</td><td>--</td><td>SPOC</td><td>c5eccc120c</td><td>G04123</td><td>tess2019199201929-s0014-s0041-0000000007854182-00512_dvt.fits</td><td>96050880</td><td>64265093</td><td>PUBLIC</td><td>3</td></tr>\n",
       "<tr><td>96861135</td><td>TESS</td><td>timeseries</td><td>tess2019199201929-s0014-s0055-0000000007854182</td><td>full data validation report</td><td>S</td><td>mast:TESS/product/tess2019199201929-s0014-s0055-0000000007854182-00652_dvr.pdf</td><td>INFO</td><td>--</td><td>DVR</td><td>--</td><td>SPOC</td><td>a3d64e14a5</td><td>N/A</td><td>tess2019199201929-s0014-s0055-0000000007854182-00652_dvr.pdf</td><td>62597369</td><td>96861135</td><td>PUBLIC</td><td>3</td></tr>\n",
       "<tr><td>96861135</td><td>TESS</td><td>timeseries</td><td>tess2019199201929-s0014-s0055-0000000007854182</td><td>full data validation report (xml)</td><td>S</td><td>mast:TESS/product/tess2019199201929-s0014-s0055-0000000007854182-00652_dvr.xml</td><td>INFO</td><td>--</td><td>DVR</td><td>--</td><td>SPOC</td><td>a3d64e14a5</td><td>N/A</td><td>tess2019199201929-s0014-s0055-0000000007854182-00652_dvr.xml</td><td>1777094</td><td>96861135</td><td>PUBLIC</td><td>3</td></tr>\n",
       "<tr><td>96861135</td><td>TESS</td><td>timeseries</td><td>tess2019199201929-s0014-s0055-0000000007854182</td><td>Data validation mini report</td><td>S</td><td>mast:TESS/product/tess2019199201929-s0014-s0055-0000000007854182-00652_dvm.pdf</td><td>INFO</td><td>Minimum Recommended Products</td><td>DVM</td><td>--</td><td>SPOC</td><td>a3d64e14a5</td><td>N/A</td><td>tess2019199201929-s0014-s0055-0000000007854182-00652_dvm.pdf</td><td>21701976</td><td>96861135</td><td>PUBLIC</td><td>3</td></tr>\n",
       "<tr><td>96861135</td><td>TESS</td><td>timeseries</td><td>tess2019199201929-s0014-s0055-0000000007854182</td><td>TCE summary report</td><td>S</td><td>mast:TESS/product/tess2019199201929-s0014-s0055-0000000007854182-01-00652_dvs.pdf</td><td>INFO</td><td>Minimum Recommended Products</td><td>DVS</td><td>--</td><td>SPOC</td><td>a3d64e14a5</td><td>N/A</td><td>tess2019199201929-s0014-s0055-0000000007854182-01-00652_dvs.pdf</td><td>1366512</td><td>96861135</td><td>PUBLIC</td><td>3</td></tr>\n",
       "</table></div>"
      ],
      "text/plain": [
       "<Table masked=True length=7>\n",
       " obsID   obs_collection dataproduct_type ... parent_obsid dataRights calib_level\n",
       "  str8        str4           str10       ...     str8        str6       int64   \n",
       "-------- -------------- ---------------- ... ------------ ---------- -----------\n",
       "64265093           TESS       timeseries ...     64265093     PUBLIC           3\n",
       "64265093           TESS       timeseries ...     64265093     PUBLIC           3\n",
       "64265093           TESS       timeseries ...     64265093     PUBLIC           3\n",
       "96861135           TESS       timeseries ...     96861135     PUBLIC           3\n",
       "96861135           TESS       timeseries ...     96861135     PUBLIC           3\n",
       "96861135           TESS       timeseries ...     96861135     PUBLIC           3\n",
       "96861135           TESS       timeseries ...     96861135     PUBLIC           3"
      ]
     },
     "metadata": {},
     "output_type": "display_data"
    }
   ],
   "source": [
    "display(data_prod[10:17])"
   ]
  },
  {
   "cell_type": "markdown",
   "id": "ce6534b7-2490-44b4-9207-140fd8af03f5",
   "metadata": {},
   "source": [
    "As above, if we decide that we only want to download, e.g., the light curve files, we can further filter the products list based on the columns/fields in the table.\n",
    "\n",
    "For our purposes, this step is optional; I'm going to download **all** of the available data products for this program ID."
   ]
  },
  {
   "cell_type": "code",
   "execution_count": null,
   "id": "82d758f4-30b2-45e2-b193-45631a64d6ba",
   "metadata": {},
   "outputs": [],
   "source": [
    "# OPTIONAL\n",
    "# Select which files to download from the S3 bucket by applying additional filters\n",
    "# filt_prod = Observations.filter_products(data_prod_pid, description='Light curves')"
   ]
  },
  {
   "cell_type": "markdown",
   "id": "ad0de2de-7c5e-4c9b-bdd0-7e3cbc77b114",
   "metadata": {},
   "source": [
    "Now, we're ready to download the data from the AWS S3 bucket!\n",
    "\n",
    "By default, all downloads will be placed in a `./mastDownload/` directory on the TIKE. If you'd like to change this directory, use the `download_dir` parameter in the `download_products` functions. For example, you may want to place all products downloaded for GI program G05101 in a directory named `./G05101`, as shown below.\n"
   ]
  },
  {
   "cell_type": "code",
   "execution_count": 21,
   "id": "9d241f44-3fa3-46a5-a776-cdb8c2dc8901",
   "metadata": {
    "tags": []
   },
   "outputs": [
    {
     "name": "stderr",
     "output_type": "stream",
     "text": [
      "ERROR: Error pulling from S3 bucket: 'productFilename' [astroquery.mast.observations]\n",
      "WARNING: Skipping file... [astroquery.mast.observations]\n"
     ]
    },
    {
     "name": "stdout",
     "output_type": "stream",
     "text": [
      "Downloading URL s3://stpubdata/tess/public/tid/s0069/0000/0002/0077/9640/tess2018206190142-s0001-s0069-0000000200779640-00810_dvr.xml to G05101/mastDownload/TESS/tess2018206190142-s0001-s0069-0000000200779640/tess2018206190142-s0001-s0069-0000000200779640-00810_dvr.xml ... [Done]\n"
     ]
    },
    {
     "name": "stderr",
     "output_type": "stream",
     "text": [
      "ERROR: Error pulling from S3 bucket: 'productFilename' [astroquery.mast.observations]\n",
      "WARNING: Skipping file... [astroquery.mast.observations]\n"
     ]
    },
    {
     "name": "stdout",
     "output_type": "stream",
     "text": [
      "Downloading URL s3://stpubdata/tess/public/tid/s0069/0000/0002/0077/9640/tess2018206190142-s0001-s0069-0000000200779640-01-00810_dvs.pdf to G05101/mastDownload/TESS/tess2018206190142-s0001-s0069-0000000200779640/tess2018206190142-s0001-s0069-0000000200779640-01-00810_dvs.pdf ... [Done]\n",
      "Downloading URL s3://stpubdata/tess/public/tid/s0069/0000/0002/0077/9640/tess2018206190142-s0001-s0069-0000000200779640-00810_dvt.fits to G05101/mastDownload/TESS/tess2018206190142-s0001-s0069-0000000200779640/tess2018206190142-s0001-s0069-0000000200779640-00810_dvt.fits ... [Done]\n",
      "Downloading URL s3://stpubdata/tess/public/tid/s0056/0000/0002/0744/0438/tess2022244194134-s0056-0000000207440438-0243-s_lc.fits to G05101/mastDownload/TESS/tess2022244194134-s0056-0000000207440438-0243-s/tess2022244194134-s0056-0000000207440438-0243-s_lc.fits ... [Done]\n",
      "Downloading URL s3://stpubdata/tess/public/tid/s0056/0000/0002/0744/0438/tess2022244194134-s0056-0000000207440438-0243-s_tp.fits to G05101/mastDownload/TESS/tess2022244194134-s0056-0000000207440438-0243-s/tess2022244194134-s0056-0000000207440438-0243-s_tp.fits ... [Done]\n",
      "Downloading URL s3://stpubdata/tess/public/tid/s0056/0000/0002/1908/9401/tess2022244194134-s0056-0000000219089401-0243-s_lc.fits to G05101/mastDownload/TESS/tess2022244194134-s0056-0000000219089401-0243-s/tess2022244194134-s0056-0000000219089401-0243-s_lc.fits ... [Done]\n",
      "Downloading URL s3://stpubdata/tess/public/tid/s0056/0000/0002/1908/9401/tess2022244194134-s0056-0000000219089401-0243-s_tp.fits to G05101/mastDownload/TESS/tess2022244194134-s0056-0000000219089401-0243-s/tess2022244194134-s0056-0000000219089401-0243-s_tp.fits ... [Done]\n",
      "Downloading URL s3://stpubdata/tess/public/tid/s0056/0000/0002/1909/7989/tess2022244194134-s0056-0000000219097989-0243-s_lc.fits to G05101/mastDownload/TESS/tess2022244194134-s0056-0000000219097989-0243-s/tess2022244194134-s0056-0000000219097989-0243-s_lc.fits ... [Done]\n",
      "Downloading URL s3://stpubdata/tess/public/tid/s0056/0000/0002/1909/7989/tess2022244194134-s0056-0000000219097989-0243-s_tp.fits to G05101/mastDownload/TESS/tess2022244194134-s0056-0000000219097989-0243-s/tess2022244194134-s0056-0000000219097989-0243-s_tp.fits ... [Done]\n",
      "Downloading URL s3://stpubdata/tess/public/tid/s0056/0000/0002/5882/2592/tess2022244194134-s0056-0000000258822592-0243-s_lc.fits to G05101/mastDownload/TESS/tess2022244194134-s0056-0000000258822592-0243-s/tess2022244194134-s0056-0000000258822592-0243-s_lc.fits ... [Done]\n",
      "Downloading URL s3://stpubdata/tess/public/tid/s0056/0000/0002/5882/2592/tess2022244194134-s0056-0000000258822592-0243-s_tp.fits to G05101/mastDownload/TESS/tess2022244194134-s0056-0000000258822592-0243-s/tess2022244194134-s0056-0000000258822592-0243-s_tp.fits ... [Done]\n",
      "Downloading URL s3://stpubdata/tess/public/tid/s0056/0000/0003/8362/3835/tess2022244194134-s0056-0000000383623835-0243-s_lc.fits to G05101/mastDownload/TESS/tess2022244194134-s0056-0000000383623835-0243-s/tess2022244194134-s0056-0000000383623835-0243-s_lc.fits ... [Done]\n",
      "Downloading URL s3://stpubdata/tess/public/tid/s0056/0000/0003/8362/3835/tess2022244194134-s0056-0000000383623835-0243-s_tp.fits to G05101/mastDownload/TESS/tess2022244194134-s0056-0000000383623835-0243-s/tess2022244194134-s0056-0000000383623835-0243-s_tp.fits ... [Done]\n",
      "Downloading URL s3://stpubdata/tess/public/tid/s0056/0000/0004/2081/4525/tess2022244194134-s0056-0000000420814525-0243-a_fast-lc.fits to G05101/mastDownload/TESS/tess2022244194134-s0056-0000000420814525-0243-a_fast/tess2022244194134-s0056-0000000420814525-0243-a_fast-lc.fits ... [Done]\n",
      "Downloading URL s3://stpubdata/tess/public/tid/s0056/0000/0004/2081/4525/tess2022244194134-s0056-0000000420814525-0243-a_fast-tp.fits to G05101/mastDownload/TESS/tess2022244194134-s0056-0000000420814525-0243-a_fast/tess2022244194134-s0056-0000000420814525-0243-a_fast-tp.fits ... [Done]\n"
     ]
    },
    {
     "name": "stderr",
     "output_type": "stream",
     "text": [
      "ERROR: Error pulling from S3 bucket: 'productFilename' [astroquery.mast.observations]\n",
      "WARNING: Skipping file... [astroquery.mast.observations]\n"
     ]
    },
    {
     "name": "stdout",
     "output_type": "stream",
     "text": [
      "Downloading URL s3://stpubdata/tess/public/tid/s0056/0000/0004/2081/4525/tess2022245180045-s0056-s0056-0000000420814525-00661_dvr.xml to G05101/mastDownload/TESS/tess2022244194134-s0056-0000000420814525-0243-s/tess2022245180045-s0056-s0056-0000000420814525-00661_dvr.xml ... [Done]\n"
     ]
    },
    {
     "name": "stderr",
     "output_type": "stream",
     "text": [
      "ERROR: Error pulling from S3 bucket: 'productFilename' [astroquery.mast.observations]\n",
      "WARNING: Skipping file... [astroquery.mast.observations]\n"
     ]
    },
    {
     "name": "stdout",
     "output_type": "stream",
     "text": [
      "Downloading URL s3://stpubdata/tess/public/tid/s0056/0000/0004/2081/4525/tess2022245180045-s0056-s0056-0000000420814525-01-00661_dvs.pdf to G05101/mastDownload/TESS/tess2022244194134-s0056-0000000420814525-0243-s/tess2022245180045-s0056-s0056-0000000420814525-01-00661_dvs.pdf ... [Done]\n",
      "Downloading URL s3://stpubdata/tess/public/tid/s0056/0000/0004/2081/4525/tess2022245180045-s0056-s0056-0000000420814525-00661_dvt.fits to G05101/mastDownload/TESS/tess2022244194134-s0056-0000000420814525-0243-s/tess2022245180045-s0056-s0056-0000000420814525-00661_dvt.fits ... [Done]\n",
      "Downloading URL s3://stpubdata/tess/public/tid/s0056/0000/0004/2081/4525/tess2022244194134-s0056-0000000420814525-0243-s_lc.fits to G05101/mastDownload/TESS/tess2022244194134-s0056-0000000420814525-0243-s/tess2022244194134-s0056-0000000420814525-0243-s_lc.fits ... [Done]\n",
      "Downloading URL s3://stpubdata/tess/public/tid/s0056/0000/0004/2081/4525/tess2022244194134-s0056-0000000420814525-0243-s_tp.fits to G05101/mastDownload/TESS/tess2022244194134-s0056-0000000420814525-0243-s/tess2022244194134-s0056-0000000420814525-0243-s_tp.fits ... [Done]\n",
      "Downloading URL s3://stpubdata/tess/public/tid/s0056/0000/0004/5274/0376/tess2022244194134-s0056-0000000452740376-0243-a_fast-lc.fits to G05101/mastDownload/TESS/tess2022244194134-s0056-0000000452740376-0243-a_fast/tess2022244194134-s0056-0000000452740376-0243-a_fast-lc.fits ... [Done]\n",
      "Downloading URL s3://stpubdata/tess/public/tid/s0056/0000/0004/5274/0376/tess2022244194134-s0056-0000000452740376-0243-a_fast-tp.fits to G05101/mastDownload/TESS/tess2022244194134-s0056-0000000452740376-0243-a_fast/tess2022244194134-s0056-0000000452740376-0243-a_fast-tp.fits ... [Done]\n",
      "Downloading URL s3://stpubdata/tess/public/tid/s0056/0000/0004/5274/0376/tess2022244194134-s0056-0000000452740376-0243-s_lc.fits to G05101/mastDownload/TESS/tess2022244194134-s0056-0000000452740376-0243-s/tess2022244194134-s0056-0000000452740376-0243-s_lc.fits ... [Done]\n",
      "Downloading URL s3://stpubdata/tess/public/tid/s0056/0000/0004/5274/0376/tess2022244194134-s0056-0000000452740376-0243-s_tp.fits to G05101/mastDownload/TESS/tess2022244194134-s0056-0000000452740376-0243-s/tess2022244194134-s0056-0000000452740376-0243-s_tp.fits ... [Done]\n",
      "Downloading URL s3://stpubdata/tess/public/tid/s0057/0000/0002/1908/9401/tess2022273165103-s0057-0000000219089401-0245-s_lc.fits to G05101/mastDownload/TESS/tess2022273165103-s0057-0000000219089401-0245-s/tess2022273165103-s0057-0000000219089401-0245-s_lc.fits ... [Done]\n",
      "Downloading URL s3://stpubdata/tess/public/tid/s0057/0000/0002/1908/9401/tess2022273165103-s0057-0000000219089401-0245-s_tp.fits to G05101/mastDownload/TESS/tess2022273165103-s0057-0000000219089401-0245-s/tess2022273165103-s0057-0000000219089401-0245-s_tp.fits ... [Done]\n",
      "Downloading URL s3://stpubdata/tess/public/tid/s0057/0000/0002/1909/7989/tess2022273165103-s0057-0000000219097989-0245-s_lc.fits to G05101/mastDownload/TESS/tess2022273165103-s0057-0000000219097989-0245-s/tess2022273165103-s0057-0000000219097989-0245-s_lc.fits ... [Done]\n",
      "Downloading URL s3://stpubdata/tess/public/tid/s0057/0000/0002/1909/7989/tess2022273165103-s0057-0000000219097989-0245-s_tp.fits to G05101/mastDownload/TESS/tess2022273165103-s0057-0000000219097989-0245-s/tess2022273165103-s0057-0000000219097989-0245-s_tp.fits ... [Done]\n",
      "Downloading URL s3://stpubdata/tess/public/tid/s0057/0000/0002/1979/6019/tess2022273165103-s0057-0000000219796019-0245-s_lc.fits to G05101/mastDownload/TESS/tess2022273165103-s0057-0000000219796019-0245-s/tess2022273165103-s0057-0000000219796019-0245-s_lc.fits ... [Done]\n",
      "Downloading URL s3://stpubdata/tess/public/tid/s0057/0000/0002/1979/6019/tess2022273165103-s0057-0000000219796019-0245-s_tp.fits to G05101/mastDownload/TESS/tess2022273165103-s0057-0000000219796019-0245-s/tess2022273165103-s0057-0000000219796019-0245-s_tp.fits ... [Done]\n",
      "Downloading URL s3://stpubdata/tess/public/tid/s0057/0000/0002/8814/4896/tess2022273165103-s0057-0000000288144896-0245-a_fast-lc.fits to G05101/mastDownload/TESS/tess2022273165103-s0057-0000000288144896-0245-a_fast/tess2022273165103-s0057-0000000288144896-0245-a_fast-lc.fits ... [Done]\n",
      "Downloading URL s3://stpubdata/tess/public/tid/s0057/0000/0002/8814/4896/tess2022273165103-s0057-0000000288144896-0245-a_fast-tp.fits to G05101/mastDownload/TESS/tess2022273165103-s0057-0000000288144896-0245-a_fast/tess2022273165103-s0057-0000000288144896-0245-a_fast-tp.fits ... [Done]\n",
      "Downloading URL s3://stpubdata/tess/public/tid/s0057/0000/0002/8814/4896/tess2022273165103-s0057-0000000288144896-0245-s_lc.fits to G05101/mastDownload/TESS/tess2022273165103-s0057-0000000288144896-0245-s/tess2022273165103-s0057-0000000288144896-0245-s_lc.fits ... [Done]\n",
      "Downloading URL s3://stpubdata/tess/public/tid/s0057/0000/0002/8814/4896/tess2022273165103-s0057-0000000288144896-0245-s_tp.fits to G05101/mastDownload/TESS/tess2022273165103-s0057-0000000288144896-0245-s/tess2022273165103-s0057-0000000288144896-0245-s_tp.fits ... [Done]\n",
      "Downloading URL s3://stpubdata/tess/public/tid/s0057/0000/0003/8362/3835/tess2022273165103-s0057-0000000383623835-0245-s_lc.fits to G05101/mastDownload/TESS/tess2022273165103-s0057-0000000383623835-0245-s/tess2022273165103-s0057-0000000383623835-0245-s_lc.fits ... [Done]\n",
      "Downloading URL s3://stpubdata/tess/public/tid/s0057/0000/0003/8362/3835/tess2022273165103-s0057-0000000383623835-0245-s_tp.fits to G05101/mastDownload/TESS/tess2022273165103-s0057-0000000383623835-0245-s/tess2022273165103-s0057-0000000383623835-0245-s_tp.fits ... [Done]\n",
      "Downloading URL s3://stpubdata/tess/public/tid/s0057/0000/0004/2695/9594/tess2022273165103-s0057-0000000426959594-0245-a_fast-lc.fits to G05101/mastDownload/TESS/tess2022273165103-s0057-0000000426959594-0245-a_fast/tess2022273165103-s0057-0000000426959594-0245-a_fast-lc.fits ... [Done]\n",
      "Downloading URL s3://stpubdata/tess/public/tid/s0057/0000/0004/2695/9594/tess2022273165103-s0057-0000000426959594-0245-a_fast-tp.fits to G05101/mastDownload/TESS/tess2022273165103-s0057-0000000426959594-0245-a_fast/tess2022273165103-s0057-0000000426959594-0245-a_fast-tp.fits ... [Done]\n",
      "Downloading URL s3://stpubdata/tess/public/tid/s0057/0000/0004/2695/9594/tess2022273165103-s0057-0000000426959594-0245-s_lc.fits to G05101/mastDownload/TESS/tess2022273165103-s0057-0000000426959594-0245-s/tess2022273165103-s0057-0000000426959594-0245-s_lc.fits ... [Done]\n",
      "Downloading URL s3://stpubdata/tess/public/tid/s0057/0000/0004/2695/9594/tess2022273165103-s0057-0000000426959594-0245-s_tp.fits to G05101/mastDownload/TESS/tess2022273165103-s0057-0000000426959594-0245-s/tess2022273165103-s0057-0000000426959594-0245-s_tp.fits ... [Done]\n",
      "Downloading URL s3://stpubdata/tess/public/tid/s0058/0000/0002/1908/9401/tess2022302161335-s0058-0000000219089401-0247-s_lc.fits to G05101/mastDownload/TESS/tess2022302161335-s0058-0000000219089401-0247-s/tess2022302161335-s0058-0000000219089401-0247-s_lc.fits ... [Done]\n",
      "Downloading URL s3://stpubdata/tess/public/tid/s0058/0000/0002/1908/9401/tess2022302161335-s0058-0000000219089401-0247-s_tp.fits to G05101/mastDownload/TESS/tess2022302161335-s0058-0000000219089401-0247-s/tess2022302161335-s0058-0000000219089401-0247-s_tp.fits ... [Done]\n",
      "Downloading URL s3://stpubdata/tess/public/tid/s0058/0000/0002/1909/7989/tess2022302161335-s0058-0000000219097989-0247-s_lc.fits to G05101/mastDownload/TESS/tess2022302161335-s0058-0000000219097989-0247-s/tess2022302161335-s0058-0000000219097989-0247-s_lc.fits ... [Done]\n",
      "Downloading URL s3://stpubdata/tess/public/tid/s0058/0000/0002/1909/7989/tess2022302161335-s0058-0000000219097989-0247-s_tp.fits to G05101/mastDownload/TESS/tess2022302161335-s0058-0000000219097989-0247-s/tess2022302161335-s0058-0000000219097989-0247-s_tp.fits ... [Done]\n",
      "Downloading URL s3://stpubdata/tess/public/tid/s0058/0000/0002/1979/6019/tess2022302161335-s0058-0000000219796019-0247-s_lc.fits to G05101/mastDownload/TESS/tess2022302161335-s0058-0000000219796019-0247-s/tess2022302161335-s0058-0000000219796019-0247-s_lc.fits ... [Done]\n",
      "Downloading URL s3://stpubdata/tess/public/tid/s0058/0000/0002/1979/6019/tess2022302161335-s0058-0000000219796019-0247-s_tp.fits to G05101/mastDownload/TESS/tess2022302161335-s0058-0000000219796019-0247-s/tess2022302161335-s0058-0000000219796019-0247-s_tp.fits ... [Done]\n",
      "Downloading URL s3://stpubdata/tess/public/tid/s0058/0000/0003/8362/3835/tess2022302161335-s0058-0000000383623835-0247-s_lc.fits to G05101/mastDownload/TESS/tess2022302161335-s0058-0000000383623835-0247-s/tess2022302161335-s0058-0000000383623835-0247-s_lc.fits ... [Done]\n",
      "Downloading URL s3://stpubdata/tess/public/tid/s0058/0000/0003/8362/3835/tess2022302161335-s0058-0000000383623835-0247-s_tp.fits to G05101/mastDownload/TESS/tess2022302161335-s0058-0000000383623835-0247-s/tess2022302161335-s0058-0000000383623835-0247-s_tp.fits ... [Done]\n",
      "Downloading URL s3://stpubdata/tess/public/tid/s0059/0000/0002/1908/9401/tess2022330142927-s0059-0000000219089401-0248-s_lc.fits to G05101/mastDownload/TESS/tess2022330142927-s0059-0000000219089401-0248-s/tess2022330142927-s0059-0000000219089401-0248-s_lc.fits ... [Done]\n",
      "Downloading URL s3://stpubdata/tess/public/tid/s0059/0000/0002/1908/9401/tess2022330142927-s0059-0000000219089401-0248-s_tp.fits to G05101/mastDownload/TESS/tess2022330142927-s0059-0000000219089401-0248-s/tess2022330142927-s0059-0000000219089401-0248-s_tp.fits ... [Done]\n",
      "Downloading URL s3://stpubdata/tess/public/tid/s0059/0000/0002/1909/7989/tess2022330142927-s0059-0000000219097989-0248-s_lc.fits to G05101/mastDownload/TESS/tess2022330142927-s0059-0000000219097989-0248-s/tess2022330142927-s0059-0000000219097989-0248-s_lc.fits ... [Done]\n",
      "Downloading URL s3://stpubdata/tess/public/tid/s0059/0000/0002/1909/7989/tess2022330142927-s0059-0000000219097989-0248-s_tp.fits to G05101/mastDownload/TESS/tess2022330142927-s0059-0000000219097989-0248-s/tess2022330142927-s0059-0000000219097989-0248-s_tp.fits ... [Done]\n",
      "Downloading URL s3://stpubdata/tess/public/tid/s0059/0000/0002/9841/1553/tess2022330142927-s0059-0000000298411553-0248-a_fast-lc.fits to G05101/mastDownload/TESS/tess2022330142927-s0059-0000000298411553-0248-a_fast/tess2022330142927-s0059-0000000298411553-0248-a_fast-lc.fits ... [Done]\n",
      "Downloading URL s3://stpubdata/tess/public/tid/s0059/0000/0002/9841/1553/tess2022330142927-s0059-0000000298411553-0248-a_fast-tp.fits to G05101/mastDownload/TESS/tess2022330142927-s0059-0000000298411553-0248-a_fast/tess2022330142927-s0059-0000000298411553-0248-a_fast-tp.fits ... [Done]\n",
      "Downloading URL s3://stpubdata/tess/public/tid/s0059/0000/0002/9841/1553/tess2022330142927-s0059-0000000298411553-0248-s_lc.fits to G05101/mastDownload/TESS/tess2022330142927-s0059-0000000298411553-0248-s/tess2022330142927-s0059-0000000298411553-0248-s_lc.fits ... [Done]\n",
      "Downloading URL s3://stpubdata/tess/public/tid/s0059/0000/0002/9841/1553/tess2022330142927-s0059-0000000298411553-0248-s_tp.fits to G05101/mastDownload/TESS/tess2022330142927-s0059-0000000298411553-0248-s/tess2022330142927-s0059-0000000298411553-0248-s_tp.fits ... [Done]\n",
      "Downloading URL s3://stpubdata/tess/public/tid/s0059/0000/0003/8362/3835/tess2022330142927-s0059-0000000383623835-0248-s_lc.fits to G05101/mastDownload/TESS/tess2022330142927-s0059-0000000383623835-0248-s/tess2022330142927-s0059-0000000383623835-0248-s_lc.fits ... [Done]\n",
      "Downloading URL s3://stpubdata/tess/public/tid/s0059/0000/0003/8362/3835/tess2022330142927-s0059-0000000383623835-0248-s_tp.fits to G05101/mastDownload/TESS/tess2022330142927-s0059-0000000383623835-0248-s/tess2022330142927-s0059-0000000383623835-0248-s_tp.fits ... [Done]\n",
      "Downloading URL s3://stpubdata/tess/public/tid/s0060/0000/0000/8110/3318/tess2022357055054-s0060-0000000081103318-0249-s_lc.fits to G05101/mastDownload/TESS/tess2022357055054-s0060-0000000081103318-0249-s/tess2022357055054-s0060-0000000081103318-0249-s_lc.fits ... [Done]\n",
      "Downloading URL s3://stpubdata/tess/public/tid/s0060/0000/0000/8110/3318/tess2022357055054-s0060-0000000081103318-0249-s_tp.fits to G05101/mastDownload/TESS/tess2022357055054-s0060-0000000081103318-0249-s/tess2022357055054-s0060-0000000081103318-0249-s_tp.fits ... [Done]\n",
      "Downloading URL s3://stpubdata/tess/public/tid/s0060/0000/0002/1908/9401/tess2022357055054-s0060-0000000219089401-0249-s_lc.fits to G05101/mastDownload/TESS/tess2022357055054-s0060-0000000219089401-0249-s/tess2022357055054-s0060-0000000219089401-0249-s_lc.fits ... [Done]\n",
      "Downloading URL s3://stpubdata/tess/public/tid/s0060/0000/0002/1908/9401/tess2022357055054-s0060-0000000219089401-0249-s_tp.fits to G05101/mastDownload/TESS/tess2022357055054-s0060-0000000219089401-0249-s/tess2022357055054-s0060-0000000219089401-0249-s_tp.fits ... [Done]\n",
      "Downloading URL s3://stpubdata/tess/public/tid/s0060/0000/0002/1909/7989/tess2022357055054-s0060-0000000219097989-0249-s_lc.fits to G05101/mastDownload/TESS/tess2022357055054-s0060-0000000219097989-0249-s/tess2022357055054-s0060-0000000219097989-0249-s_lc.fits ... [Done]\n",
      "Downloading URL s3://stpubdata/tess/public/tid/s0060/0000/0002/1909/7989/tess2022357055054-s0060-0000000219097989-0249-s_tp.fits to G05101/mastDownload/TESS/tess2022357055054-s0060-0000000219097989-0249-s/tess2022357055054-s0060-0000000219097989-0249-s_tp.fits ... [Done]\n",
      "Downloading URL s3://stpubdata/tess/public/tid/s0060/0000/0002/1979/6019/tess2022357055054-s0060-0000000219796019-0249-s_lc.fits to G05101/mastDownload/TESS/tess2022357055054-s0060-0000000219796019-0249-s/tess2022357055054-s0060-0000000219796019-0249-s_lc.fits ... [Done]\n",
      "Downloading URL s3://stpubdata/tess/public/tid/s0060/0000/0002/1979/6019/tess2022357055054-s0060-0000000219796019-0249-s_tp.fits to G05101/mastDownload/TESS/tess2022357055054-s0060-0000000219796019-0249-s/tess2022357055054-s0060-0000000219796019-0249-s_tp.fits ... [Done]\n",
      "Downloading URL s3://stpubdata/tess/public/tid/s0060/0000/0002/9841/1553/tess2022357055054-s0060-0000000298411553-0249-a_fast-lc.fits to G05101/mastDownload/TESS/tess2022357055054-s0060-0000000298411553-0249-a_fast/tess2022357055054-s0060-0000000298411553-0249-a_fast-lc.fits ... [Done]\n",
      "Downloading URL s3://stpubdata/tess/public/tid/s0060/0000/0002/9841/1553/tess2022357055054-s0060-0000000298411553-0249-a_fast-tp.fits to G05101/mastDownload/TESS/tess2022357055054-s0060-0000000298411553-0249-a_fast/tess2022357055054-s0060-0000000298411553-0249-a_fast-tp.fits ... [Done]\n",
      "Downloading URL s3://stpubdata/tess/public/tid/s0060/0000/0002/9841/1553/tess2022357055054-s0060-0000000298411553-0249-s_lc.fits to G05101/mastDownload/TESS/tess2022357055054-s0060-0000000298411553-0249-s/tess2022357055054-s0060-0000000298411553-0249-s_lc.fits ... [Done]\n",
      "Downloading URL s3://stpubdata/tess/public/tid/s0060/0000/0002/9841/1553/tess2022357055054-s0060-0000000298411553-0249-s_tp.fits to G05101/mastDownload/TESS/tess2022357055054-s0060-0000000298411553-0249-s/tess2022357055054-s0060-0000000298411553-0249-s_tp.fits ... [Done]\n",
      "Downloading URL s3://stpubdata/tess/public/tid/s0060/0000/0003/8362/3835/tess2022357055054-s0060-0000000383623835-0249-s_lc.fits to G05101/mastDownload/TESS/tess2022357055054-s0060-0000000383623835-0249-s/tess2022357055054-s0060-0000000383623835-0249-s_lc.fits ... [Done]\n",
      "Downloading URL s3://stpubdata/tess/public/tid/s0060/0000/0003/8362/3835/tess2022357055054-s0060-0000000383623835-0249-s_tp.fits to G05101/mastDownload/TESS/tess2022357055054-s0060-0000000383623835-0249-s/tess2022357055054-s0060-0000000383623835-0249-s_tp.fits ... [Done]\n",
      "Downloading URL s3://stpubdata/tess/public/tid/s0061/0000/0000/0093/3650/tess2023018032328-s0061-0000000000933650-0250-s_lc.fits to G05101/mastDownload/TESS/tess2023018032328-s0061-0000000000933650-0250-s/tess2023018032328-s0061-0000000000933650-0250-s_lc.fits ... [Done]\n",
      "Downloading URL s3://stpubdata/tess/public/tid/s0061/0000/0000/0093/3650/tess2023018032328-s0061-0000000000933650-0250-s_tp.fits to G05101/mastDownload/TESS/tess2023018032328-s0061-0000000000933650-0250-s/tess2023018032328-s0061-0000000000933650-0250-s_tp.fits ... [Done]\n",
      "Downloading URL s3://stpubdata/tess/public/tid/s0061/0000/0002/6733/0921/tess2023018032328-s0061-0000000267330921-0250-s_lc.fits to G05101/mastDownload/TESS/tess2023018032328-s0061-0000000267330921-0250-s/tess2023018032328-s0061-0000000267330921-0250-s_lc.fits ... [Done]\n",
      "Downloading URL s3://stpubdata/tess/public/tid/s0061/0000/0002/6733/0921/tess2023018032328-s0061-0000000267330921-0250-s_tp.fits to G05101/mastDownload/TESS/tess2023018032328-s0061-0000000267330921-0250-s/tess2023018032328-s0061-0000000267330921-0250-s_tp.fits ... [Done]\n",
      "Downloading URL s3://stpubdata/tess/public/tid/s0061/0000/0008/0288/1650/tess2023018032328-s0061-0000000802881650-0250-s_lc.fits to G05101/mastDownload/TESS/tess2023018032328-s0061-0000000802881650-0250-s/tess2023018032328-s0061-0000000802881650-0250-s_lc.fits ... [Done]\n",
      "Downloading URL s3://stpubdata/tess/public/tid/s0061/0000/0008/0288/1650/tess2023018032328-s0061-0000000802881650-0250-s_tp.fits to G05101/mastDownload/TESS/tess2023018032328-s0061-0000000802881650-0250-s/tess2023018032328-s0061-0000000802881650-0250-s_tp.fits ... [Done]\n",
      "Downloading URL s3://stpubdata/tess/public/tid/s0062/0000/0002/6733/0921/tess2023043185947-s0062-0000000267330921-0254-s_lc.fits to G05101/mastDownload/TESS/tess2023043185947-s0062-0000000267330921-0254-s/tess2023043185947-s0062-0000000267330921-0254-s_lc.fits ... [Done]\n",
      "Downloading URL s3://stpubdata/tess/public/tid/s0062/0000/0002/6733/0921/tess2023043185947-s0062-0000000267330921-0254-s_tp.fits to G05101/mastDownload/TESS/tess2023043185947-s0062-0000000267330921-0254-s/tess2023043185947-s0062-0000000267330921-0254-s_tp.fits ... [Done]\n",
      "Downloading URL s3://stpubdata/tess/public/tid/s0064/0000/0000/0591/4520/tess2023096110322-s0064-0000000005914520-0257-s_lc.fits to G05101/mastDownload/TESS/tess2023096110322-s0064-0000000005914520-0257-s/tess2023096110322-s0064-0000000005914520-0257-s_lc.fits ... [Done]\n",
      "Downloading URL s3://stpubdata/tess/public/tid/s0064/0000/0000/0591/4520/tess2023096110322-s0064-0000000005914520-0257-s_tp.fits to G05101/mastDownload/TESS/tess2023096110322-s0064-0000000005914520-0257-s/tess2023096110322-s0064-0000000005914520-0257-s_tp.fits ... [Done]\n",
      "Downloading URL s3://stpubdata/tess/public/tid/s0066/0000/0001/4853/3811/tess2023153011303-s0066-0000000148533811-0260-s_lc.fits to G05101/mastDownload/TESS/tess2023153011303-s0066-0000000148533811-0260-s/tess2023153011303-s0066-0000000148533811-0260-s_lc.fits ... [Done]\n",
      "Downloading URL s3://stpubdata/tess/public/tid/s0066/0000/0001/4853/3811/tess2023153011303-s0066-0000000148533811-0260-s_tp.fits to G05101/mastDownload/TESS/tess2023153011303-s0066-0000000148533811-0260-s/tess2023153011303-s0066-0000000148533811-0260-s_tp.fits ... [Done]\n",
      "Downloading URL s3://stpubdata/tess/public/tid/s0066/0000/0004/6815/0691/tess2023153011303-s0066-0000000468150691-0260-a_fast-lc.fits to G05101/mastDownload/TESS/tess2023153011303-s0066-0000000468150691-0260-a_fast/tess2023153011303-s0066-0000000468150691-0260-a_fast-lc.fits ... [Done]\n",
      "Downloading URL s3://stpubdata/tess/public/tid/s0066/0000/0004/6815/0691/tess2023153011303-s0066-0000000468150691-0260-a_fast-tp.fits to G05101/mastDownload/TESS/tess2023153011303-s0066-0000000468150691-0260-a_fast/tess2023153011303-s0066-0000000468150691-0260-a_fast-tp.fits ... [Done]\n",
      "Downloading URL s3://stpubdata/tess/public/tid/s0066/0000/0004/6815/0691/tess2023153011303-s0066-0000000468150691-0260-s_lc.fits to G05101/mastDownload/TESS/tess2023153011303-s0066-0000000468150691-0260-s/tess2023153011303-s0066-0000000468150691-0260-s_lc.fits ... [Done]\n",
      "Downloading URL s3://stpubdata/tess/public/tid/s0066/0000/0004/6815/0691/tess2023153011303-s0066-0000000468150691-0260-s_tp.fits to G05101/mastDownload/TESS/tess2023153011303-s0066-0000000468150691-0260-s/tess2023153011303-s0066-0000000468150691-0260-s_tp.fits ... [Done]\n",
      "Downloading URL s3://stpubdata/tess/public/tid/s0067/0000/0000/7915/4271/tess2023181235917-s0067-0000000079154271-0261-s_lc.fits to G05101/mastDownload/TESS/tess2023181235917-s0067-0000000079154271-0261-s/tess2023181235917-s0067-0000000079154271-0261-s_lc.fits ... [Done]\n",
      "Downloading URL s3://stpubdata/tess/public/tid/s0067/0000/0000/7915/4271/tess2023181235917-s0067-0000000079154271-0261-s_tp.fits to G05101/mastDownload/TESS/tess2023181235917-s0067-0000000079154271-0261-s/tess2023181235917-s0067-0000000079154271-0261-s_tp.fits ... [Done]\n",
      "Downloading URL s3://stpubdata/tess/public/tid/s0067/0000/0004/6815/0691/tess2023181235917-s0067-0000000468150691-0261-a_fast-lc.fits to G05101/mastDownload/TESS/tess2023181235917-s0067-0000000468150691-0261-a_fast/tess2023181235917-s0067-0000000468150691-0261-a_fast-lc.fits ... [Done]\n",
      "Downloading URL s3://stpubdata/tess/public/tid/s0067/0000/0004/6815/0691/tess2023181235917-s0067-0000000468150691-0261-a_fast-tp.fits to G05101/mastDownload/TESS/tess2023181235917-s0067-0000000468150691-0261-a_fast/tess2023181235917-s0067-0000000468150691-0261-a_fast-tp.fits ... [Done]\n",
      "Downloading URL s3://stpubdata/tess/public/tid/s0067/0000/0004/6815/0691/tess2023181235917-s0067-0000000468150691-0261-s_lc.fits to G05101/mastDownload/TESS/tess2023181235917-s0067-0000000468150691-0261-s/tess2023181235917-s0067-0000000468150691-0261-s_lc.fits ... [Done]\n",
      "Downloading URL s3://stpubdata/tess/public/tid/s0067/0000/0004/6815/0691/tess2023181235917-s0067-0000000468150691-0261-s_tp.fits to G05101/mastDownload/TESS/tess2023181235917-s0067-0000000468150691-0261-s/tess2023181235917-s0067-0000000468150691-0261-s_tp.fits ... [Done]\n",
      "Downloading URL s3://stpubdata/tess/public/tid/s0069/0000/0002/0077/9640/tess2023237165326-s0069-0000000200779640-0264-a_fast-lc.fits to G05101/mastDownload/TESS/tess2023237165326-s0069-0000000200779640-0264-a_fast/tess2023237165326-s0069-0000000200779640-0264-a_fast-lc.fits ... [Done]\n",
      "Downloading URL s3://stpubdata/tess/public/tid/s0069/0000/0002/0077/9640/tess2023237165326-s0069-0000000200779640-0264-a_fast-tp.fits to G05101/mastDownload/TESS/tess2023237165326-s0069-0000000200779640-0264-a_fast/tess2023237165326-s0069-0000000200779640-0264-a_fast-tp.fits ... [Done]\n",
      "Downloading URL s3://stpubdata/tess/public/tid/s0069/0000/0002/0077/9640/tess2023237165326-s0069-0000000200779640-0264-s_lc.fits to G05101/mastDownload/TESS/tess2023237165326-s0069-0000000200779640-0264-s/tess2023237165326-s0069-0000000200779640-0264-s_lc.fits ... [Done]\n",
      "Downloading URL s3://stpubdata/tess/public/tid/s0069/0000/0002/0077/9640/tess2023237165326-s0069-0000000200779640-0264-s_tp.fits to G05101/mastDownload/TESS/tess2023237165326-s0069-0000000200779640-0264-s/tess2023237165326-s0069-0000000200779640-0264-s_tp.fits ... [Done]\n",
      "Downloading URL s3://stpubdata/tess/public/tid/s0069/0000/0002/0720/0679/tess2023237165326-s0069-0000000207200679-0264-a_fast-lc.fits to G05101/mastDownload/TESS/tess2023237165326-s0069-0000000207200679-0264-a_fast/tess2023237165326-s0069-0000000207200679-0264-a_fast-lc.fits ... [Done]\n",
      "Downloading URL s3://stpubdata/tess/public/tid/s0069/0000/0002/0720/0679/tess2023237165326-s0069-0000000207200679-0264-a_fast-tp.fits to G05101/mastDownload/TESS/tess2023237165326-s0069-0000000207200679-0264-a_fast/tess2023237165326-s0069-0000000207200679-0264-a_fast-tp.fits ... [Done]\n",
      "Downloading URL s3://stpubdata/tess/public/tid/s0069/0000/0002/0720/0679/tess2023237165326-s0069-0000000207200679-0264-s_lc.fits to G05101/mastDownload/TESS/tess2023237165326-s0069-0000000207200679-0264-s/tess2023237165326-s0069-0000000207200679-0264-s_lc.fits ... [Done]\n",
      "Downloading URL s3://stpubdata/tess/public/tid/s0069/0000/0002/0720/0679/tess2023237165326-s0069-0000000207200679-0264-s_tp.fits to G05101/mastDownload/TESS/tess2023237165326-s0069-0000000207200679-0264-s/tess2023237165326-s0069-0000000207200679-0264-s_tp.fits ... [Done]\n"
     ]
    }
   ],
   "source": [
    "manifest = Observations.download_products(data_prod_pid, download_dir=f'{pid}', cloud_only=True)\n"
   ]
  },
  {
   "cell_type": "markdown",
   "id": "79c20955-ee97-4d1a-9f31-34f43d7ef3c1",
   "metadata": {},
   "source": [
    "If you scroll through the above manifest, you may notice an error:\n",
    "```\n",
    "ERROR: Error pulling from S3 bucket: 'productFilename' [astroquery.mast.observations]\n",
    "WARNING: Skipping file... [astroquery.mast.observations]\n",
    "```\n",
    "\n",
    "So, what happened here? Let's check the manifest to see which files were not downloaded.\n"
   ]
  },
  {
   "cell_type": "code",
   "execution_count": 22,
   "id": "17d2d03e-bdb8-46dd-97fe-d8bd65cd4c1e",
   "metadata": {
    "tags": []
   },
   "outputs": [
    {
     "data": {
      "text/html": [
       "<div><i>Table length=4</i>\n",
       "<table id=\"table140435553391184\" class=\"table-striped table-bordered table-condensed\">\n",
       "<thead><tr><th>Local Path</th><th>Status</th><th>Message</th><th>URL</th></tr></thead>\n",
       "<thead><tr><th>str138</th><th>str8</th><th>object</th><th>object</th></tr></thead>\n",
       "<tr><td>G05101/mastDownload/TESS/tess2018206190142-s0001-s0069-0000000200779640/tess2018206190142-s0001-s0069-0000000200779640-00810_dvr.pdf</td><td>SKIPPED</td><td>None</td><td>None</td></tr>\n",
       "<tr><td>G05101/mastDownload/TESS/tess2018206190142-s0001-s0069-0000000200779640/tess2018206190142-s0001-s0069-0000000200779640-00810_dvm.pdf</td><td>SKIPPED</td><td>None</td><td>None</td></tr>\n",
       "<tr><td>G05101/mastDownload/TESS/tess2022244194134-s0056-0000000420814525-0243-s/tess2022245180045-s0056-s0056-0000000420814525-00661_dvr.pdf</td><td>SKIPPED</td><td>None</td><td>None</td></tr>\n",
       "<tr><td>G05101/mastDownload/TESS/tess2022244194134-s0056-0000000420814525-0243-s/tess2022245180045-s0056-s0056-0000000420814525-00661_dvm.pdf</td><td>SKIPPED</td><td>None</td><td>None</td></tr>\n",
       "</table></div>"
      ],
      "text/plain": [
       "<Table length=4>\n",
       "                                                              Local Path                                                              ...\n",
       "                                                                str138                                                                ...\n",
       "------------------------------------------------------------------------------------------------------------------------------------- ...\n",
       " G05101/mastDownload/TESS/tess2018206190142-s0001-s0069-0000000200779640/tess2018206190142-s0001-s0069-0000000200779640-00810_dvr.pdf ...\n",
       " G05101/mastDownload/TESS/tess2018206190142-s0001-s0069-0000000200779640/tess2018206190142-s0001-s0069-0000000200779640-00810_dvm.pdf ...\n",
       "G05101/mastDownload/TESS/tess2022244194134-s0056-0000000420814525-0243-s/tess2022245180045-s0056-s0056-0000000420814525-00661_dvr.pdf ...\n",
       "G05101/mastDownload/TESS/tess2022244194134-s0056-0000000420814525-0243-s/tess2022245180045-s0056-s0056-0000000420814525-00661_dvm.pdf ..."
      ]
     },
     "metadata": {},
     "output_type": "display_data"
    }
   ],
   "source": [
    "display(manifest[manifest['Status']!='COMPLETE'])"
   ]
  },
  {
   "cell_type": "markdown",
   "id": "ddd49f11-dad0-404a-85ca-0bce9106ca18",
   "metadata": {},
   "source": [
    "When we say that \"ALL\" data from the TESS Mission are available in AWS S3 buckets, there is a small caveat.\n",
    "\n",
    "The TESS Full Data Validation Reports (`*_dvr.pdf`) and Mini Data Validation Reports (`*_drm.pdf`), which are produced for all TCEs associated with a particular host star, are **not currently** hosted on AWS.\n",
    "\n",
    "As MAST moves towards a more cloud-based model for data access, MAST is considering adding these types of data products to the AWS S3 bucket, but for now, if we want to download them to our local directory, we'll need to download them directly from MAST. To do this, we set `cloud_only=False`. If set to False and cloud data access is enabled (`enable_cloud_dataset` above), files that are not found in the cloud will be downloaded from MAST."
   ]
  },
  {
   "cell_type": "code",
   "execution_count": 23,
   "id": "8ed6cade-79e5-4786-a031-dffe08e662a6",
   "metadata": {
    "tags": []
   },
   "outputs": [
    {
     "name": "stdout",
     "output_type": "stream",
     "text": [
      "Downloading URL https://mast.stsci.edu/api/v0.1/Download/file?uri=mast:TESS/product/tess2018206190142-s0001-s0069-0000000200779640-00810_dvr.pdf to G05101/mastDownload/TESS/tess2018206190142-s0001-s0069-0000000200779640/tess2018206190142-s0001-s0069-0000000200779640-00810_dvr.pdf ..."
     ]
    },
    {
     "name": "stderr",
     "output_type": "stream",
     "text": [
      "ERROR: Error pulling from S3 bucket: 'productFilename' [astroquery.mast.observations]\n",
      "WARNING: Falling back to mast download... [astroquery.mast.observations]\n"
     ]
    },
    {
     "name": "stdout",
     "output_type": "stream",
     "text": [
      " [Done]\n",
      "INFO: Found cached file G05101/mastDownload/TESS/tess2018206190142-s0001-s0069-0000000200779640/tess2018206190142-s0001-s0069-0000000200779640-00810_dvr.xml with expected size 374231. [astroquery.mast.cloud]\n",
      "Downloading URL https://mast.stsci.edu/api/v0.1/Download/file?uri=mast:TESS/product/tess2018206190142-s0001-s0069-0000000200779640-00810_dvm.pdf to G05101/mastDownload/TESS/tess2018206190142-s0001-s0069-0000000200779640/tess2018206190142-s0001-s0069-0000000200779640-00810_dvm.pdf ..."
     ]
    },
    {
     "name": "stderr",
     "output_type": "stream",
     "text": [
      "ERROR: Error pulling from S3 bucket: 'productFilename' [astroquery.mast.observations]\n",
      "WARNING: Falling back to mast download... [astroquery.mast.observations]\n"
     ]
    },
    {
     "name": "stdout",
     "output_type": "stream",
     "text": [
      " [Done]\n",
      "INFO: Found cached file G05101/mastDownload/TESS/tess2018206190142-s0001-s0069-0000000200779640/tess2018206190142-s0001-s0069-0000000200779640-01-00810_dvs.pdf with expected size 703837. [astroquery.mast.cloud]\n",
      "INFO: Found cached file G05101/mastDownload/TESS/tess2018206190142-s0001-s0069-0000000200779640/tess2018206190142-s0001-s0069-0000000200779640-00810_dvt.fits with expected size 53426880. [astroquery.mast.cloud]\n",
      "INFO: Found cached file G05101/mastDownload/TESS/tess2022244194134-s0056-0000000207440438-0243-s/tess2022244194134-s0056-0000000207440438-0243-s_lc.fits with expected size 2039040. [astroquery.mast.cloud]\n",
      "INFO: Found cached file G05101/mastDownload/TESS/tess2022244194134-s0056-0000000207440438-0243-s/tess2022244194134-s0056-0000000207440438-0243-s_tp.fits with expected size 49193280. [astroquery.mast.cloud]\n",
      "INFO: Found cached file G05101/mastDownload/TESS/tess2022244194134-s0056-0000000219089401-0243-s/tess2022244194134-s0056-0000000219089401-0243-s_lc.fits with expected size 2039040. [astroquery.mast.cloud]\n",
      "INFO: Found cached file G05101/mastDownload/TESS/tess2022244194134-s0056-0000000219089401-0243-s/tess2022244194134-s0056-0000000219089401-0243-s_tp.fits with expected size 49193280. [astroquery.mast.cloud]\n",
      "INFO: Found cached file G05101/mastDownload/TESS/tess2022244194134-s0056-0000000219097989-0243-s/tess2022244194134-s0056-0000000219097989-0243-s_lc.fits with expected size 2039040. [astroquery.mast.cloud]\n",
      "INFO: Found cached file G05101/mastDownload/TESS/tess2022244194134-s0056-0000000219097989-0243-s/tess2022244194134-s0056-0000000219097989-0243-s_tp.fits with expected size 49193280. [astroquery.mast.cloud]\n",
      "INFO: Found cached file G05101/mastDownload/TESS/tess2022244194134-s0056-0000000258822592-0243-s/tess2022244194134-s0056-0000000258822592-0243-s_lc.fits with expected size 2039040. [astroquery.mast.cloud]\n",
      "INFO: Found cached file G05101/mastDownload/TESS/tess2022244194134-s0056-0000000258822592-0243-s/tess2022244194134-s0056-0000000258822592-0243-s_tp.fits with expected size 49193280. [astroquery.mast.cloud]\n",
      "INFO: Found cached file G05101/mastDownload/TESS/tess2022244194134-s0056-0000000383623835-0243-s/tess2022244194134-s0056-0000000383623835-0243-s_lc.fits with expected size 2039040. [astroquery.mast.cloud]\n",
      "INFO: Found cached file G05101/mastDownload/TESS/tess2022244194134-s0056-0000000383623835-0243-s/tess2022244194134-s0056-0000000383623835-0243-s_tp.fits with expected size 58026240. [astroquery.mast.cloud]\n",
      "INFO: Found cached file G05101/mastDownload/TESS/tess2022244194134-s0056-0000000420814525-0243-a_fast/tess2022244194134-s0056-0000000420814525-0243-a_fast-lc.fits with expected size 12078720. [astroquery.mast.cloud]\n",
      "INFO: Found cached file G05101/mastDownload/TESS/tess2022244194134-s0056-0000000420814525-0243-a_fast/tess2022244194134-s0056-0000000420814525-0243-a_fast-tp.fits with expected size 348456960. [astroquery.mast.cloud]\n",
      "Downloading URL https://mast.stsci.edu/api/v0.1/Download/file?uri=mast:TESS/product/tess2022245180045-s0056-s0056-0000000420814525-00661_dvr.pdf to G05101/mastDownload/TESS/tess2022244194134-s0056-0000000420814525-0243-s/tess2022245180045-s0056-s0056-0000000420814525-00661_dvr.pdf ..."
     ]
    },
    {
     "name": "stderr",
     "output_type": "stream",
     "text": [
      "ERROR: Error pulling from S3 bucket: 'productFilename' [astroquery.mast.observations]\n",
      "WARNING: Falling back to mast download... [astroquery.mast.observations]\n"
     ]
    },
    {
     "name": "stdout",
     "output_type": "stream",
     "text": [
      " [Done]\n",
      "INFO: Found cached file G05101/mastDownload/TESS/tess2022244194134-s0056-0000000420814525-0243-s/tess2022245180045-s0056-s0056-0000000420814525-00661_dvr.xml with expected size 130901. [astroquery.mast.cloud]\n"
     ]
    },
    {
     "name": "stderr",
     "output_type": "stream",
     "text": [
      "ERROR: Error pulling from S3 bucket: 'productFilename' [astroquery.mast.observations]\n",
      "WARNING: Falling back to mast download... [astroquery.mast.observations]\n"
     ]
    },
    {
     "name": "stdout",
     "output_type": "stream",
     "text": [
      "Downloading URL https://mast.stsci.edu/api/v0.1/Download/file?uri=mast:TESS/product/tess2022245180045-s0056-s0056-0000000420814525-00661_dvm.pdf to G05101/mastDownload/TESS/tess2022244194134-s0056-0000000420814525-0243-s/tess2022245180045-s0056-s0056-0000000420814525-00661_dvm.pdf ... [Done]\n",
      "INFO: Found cached file G05101/mastDownload/TESS/tess2022244194134-s0056-0000000420814525-0243-s/tess2022245180045-s0056-s0056-0000000420814525-01-00661_dvs.pdf with expected size 1026134. [astroquery.mast.cloud]\n",
      "INFO: Found cached file G05101/mastDownload/TESS/tess2022244194134-s0056-0000000420814525-0243-s/tess2022245180045-s0056-s0056-0000000420814525-00661_dvt.fits with expected size 4046400. [astroquery.mast.cloud]\n",
      "INFO: Found cached file G05101/mastDownload/TESS/tess2022244194134-s0056-0000000420814525-0243-s/tess2022244194134-s0056-0000000420814525-0243-s_lc.fits with expected size 2039040. [astroquery.mast.cloud]\n",
      "INFO: Found cached file G05101/mastDownload/TESS/tess2022244194134-s0056-0000000420814525-0243-s/tess2022244194134-s0056-0000000420814525-0243-s_tp.fits with expected size 58026240. [astroquery.mast.cloud]\n",
      "INFO: Found cached file G05101/mastDownload/TESS/tess2022244194134-s0056-0000000452740376-0243-a_fast/tess2022244194134-s0056-0000000452740376-0243-a_fast-lc.fits with expected size 12078720. [astroquery.mast.cloud]\n",
      "INFO: Found cached file G05101/mastDownload/TESS/tess2022244194134-s0056-0000000452740376-0243-a_fast/tess2022244194134-s0056-0000000452740376-0243-a_fast-tp.fits with expected size 295692480. [astroquery.mast.cloud]\n",
      "INFO: Found cached file G05101/mastDownload/TESS/tess2022244194134-s0056-0000000452740376-0243-s/tess2022244194134-s0056-0000000452740376-0243-s_lc.fits with expected size 2039040. [astroquery.mast.cloud]\n",
      "INFO: Found cached file G05101/mastDownload/TESS/tess2022244194134-s0056-0000000452740376-0243-s/tess2022244194134-s0056-0000000452740376-0243-s_tp.fits with expected size 49193280. [astroquery.mast.cloud]\n",
      "INFO: Found cached file G05101/mastDownload/TESS/tess2022273165103-s0057-0000000219089401-0245-s/tess2022273165103-s0057-0000000219089401-0245-s_lc.fits with expected size 2102400. [astroquery.mast.cloud]\n",
      "INFO: Found cached file G05101/mastDownload/TESS/tess2022273165103-s0057-0000000219089401-0245-s/tess2022273165103-s0057-0000000219089401-0245-s_tp.fits with expected size 50742720. [astroquery.mast.cloud]\n",
      "INFO: Found cached file G05101/mastDownload/TESS/tess2022273165103-s0057-0000000219097989-0245-s/tess2022273165103-s0057-0000000219097989-0245-s_lc.fits with expected size 2102400. [astroquery.mast.cloud]\n",
      "INFO: Found cached file G05101/mastDownload/TESS/tess2022273165103-s0057-0000000219097989-0245-s/tess2022273165103-s0057-0000000219097989-0245-s_tp.fits with expected size 50742720. [astroquery.mast.cloud]\n",
      "INFO: Found cached file G05101/mastDownload/TESS/tess2022273165103-s0057-0000000219796019-0245-s/tess2022273165103-s0057-0000000219796019-0245-s_lc.fits with expected size 2102400. [astroquery.mast.cloud]\n",
      "INFO: Found cached file G05101/mastDownload/TESS/tess2022273165103-s0057-0000000219796019-0245-s/tess2022273165103-s0057-0000000219796019-0245-s_tp.fits with expected size 50742720. [astroquery.mast.cloud]\n",
      "INFO: Found cached file G05101/mastDownload/TESS/tess2022273165103-s0057-0000000288144896-0245-a_fast/tess2022273165103-s0057-0000000288144896-0245-a_fast-lc.fits with expected size 12458880. [astroquery.mast.cloud]\n",
      "INFO: Found cached file G05101/mastDownload/TESS/tess2022273165103-s0057-0000000288144896-0245-a_fast/tess2022273165103-s0057-0000000288144896-0245-a_fast-tp.fits with expected size 304701120. [astroquery.mast.cloud]\n",
      "INFO: Found cached file G05101/mastDownload/TESS/tess2022273165103-s0057-0000000288144896-0245-s/tess2022273165103-s0057-0000000288144896-0245-s_lc.fits with expected size 2102400. [astroquery.mast.cloud]\n",
      "INFO: Found cached file G05101/mastDownload/TESS/tess2022273165103-s0057-0000000288144896-0245-s/tess2022273165103-s0057-0000000288144896-0245-s_tp.fits with expected size 50742720. [astroquery.mast.cloud]\n",
      "INFO: Found cached file G05101/mastDownload/TESS/tess2022273165103-s0057-0000000383623835-0245-s/tess2022273165103-s0057-0000000383623835-0245-s_lc.fits with expected size 2102400. [astroquery.mast.cloud]\n",
      "INFO: Found cached file G05101/mastDownload/TESS/tess2022273165103-s0057-0000000383623835-0245-s/tess2022273165103-s0057-0000000383623835-0245-s_tp.fits with expected size 59855040. [astroquery.mast.cloud]\n",
      "INFO: Found cached file G05101/mastDownload/TESS/tess2022273165103-s0057-0000000426959594-0245-a_fast/tess2022273165103-s0057-0000000426959594-0245-a_fast-lc.fits with expected size 12458880. [astroquery.mast.cloud]\n",
      "INFO: Found cached file G05101/mastDownload/TESS/tess2022273165103-s0057-0000000426959594-0245-a_fast/tess2022273165103-s0057-0000000426959594-0245-a_fast-tp.fits with expected size 304928640. [astroquery.mast.cloud]\n",
      "INFO: Found cached file G05101/mastDownload/TESS/tess2022273165103-s0057-0000000426959594-0245-s/tess2022273165103-s0057-0000000426959594-0245-s_lc.fits with expected size 2102400. [astroquery.mast.cloud]\n",
      "INFO: Found cached file G05101/mastDownload/TESS/tess2022273165103-s0057-0000000426959594-0245-s/tess2022273165103-s0057-0000000426959594-0245-s_tp.fits with expected size 50742720. [astroquery.mast.cloud]\n",
      "INFO: Found cached file G05101/mastDownload/TESS/tess2022302161335-s0058-0000000219089401-0247-s/tess2022302161335-s0058-0000000219089401-0247-s_lc.fits with expected size 2027520. [astroquery.mast.cloud]\n",
      "INFO: Found cached file G05101/mastDownload/TESS/tess2022302161335-s0058-0000000219089401-0247-s/tess2022302161335-s0058-0000000219089401-0247-s_tp.fits with expected size 48905280. [astroquery.mast.cloud]\n",
      "INFO: Found cached file G05101/mastDownload/TESS/tess2022302161335-s0058-0000000219097989-0247-s/tess2022302161335-s0058-0000000219097989-0247-s_lc.fits with expected size 2027520. [astroquery.mast.cloud]\n",
      "INFO: Found cached file G05101/mastDownload/TESS/tess2022302161335-s0058-0000000219097989-0247-s/tess2022302161335-s0058-0000000219097989-0247-s_tp.fits with expected size 48905280. [astroquery.mast.cloud]\n",
      "INFO: Found cached file G05101/mastDownload/TESS/tess2022302161335-s0058-0000000219796019-0247-s/tess2022302161335-s0058-0000000219796019-0247-s_lc.fits with expected size 2027520. [astroquery.mast.cloud]\n",
      "INFO: Found cached file G05101/mastDownload/TESS/tess2022302161335-s0058-0000000219796019-0247-s/tess2022302161335-s0058-0000000219796019-0247-s_tp.fits with expected size 48905280. [astroquery.mast.cloud]\n",
      "INFO: Found cached file G05101/mastDownload/TESS/tess2022302161335-s0058-0000000383623835-0247-s/tess2022302161335-s0058-0000000383623835-0247-s_lc.fits with expected size 2027520. [astroquery.mast.cloud]\n",
      "INFO: Found cached file G05101/mastDownload/TESS/tess2022302161335-s0058-0000000383623835-0247-s/tess2022302161335-s0058-0000000383623835-0247-s_tp.fits with expected size 57689280. [astroquery.mast.cloud]\n",
      "INFO: Found cached file G05101/mastDownload/TESS/tess2022330142927-s0059-0000000219089401-0248-s/tess2022330142927-s0059-0000000219089401-0248-s_lc.fits with expected size 1932480. [astroquery.mast.cloud]\n",
      "INFO: Found cached file G05101/mastDownload/TESS/tess2022330142927-s0059-0000000219089401-0248-s/tess2022330142927-s0059-0000000219089401-0248-s_tp.fits with expected size 46621440. [astroquery.mast.cloud]\n",
      "INFO: Found cached file G05101/mastDownload/TESS/tess2022330142927-s0059-0000000219097989-0248-s/tess2022330142927-s0059-0000000219097989-0248-s_lc.fits with expected size 1932480. [astroquery.mast.cloud]\n",
      "INFO: Found cached file G05101/mastDownload/TESS/tess2022330142927-s0059-0000000219097989-0248-s/tess2022330142927-s0059-0000000219097989-0248-s_tp.fits with expected size 46621440. [astroquery.mast.cloud]\n",
      "INFO: Found cached file G05101/mastDownload/TESS/tess2022330142927-s0059-0000000298411553-0248-a_fast/tess2022330142927-s0059-0000000298411553-0248-a_fast-lc.fits with expected size 11448000. [astroquery.mast.cloud]\n",
      "INFO: Found cached file G05101/mastDownload/TESS/tess2022330142927-s0059-0000000298411553-0248-a_fast/tess2022330142927-s0059-0000000298411553-0248-a_fast-tp.fits with expected size 280388160. [astroquery.mast.cloud]\n",
      "INFO: Found cached file G05101/mastDownload/TESS/tess2022330142927-s0059-0000000298411553-0248-s/tess2022330142927-s0059-0000000298411553-0248-s_lc.fits with expected size 1932480. [astroquery.mast.cloud]\n",
      "INFO: Found cached file G05101/mastDownload/TESS/tess2022330142927-s0059-0000000298411553-0248-s/tess2022330142927-s0059-0000000298411553-0248-s_tp.fits with expected size 46621440. [astroquery.mast.cloud]\n",
      "INFO: Found cached file G05101/mastDownload/TESS/tess2022330142927-s0059-0000000383623835-0248-s/tess2022330142927-s0059-0000000383623835-0248-s_lc.fits with expected size 1932480. [astroquery.mast.cloud]\n",
      "INFO: Found cached file G05101/mastDownload/TESS/tess2022330142927-s0059-0000000383623835-0248-s/tess2022330142927-s0059-0000000383623835-0248-s_tp.fits with expected size 54993600. [astroquery.mast.cloud]\n",
      "INFO: Found cached file G05101/mastDownload/TESS/tess2022357055054-s0060-0000000081103318-0249-s/tess2022357055054-s0060-0000000081103318-0249-s_lc.fits with expected size 1880640. [astroquery.mast.cloud]\n",
      "INFO: Found cached file G05101/mastDownload/TESS/tess2022357055054-s0060-0000000081103318-0249-s/tess2022357055054-s0060-0000000081103318-0249-s_tp.fits with expected size 45311040. [astroquery.mast.cloud]\n",
      "INFO: Found cached file G05101/mastDownload/TESS/tess2022357055054-s0060-0000000219089401-0249-s/tess2022357055054-s0060-0000000219089401-0249-s_lc.fits with expected size 1880640. [astroquery.mast.cloud]\n",
      "INFO: Found cached file G05101/mastDownload/TESS/tess2022357055054-s0060-0000000219089401-0249-s/tess2022357055054-s0060-0000000219089401-0249-s_tp.fits with expected size 45311040. [astroquery.mast.cloud]\n",
      "INFO: Found cached file G05101/mastDownload/TESS/tess2022357055054-s0060-0000000219097989-0249-s/tess2022357055054-s0060-0000000219097989-0249-s_lc.fits with expected size 1880640. [astroquery.mast.cloud]\n",
      "INFO: Found cached file G05101/mastDownload/TESS/tess2022357055054-s0060-0000000219097989-0249-s/tess2022357055054-s0060-0000000219097989-0249-s_tp.fits with expected size 45311040. [astroquery.mast.cloud]\n",
      "INFO: Found cached file G05101/mastDownload/TESS/tess2022357055054-s0060-0000000219796019-0249-s/tess2022357055054-s0060-0000000219796019-0249-s_lc.fits with expected size 1880640. [astroquery.mast.cloud]\n",
      "INFO: Found cached file G05101/mastDownload/TESS/tess2022357055054-s0060-0000000219796019-0249-s/tess2022357055054-s0060-0000000219796019-0249-s_tp.fits with expected size 45311040. [astroquery.mast.cloud]\n",
      "INFO: Found cached file G05101/mastDownload/TESS/tess2022357055054-s0060-0000000298411553-0249-a_fast/tess2022357055054-s0060-0000000298411553-0249-a_fast-lc.fits with expected size 11128320. [astroquery.mast.cloud]\n",
      "INFO: Found cached file G05101/mastDownload/TESS/tess2022357055054-s0060-0000000298411553-0249-a_fast/tess2022357055054-s0060-0000000298411553-0249-a_fast-tp.fits with expected size 272208960. [astroquery.mast.cloud]\n",
      "INFO: Found cached file G05101/mastDownload/TESS/tess2022357055054-s0060-0000000298411553-0249-s/tess2022357055054-s0060-0000000298411553-0249-s_lc.fits with expected size 1880640. [astroquery.mast.cloud]\n",
      "INFO: Found cached file G05101/mastDownload/TESS/tess2022357055054-s0060-0000000298411553-0249-s/tess2022357055054-s0060-0000000298411553-0249-s_tp.fits with expected size 45311040. [astroquery.mast.cloud]\n",
      "INFO: Found cached file G05101/mastDownload/TESS/tess2022357055054-s0060-0000000383623835-0249-s/tess2022357055054-s0060-0000000383623835-0249-s_lc.fits with expected size 1880640. [astroquery.mast.cloud]\n",
      "INFO: Found cached file G05101/mastDownload/TESS/tess2022357055054-s0060-0000000383623835-0249-s/tess2022357055054-s0060-0000000383623835-0249-s_tp.fits with expected size 53449920. [astroquery.mast.cloud]\n",
      "INFO: Found cached file G05101/mastDownload/TESS/tess2023018032328-s0061-0000000000933650-0250-s/tess2023018032328-s0061-0000000000933650-0250-s_lc.fits with expected size 1860480. [astroquery.mast.cloud]\n",
      "INFO: Found cached file G05101/mastDownload/TESS/tess2023018032328-s0061-0000000000933650-0250-s/tess2023018032328-s0061-0000000000933650-0250-s_tp.fits with expected size 44867520. [astroquery.mast.cloud]\n",
      "INFO: Found cached file G05101/mastDownload/TESS/tess2023018032328-s0061-0000000267330921-0250-s/tess2023018032328-s0061-0000000267330921-0250-s_lc.fits with expected size 1860480. [astroquery.mast.cloud]\n",
      "INFO: Found cached file G05101/mastDownload/TESS/tess2023018032328-s0061-0000000267330921-0250-s/tess2023018032328-s0061-0000000267330921-0250-s_tp.fits with expected size 52922880. [astroquery.mast.cloud]\n",
      "INFO: Found cached file G05101/mastDownload/TESS/tess2023018032328-s0061-0000000802881650-0250-s/tess2023018032328-s0061-0000000802881650-0250-s_lc.fits with expected size 1860480. [astroquery.mast.cloud]\n",
      "INFO: Found cached file G05101/mastDownload/TESS/tess2023018032328-s0061-0000000802881650-0250-s/tess2023018032328-s0061-0000000802881650-0250-s_tp.fits with expected size 44867520. [astroquery.mast.cloud]\n",
      "INFO: Found cached file G05101/mastDownload/TESS/tess2023043185947-s0062-0000000267330921-0254-s/tess2023043185947-s0062-0000000267330921-0254-s_lc.fits with expected size 1880640. [astroquery.mast.cloud]\n",
      "INFO: Found cached file G05101/mastDownload/TESS/tess2023043185947-s0062-0000000267330921-0254-s/tess2023043185947-s0062-0000000267330921-0254-s_tp.fits with expected size 53516160. [astroquery.mast.cloud]\n",
      "INFO: Found cached file G05101/mastDownload/TESS/tess2023096110322-s0064-0000000005914520-0257-s/tess2023096110322-s0064-0000000005914520-0257-s_lc.fits with expected size 1969920. [astroquery.mast.cloud]\n",
      "INFO: Found cached file G05101/mastDownload/TESS/tess2023096110322-s0064-0000000005914520-0257-s/tess2023096110322-s0064-0000000005914520-0257-s_tp.fits with expected size 56021760. [astroquery.mast.cloud]\n",
      "INFO: Found cached file G05101/mastDownload/TESS/tess2023153011303-s0066-0000000148533811-0260-s/tess2023153011303-s0066-0000000148533811-0260-s_lc.fits with expected size 2099520. [astroquery.mast.cloud]\n",
      "INFO: Found cached file G05101/mastDownload/TESS/tess2023153011303-s0066-0000000148533811-0260-s/tess2023153011303-s0066-0000000148533811-0260-s_tp.fits with expected size 59840640. [astroquery.mast.cloud]\n",
      "INFO: Found cached file G05101/mastDownload/TESS/tess2023153011303-s0066-0000000468150691-0260-a_fast/tess2023153011303-s0066-0000000468150691-0260-a_fast-lc.fits with expected size 12456000. [astroquery.mast.cloud]\n",
      "INFO: Found cached file G05101/mastDownload/TESS/tess2023153011303-s0066-0000000468150691-0260-a_fast/tess2023153011303-s0066-0000000468150691-0260-a_fast-tp.fits with expected size 359519040. [astroquery.mast.cloud]\n",
      "INFO: Found cached file G05101/mastDownload/TESS/tess2023153011303-s0066-0000000468150691-0260-s/tess2023153011303-s0066-0000000468150691-0260-s_lc.fits with expected size 2099520. [astroquery.mast.cloud]\n",
      "INFO: Found cached file G05101/mastDownload/TESS/tess2023153011303-s0066-0000000468150691-0260-s/tess2023153011303-s0066-0000000468150691-0260-s_tp.fits with expected size 59840640. [astroquery.mast.cloud]\n",
      "INFO: Found cached file G05101/mastDownload/TESS/tess2023181235917-s0067-0000000079154271-0261-s/tess2023181235917-s0067-0000000079154271-0261-s_lc.fits with expected size 2027520. [astroquery.mast.cloud]\n",
      "INFO: Found cached file G05101/mastDownload/TESS/tess2023181235917-s0067-0000000079154271-0261-s/tess2023181235917-s0067-0000000079154271-0261-s_tp.fits with expected size 48965760. [astroquery.mast.cloud]\n",
      "INFO: Found cached file G05101/mastDownload/TESS/tess2023181235917-s0067-0000000468150691-0261-a_fast/tess2023181235917-s0067-0000000468150691-0261-a_fast-lc.fits with expected size 12024000. [astroquery.mast.cloud]\n",
      "INFO: Found cached file G05101/mastDownload/TESS/tess2023181235917-s0067-0000000468150691-0261-a_fast/tess2023181235917-s0067-0000000468150691-0261-a_fast-tp.fits with expected size 347048640. [astroquery.mast.cloud]\n",
      "INFO: Found cached file G05101/mastDownload/TESS/tess2023181235917-s0067-0000000468150691-0261-s/tess2023181235917-s0067-0000000468150691-0261-s_lc.fits with expected size 2027520. [astroquery.mast.cloud]\n",
      "INFO: Found cached file G05101/mastDownload/TESS/tess2023181235917-s0067-0000000468150691-0261-s/tess2023181235917-s0067-0000000468150691-0261-s_tp.fits with expected size 57761280. [astroquery.mast.cloud]\n",
      "INFO: Found cached file G05101/mastDownload/TESS/tess2023237165326-s0069-0000000200779640-0264-a_fast/tess2023237165326-s0069-0000000200779640-0264-a_fast-lc.fits with expected size 11171520. [astroquery.mast.cloud]\n",
      "INFO: Found cached file G05101/mastDownload/TESS/tess2023237165326-s0069-0000000200779640-0264-a_fast/tess2023237165326-s0069-0000000200779640-0264-a_fast-tp.fits with expected size 273306240. [astroquery.mast.cloud]\n",
      "INFO: Found cached file G05101/mastDownload/TESS/tess2023237165326-s0069-0000000200779640-0264-s/tess2023237165326-s0069-0000000200779640-0264-s_lc.fits with expected size 1886400. [astroquery.mast.cloud]\n",
      "INFO: Found cached file G05101/mastDownload/TESS/tess2023237165326-s0069-0000000200779640-0264-s/tess2023237165326-s0069-0000000200779640-0264-s_tp.fits with expected size 45495360. [astroquery.mast.cloud]\n",
      "INFO: Found cached file G05101/mastDownload/TESS/tess2023237165326-s0069-0000000207200679-0264-a_fast/tess2023237165326-s0069-0000000207200679-0264-a_fast-lc.fits with expected size 11171520. [astroquery.mast.cloud]\n",
      "INFO: Found cached file G05101/mastDownload/TESS/tess2023237165326-s0069-0000000207200679-0264-a_fast/tess2023237165326-s0069-0000000207200679-0264-a_fast-tp.fits with expected size 273329280. [astroquery.mast.cloud]\n",
      "INFO: Found cached file G05101/mastDownload/TESS/tess2023237165326-s0069-0000000207200679-0264-s/tess2023237165326-s0069-0000000207200679-0264-s_lc.fits with expected size 1886400. [astroquery.mast.cloud]\n",
      "INFO: Found cached file G05101/mastDownload/TESS/tess2023237165326-s0069-0000000207200679-0264-s/tess2023237165326-s0069-0000000207200679-0264-s_tp.fits with expected size 45495360. [astroquery.mast.cloud]\n"
     ]
    }
   ],
   "source": [
    "manifest = Observations.download_products(data_prod_pid, download_dir=f'{pid}', cloud_only=False)\n"
   ]
  },
  {
   "cell_type": "markdown",
   "id": "4c152c6a-56e6-4bd2-9603-3833fe9cf697",
   "metadata": {},
   "source": [
    "All TESS data products (light curves, target pixel files, and data validation files) associated with Guest Investigator program G05101 have been downloaded"
   ]
  },
  {
   "cell_type": "markdown",
   "id": "0e0e8d71-6f08-47c4-9e2f-3e906cda104a",
   "metadata": {
    "tags": []
   },
   "source": [
    "## About this Notebook\n",
    "\n",
    "**Author:** Hannah M. Lewis, STScI Data Scientist\n",
    "\n",
    "**Updated On:** 2023-01-05, 2023-12-19\n",
    "\n",
    "<img style=\"float: right;\" src=\"https://raw.githubusercontent.com/spacetelescope/notebooks/master/assets/stsci_pri_combo_mark_horizonal_white_bkgd.png\" alt=\"STScI logo\" width=\"200px\"/>"
   ]
  },
  {
   "cell_type": "code",
   "execution_count": null,
   "id": "e2c4f7a1-8b6e-4add-af79-f1d2c1303d17",
   "metadata": {},
   "outputs": [],
   "source": []
  }
 ],
 "metadata": {
  "kernelspec": {
   "display_name": "TESS Environment",
   "language": "python",
   "name": "tess"
  },
  "language_info": {
   "codemirror_mode": {
    "name": "ipython",
    "version": 3
   },
   "file_extension": ".py",
   "mimetype": "text/x-python",
   "name": "python",
   "nbconvert_exporter": "python",
   "pygments_lexer": "ipython3",
   "version": "3.8.17"
  }
 },
 "nbformat": 4,
 "nbformat_minor": 5
}
