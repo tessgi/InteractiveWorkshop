{
 "cells": [
  {
   "cell_type": "markdown",
   "id": "6320d8d2-4a14-4087-b6fd-69813c8c6f17",
   "metadata": {},
   "source": [
    "# How to Access TESS Data: `astroquery`"
   ]
  },
  {
   "cell_type": "markdown",
   "id": "e69949b1-217b-490f-8856-66eee4dc498d",
   "metadata": {},
   "source": [
    "## Introduction\n",
    "\n",
    "This notebook uses the MAST Portal's advanced search options to retrieve the (1) all TESS light curves for a single target, and (2) all data products from an example guest investigator program. The notbook will show how to do an advanced query with `astroquery.mast` and filter out data products that are not desired, and then download the files of interest from the AWS S3 bucket.\n",
    "\n",
    "NOTE -- The list of program IDs can be found at the [TESS GI List of Approved Programs](https://heasarc.gsfc.nasa.gov/docs/tess/approved-programs.html).\n",
    "\n"
   ]
  },
  {
   "cell_type": "markdown",
   "id": "adec5027-fec0-4bcb-8d10-f70f42fff5ff",
   "metadata": {},
   "source": [
    "## Imports\n",
    "- The `Observations` module from `astroquery.mast` is needed to make the query and download the data\n",
    "\n",
    "NOTE -- If you are running this notebook on the TIKE, as recommended, you should not need to install or update your `astroquery` package"
   ]
  },
  {
   "cell_type": "code",
   "execution_count": null,
   "id": "cf652882-ba92-4509-93c8-15bf0714299e",
   "metadata": {},
   "outputs": [],
   "source": [
    "from astroquery.mast import Observations"
   ]
  },
  {
   "cell_type": "markdown",
   "id": "4a5db2d2-6e9a-4aa0-a8e4-27ccd3d2b529",
   "metadata": {},
   "source": [
    "All data from the TESS Mission are available for free on Amazon Web Services in public S3 buckets. (See the small caveat to this at the end of this notebook.) At this point, we'll also tell `astroquery` to download any data directly from the S3 bucket.\n",
    "\n",
    "NOTE -- Using AWS resources to access public MAST data **no longer requires an AWS account** for all AWS regions. See the [`astroquery.mast` documentation](https://astroquery.readthedocs.io/en/latest/mast/mast.html#cloud-data-access) for more details."
   ]
  },
  {
   "cell_type": "code",
   "execution_count": null,
   "id": "88425042-75e0-4e43-b720-3c5d1ccb8ac7",
   "metadata": {},
   "outputs": [],
   "source": [
    "Observations.enable_cloud_dataset(provider='AWS')"
   ]
  },
  {
   "cell_type": "markdown",
   "id": "966c29df-1038-4c0e-9eec-c701662843cc",
   "metadata": {
    "tags": []
   },
   "source": [
    "## Query for a specific target\n",
    "In this example, we want to retrieve all TESS data (light curves, target pixel files, and data validation files) for the target TIC 7854182 (a known $\\delta$ Scuti star in an eclipsing binary; Chen et al. 2022, Kahraman Aliçavuş et al. 2017, Liakos & Niarchos 2017).\n",
    "\n",
    "Feel free to use **your** favorite target here!"
   ]
  },
  {
   "cell_type": "code",
   "execution_count": null,
   "id": "58b42980-ba7d-4cf0-9189-677a4299f3ac",
   "metadata": {},
   "outputs": [],
   "source": [
    "target_name = \"TIC 7854182\""
   ]
  },
  {
   "cell_type": "code",
   "execution_count": null,
   "id": "64b09a75-451e-467f-8f72-daeab4e7eee4",
   "metadata": {},
   "outputs": [],
   "source": [
    "obs = Observations.query_object(target_name, radius=\"0s\")\n"
   ]
  },
  {
   "cell_type": "code",
   "execution_count": null,
   "id": "dd513f12-8fce-4a1c-b44a-edb8999e6eff",
   "metadata": {},
   "outputs": [],
   "source": [
    "print(f\"TOTAL Number of Observations available for {target_name}: \\n{len(obs)}\")"
   ]
  },
  {
   "cell_type": "markdown",
   "id": "7307a62f-1bcd-4146-bb50-1227c4f1adf0",
   "metadata": {},
   "source": [
    "The total number of Observations include all Missions (HST, JWST, etc.) in the MAST collection, as we have not filtered down to just TESS data yet.\n",
    "\n",
    "Next, we want to apply the advanced search filters to narrow our results, and retrieve the list of data products that are associated with each Observation.\n",
    "\n",
    "The filter names that can be used in the `get_product_list` function are listed on the [MAST API Field Description Page](https://mast.stsci.edu/api/v0/_c_a_o_mfields.html).\n",
    "\n",
    "To keep this search simple, we will use the following filters:\n",
    "- obs_collection to specify that we only want TESS data\n",
    "- dataproduct_type to specify that we want timeseries data"
   ]
  },
  {
   "cell_type": "code",
   "execution_count": null,
   "id": "14f4b60b-6f2d-450f-ae60-09b052aaa34a",
   "metadata": {},
   "outputs": [],
   "source": [
    "filters = (obs['obs_collection'] == \"TESS\") & (obs['dataproduct_type'] == 'timeseries')\n",
    "\n",
    "# Pick which products we want to retrieve using the Advanced Search options\n",
    "data_prod = Observations.get_product_list(obs[filters])\n"
   ]
  },
  {
   "cell_type": "code",
   "execution_count": null,
   "id": "6bd85d5d-232e-4666-907b-8a16a9bc515e",
   "metadata": {},
   "outputs": [],
   "source": [
    "print(f\"Number of TESS time series data products available for {target_name}: \\n{len(data_prod)}\")"
   ]
  },
  {
   "cell_type": "code",
   "execution_count": null,
   "id": "18d0e162-9d58-4927-a30a-7ad52f523dae",
   "metadata": {},
   "outputs": [],
   "source": [
    "display(data_prod[-5:])"
   ]
  },
  {
   "cell_type": "markdown",
   "id": "c57d8f09-3fe7-4bc9-adbd-97d72a61b4e9",
   "metadata": {},
   "source": [
    "If we decide that we only want to download, e.g., the light curve files, we can further filter the products list based on the columns/fields in the table.\n",
    "\n",
    "Descriptions of each of the product filters that can be used in the `filter_products` function are available on the [MAST API Product Field Description page](https://mast.stsci.edu/api/v0/_productsfields.html)."
   ]
  },
  {
   "cell_type": "code",
   "execution_count": null,
   "id": "bcd93629-586e-437a-a3e9-9a8993895a7c",
   "metadata": {},
   "outputs": [],
   "source": [
    "data_prod.colnames\n"
   ]
  },
  {
   "cell_type": "code",
   "execution_count": null,
   "id": "43c1c0ef-64b9-4869-8ac8-e332bc4f34cb",
   "metadata": {},
   "outputs": [],
   "source": [
    "# Select which files to download from the S3 bucket by applying additional filters\n",
    "filt_prod = Observations.filter_products(data_prod, description='Light curves')\n"
   ]
  },
  {
   "cell_type": "code",
   "execution_count": null,
   "id": "0007d3e6-791c-4c99-b78a-0101a78678e6",
   "metadata": {},
   "outputs": [],
   "source": [
    "print(f\"Number of TESS light curves available for {target_name}: \\n{len(filt_prod)}\")"
   ]
  },
  {
   "cell_type": "code",
   "execution_count": null,
   "id": "a5cb89c0-c407-490c-8fef-000d3aca8e43",
   "metadata": {},
   "outputs": [],
   "source": [
    "display(filt_prod)"
   ]
  },
  {
   "cell_type": "markdown",
   "id": "685f1032-0506-4541-847e-cd97958b4649",
   "metadata": {},
   "source": [
    "Now, we're ready to download the data from the AWS S3 bucket!\n",
    "\n",
    "When set to True, the `cloud_only` parameter in `download_products` skips any data products that are not available in the cloud; all TESS Mission data are available through AWS, so none of the selected data products should be skipped.\n",
    "\n",
    "NOTE -- If you try to download the same file(s) more than once (e.g., by running the cell below multiple times), you should get the message \"Found cached file\" instead of \"Downloading URL\" in the printed manifest."
   ]
  },
  {
   "cell_type": "code",
   "execution_count": null,
   "id": "c21a8378-dded-4b8e-b22e-4ef0495b84aa",
   "metadata": {},
   "outputs": [],
   "source": [
    "manifest = Observations.download_products(filt_prod, cloud_only=True)\n"
   ]
  },
  {
   "cell_type": "markdown",
   "id": "7d60fa49-924e-47ec-9765-1379b3f436bd",
   "metadata": {},
   "source": [
    "All TESS light curves for TIC 7854182 have been downloaded, and we're ready to start our science!"
   ]
  },
  {
   "cell_type": "markdown",
   "id": "a19de73d-033b-4b48-a31f-21e91f07583d",
   "metadata": {
    "tags": []
   },
   "source": [
    "## Query for a specific Guest Investigator program\n",
    "In this example, we want to retrieve all TESS data (light curves, target pixel files, and data validation files) associated with Guest Investigator program G05101 from Cycle 5 (PI: Susan Mullally).\n",
    "\n",
    "Feel free to use any program here! Again, the list of program IDs can be found at the [TESS GI List of Approved Programs](https://heasarc.gsfc.nasa.gov/docs/tess/approved-programs.html)."
   ]
  },
  {
   "cell_type": "code",
   "execution_count": null,
   "id": "2d9af135-94c1-4214-9a58-87ecfa9ce1a0",
   "metadata": {},
   "outputs": [],
   "source": [
    "pid = \"G05101\""
   ]
  },
  {
   "cell_type": "code",
   "execution_count": null,
   "id": "91a25f4c-fa8a-4eca-a731-52e636fee448",
   "metadata": {},
   "outputs": [],
   "source": [
    "obs_pid = Observations.query_criteria(obs_collection = \"TESS\",\n",
    "                                  proposal_id = f\"*{pid}*\")"
   ]
  },
  {
   "cell_type": "code",
   "execution_count": null,
   "id": "d684eac1-6ac2-4d01-baeb-2b2487988bfa",
   "metadata": {},
   "outputs": [],
   "source": [
    "print(f\"TOTAL Number of Observations available for {pid}: \\n{len(obs_pid)}\")"
   ]
  },
  {
   "cell_type": "code",
   "execution_count": null,
   "id": "fd7c29b0-a74b-47d1-82d3-b6db39d65976",
   "metadata": {},
   "outputs": [],
   "source": [
    "display(obs_pid[:5])"
   ]
  },
  {
   "cell_type": "markdown",
   "id": "3c2f097c-7f57-402a-9094-e58decf90a21",
   "metadata": {},
   "source": [
    "Next, we will retrieve the list of data products that are associated with each Observation.\n"
   ]
  },
  {
   "cell_type": "code",
   "execution_count": null,
   "id": "a284a407-22ed-4123-ace4-0a33ae1cad8e",
   "metadata": {},
   "outputs": [],
   "source": [
    "# Pick which products we want to retrieve\n",
    "data_prod_pid = Observations.get_product_list(obs_pid)"
   ]
  },
  {
   "cell_type": "code",
   "execution_count": null,
   "id": "abef04aa-cf5f-4480-a2dd-7a727bdcf804",
   "metadata": {},
   "outputs": [],
   "source": [
    "print(f\"Number of TESS data products available for {pid}: \\n{len(data_prod_pid)}\")"
   ]
  },
  {
   "cell_type": "code",
   "execution_count": null,
   "id": "33289b3b-44f3-4dad-9a57-adc2722700df",
   "metadata": {},
   "outputs": [],
   "source": [
    "display(data_prod[10:17])"
   ]
  },
  {
   "cell_type": "markdown",
   "id": "ce6534b7-2490-44b4-9207-140fd8af03f5",
   "metadata": {},
   "source": [
    "As above, if we decide that we only want to download, e.g., the light curve files, we can further filter the products list based on the columns/fields in the table.\n",
    "\n",
    "For our purposes, this step is optional; I'm going to download **all** of the available data products for this program ID."
   ]
  },
  {
   "cell_type": "code",
   "execution_count": null,
   "id": "82d758f4-30b2-45e2-b193-45631a64d6ba",
   "metadata": {},
   "outputs": [],
   "source": [
    "# OPTIONAL\n",
    "# Select which files to download from the S3 bucket by applying additional filters\n",
    "#filt_prod = Observations.filter_products(data_prod_pid, description='Light curves')"
   ]
  },
  {
   "cell_type": "markdown",
   "id": "ad0de2de-7c5e-4c9b-bdd0-7e3cbc77b114",
   "metadata": {},
   "source": [
    "Now, we're ready to download the data from the AWS S3 bucket!\n",
    "\n",
    "By default, all downloads will be placed in a `./mastDownload/` directory on the TIKE. If you'd like to change this directory, use the `download_dir` parameter in the `download_products` functions. For example, you may want to place all products downloaded for GI program G05101 in a directory named `./G05101`, as shown below.\n"
   ]
  },
  {
   "cell_type": "code",
   "execution_count": null,
   "id": "9d241f44-3fa3-46a5-a776-cdb8c2dc8901",
   "metadata": {},
   "outputs": [],
   "source": [
    "manifest = Observations.download_products(data_prod_pid, download_dir=f'{pid}', cloud_only=True)\n"
   ]
  },
  {
   "cell_type": "markdown",
   "id": "79c20955-ee97-4d1a-9f31-34f43d7ef3c1",
   "metadata": {},
   "source": [
    "If you scroll through the above manifest, you may notice an error:\n",
    "```\n",
    "ERROR: Error pulling from S3 bucket: 'productFilename' [astroquery.mast.observations]\n",
    "WARNING: Skipping file... [astroquery.mast.observations]\n",
    "```\n",
    "\n",
    "So, what happened here? Let's check the manifest to see which files were not downloaded.\n"
   ]
  },
  {
   "cell_type": "code",
   "execution_count": null,
   "id": "17d2d03e-bdb8-46dd-97fe-d8bd65cd4c1e",
   "metadata": {},
   "outputs": [],
   "source": [
    "display(manifest[manifest['Status']!='COMPLETE'])"
   ]
  },
  {
   "cell_type": "markdown",
   "id": "ddd49f11-dad0-404a-85ca-0bce9106ca18",
   "metadata": {},
   "source": [
    "When we say that \"ALL\" data from the TESS Mission are available in AWS S3 buckets, there is a small caveat.\n",
    "\n",
    "The TESS Full Data Validation Reports (`*_dvr.pdf`) and Mini Data Validation Reports (`*_drm.pdf`), which are produced for all TCEs associated with a particular host star, are **not currently** hosted on AWS.\n",
    "\n",
    "As MAST moves towards a more cloud-based model for data access, MAST is considering adding these types of data products to the AWS S3 bucket, but for now, if we want to download them to our local directory, we'll need to download them directly from MAST. To do this, we set `cloud_only=False`. If set to False and cloud data access is enabled (`enable_cloud_dataset` above), files that are not found in the cloud will be downloaded from MAST."
   ]
  },
  {
   "cell_type": "code",
   "execution_count": null,
   "id": "8ed6cade-79e5-4786-a031-dffe08e662a6",
   "metadata": {},
   "outputs": [],
   "source": [
    "manifest = Observations.download_products(data_prod_pid, download_dir=f'{pid}', cloud_only=False)\n"
   ]
  },
  {
   "cell_type": "markdown",
   "id": "4c152c6a-56e6-4bd2-9603-3833fe9cf697",
   "metadata": {},
   "source": [
    "All TESS data products (light curves, target pixel files, and data validation files) associated with Guest Investigator program G05101 have been downloaded"
   ]
  },
  {
   "cell_type": "markdown",
   "id": "0e0e8d71-6f08-47c4-9e2f-3e906cda104a",
   "metadata": {
    "tags": []
   },
   "source": [
    "## About this Notebook\n",
    "\n",
    "**Author:** Hannah M. Lewis, STScI Data Scientist\n",
    "\n",
    "**Updated On:** 2023-01-05\n",
    "\n",
    "<img style=\"float: right;\" src=\"https://raw.githubusercontent.com/spacetelescope/notebooks/master/assets/stsci_pri_combo_mark_horizonal_white_bkgd.png\" alt=\"STScI logo\" width=\"200px\"/>"
   ]
  }
 ],
 "metadata": {
  "kernelspec": {
   "display_name": "TESS Environment",
   "language": "python",
   "name": "tess"
  },
  "language_info": {
   "codemirror_mode": {
    "name": "ipython",
    "version": 3
   },
   "file_extension": ".py",
   "mimetype": "text/x-python",
   "name": "python",
   "nbconvert_exporter": "python",
   "pygments_lexer": "ipython3",
   "version": "3.8.13"
  }
 },
 "nbformat": 4,
 "nbformat_minor": 5
}
