{
 "cells": [
  {
   "cell_type": "markdown",
   "id": "6320d8d2-4a14-4087-b6fd-69813c8c6f17",
   "metadata": {},
   "source": [
    "# How to Access TESS Data: `astroquery`"
   ]
  },
  {
   "cell_type": "markdown",
   "id": "e69949b1-217b-490f-8856-66eee4dc498d",
   "metadata": {},
   "source": [
    "## Introduction\n",
    "\n",
    "By the end of this Notebook, you will:\n",
    "- Understand how to query for TESS light curves for a single target\n",
    "- Apply querying techniques to look for data from an example TESS Guest Investigator program\n",
    "- Be able to recognize the appropriate syntax for data access in TIKE\n",
    "\n",
    "To achieve the above goals, we'll perform some advanced queries with `astroquery.mast`. We'll also take a look at the two approaches to handling data, depending on whether you're working locally or on the TIKE platform."
   ]
  },
  {
   "cell_type": "markdown",
   "id": "adec5027-fec0-4bcb-8d10-f70f42fff5ff",
   "metadata": {},
   "source": [
    "## Imports and Setup\n",
    "- The `Observations` module from `astroquery.mast` is needed to make the query and download the data\n",
    "- `s3fs` lets us read data from the S3 bucket as though it were local\n",
    "\n",
    "Note: If you are running this notebook on the TIKE, as recommended, you should not need to install or update your `astroquery` package. It \"just works\"."
   ]
  },
  {
   "cell_type": "code",
   "execution_count": 15,
   "id": "cf652882-ba92-4509-93c8-15bf0714299e",
   "metadata": {
    "tags": []
   },
   "outputs": [],
   "source": [
    "from astroquery.mast import Observations\n",
    "from astropy.io import fits\n",
    "\n",
    "import s3fs"
   ]
  },
  {
   "cell_type": "markdown",
   "id": "4a5db2d2-6e9a-4aa0-a8e4-27ccd3d2b529",
   "metadata": {},
   "source": [
    "Virtually all data from the TESS Mission are available for free on Amazon Web Services in public S3 bucket (as we'll see in the example below, S3 is missing data validation reports). There are two methods for access:\n",
    "1. Read the files \"locally\" on TIKE (recommended)\n",
    "2. Re-direct downloads from the MAST Servers to the AWS datacenter. [No AWS account required!](https://astroquery.readthedocs.io/en/latest/mast/mast.html#cloud-data-access).\n",
    "\n",
    "Whichever method we chose, the querying method is identical. We'll start by activating cloud access, which is necessary for method 2."
   ]
  },
  {
   "cell_type": "code",
   "execution_count": 2,
   "id": "88425042-75e0-4e43-b720-3c5d1ccb8ac7",
   "metadata": {
    "tags": []
   },
   "outputs": [
    {
     "name": "stdout",
     "output_type": "stream",
     "text": [
      "INFO: Using the S3 STScI public dataset [astroquery.mast.cloud]\n"
     ]
    }
   ],
   "source": [
    "# Enables downloads from the S3 bucket for method 2\n",
    "Observations.enable_cloud_dataset()"
   ]
  },
  {
   "cell_type": "markdown",
   "id": "966c29df-1038-4c0e-9eec-c701662843cc",
   "metadata": {
    "tags": []
   },
   "source": [
    "## Query for a specific target\n",
    "In this example, we want to retrieve all TESS data (light curves, target pixel files, and data validation files) for the target TIC 7854182, a known $\\delta$ Scuti star in an eclipsing binary (Chen et al. 2022, Kahraman Aliçavuş et al. 2017, Liakos & Niarchos 2017).\n",
    "\n",
    "Feel free to use your favorite target here instead!\n",
    "\n",
    "### A Slow Positional Query, for Completeness\n",
    "\n",
    "We're going to perform a positional query to begin. This is the most generic type of MAST Search you can perform. The entered target name is converted to coordinates by Simbad and NED, then a query begins for any spatially overlapping Observations in the MAST Archive. As you might imagine, there is a limit on how quickly this type of search can be performed, even with an \"exact match\" search `radius=0`."
   ]
  },
  {
   "cell_type": "code",
   "execution_count": 3,
   "id": "58b42980-ba7d-4cf0-9189-677a4299f3ac",
   "metadata": {
    "tags": []
   },
   "outputs": [],
   "source": [
    "# Feel free to use your favorite target here instead\n",
    "target_name = \"TIC 7854182\""
   ]
  },
  {
   "cell_type": "code",
   "execution_count": 4,
   "id": "64b09a75-451e-467f-8f72-daeab4e7eee4",
   "metadata": {
    "tags": []
   },
   "outputs": [],
   "source": [
    "obs = Observations.query_object(target_name, radius=\"0s\")"
   ]
  },
  {
   "cell_type": "markdown",
   "id": "7d8e7bbf-8801-45da-924e-5928deefee65",
   "metadata": {},
   "source": [
    "The results of our search are stored (as an Astropy Table) in the `obs` variable we set above. Let's print out the length of the table and then a random subset of the Observations returned."
   ]
  },
  {
   "cell_type": "code",
   "execution_count": 5,
   "id": "dd513f12-8fce-4a1c-b44a-edb8999e6eff",
   "metadata": {
    "tags": []
   },
   "outputs": [
    {
     "name": "stdout",
     "output_type": "stream",
     "text": [
      "TOTAL Observations available for TIC 7854182: \n",
      "47\n",
      "intentType obs_collection provenance_name ... srcDen   obsid   distance\n",
      "---------- -------------- --------------- ... ------ --------- --------\n",
      "   science           TESS            SPOC ...    nan  27463640      0.0\n",
      "   science           TESS            SPOC ...    nan  96861135      0.0\n",
      "   science            PS1             3PI ... 5885.0   2578109      0.0\n",
      "   science           HLSP           TASOC ...    nan 102001412      0.0\n",
      "   science           HLSP            TICA ...    nan 100379453      0.0\n"
     ]
    }
   ],
   "source": [
    "# Print total number of Observations\n",
    "print(f\"TOTAL Observations available for {target_name}: \\n{len(obs)}\")\n",
    "\n",
    "# Print every tenth row in the table\n",
    "print(obs[::10])"
   ]
  },
  {
   "cell_type": "markdown",
   "id": "7307a62f-1bcd-4146-bb50-1227c4f1adf0",
   "metadata": {},
   "source": [
    "Depending on when you run this query, you may see TESS, [PS1](https://archive.stsci.edu/panstarrs/), and [HLSP](archive.stsci.edu/hlsp). Evidently, such queries work very well for holistic searches, and there are a multitude of reasons you may want to know if you target has been observed by more than just TESS. It is also possible to filter the results from our generic search with indexing."
   ]
  },
  {
   "cell_type": "code",
   "execution_count": 6,
   "id": "11a797e7-eac9-4a66-9d13-a5b1542e63be",
   "metadata": {
    "tags": []
   },
   "outputs": [
    {
     "data": {
      "text/plain": [
       "18"
      ]
     },
     "execution_count": 6,
     "metadata": {},
     "output_type": "execute_result"
    }
   ],
   "source": [
    "just_tess = obs[obs['obs_collection']=='TESS']\n",
    "len(just_tess)"
   ]
  },
  {
   "cell_type": "markdown",
   "id": "67582aee-8406-4efd-aa2a-ae22778f52cc",
   "metadata": {},
   "source": [
    "As of Jan 2024, this gives 18 results. Regardless of when you run this code, the number of results after filtering will be lower, since we've excluded other missions from this count.\n",
    "\n",
    "However, as mentioned, this type of search is slow. It is particularly inefficient when we know the TICID, as there is a convenient shortcut we can take.\n",
    "\n",
    "### A Convenient Shortcut\n",
    "We can take advantage of a rather convenient shortcut, since we know two critical facts:\n",
    "1. The data was collected by TESS (`obs_collection=\"TESS\"`)\n",
    "2. The TICID of our target (`target_name=\"####\"`)\n",
    "\n",
    "We'll use a new search function, the `Observations.query_criteria` search. The full list of queryable criteria is available on the [CAOM field descriptions page](https://mast.stsci.edu/api/v0/_c_a_o_mfields.html). Passing the criteria from our list to the search function will be sufficient to narrow down our observations, and has the advantage of being quicker. We are also certain to avoid any issues with the conversion of target name to coordinates.\n",
    "\n",
    "**NOTE:** This shortcut only works because the TICID provides a consistent labeling framework for targets. Typically, this field is populated by the value submitted by the proposer in the APT file. That is to say: it is normally wildly inconsistent. Use with extreme caution, or potentially not at all, outside of the context of TESS."
   ]
  },
  {
   "cell_type": "code",
   "execution_count": 7,
   "id": "eccf710c-a810-453f-a1f7-72541937ed69",
   "metadata": {
    "tags": []
   },
   "outputs": [
    {
     "data": {
      "text/html": [
       "<div><i>Table masked=True length=5</i>\n",
       "<table id=\"table140471723561168\" class=\"table-striped table-bordered table-condensed\">\n",
       "<thead><tr><th>intentType</th><th>obs_collection</th><th>provenance_name</th><th>instrument_name</th><th>project</th><th>filters</th><th>wavelength_region</th><th>target_name</th><th>target_classification</th><th>obs_id</th><th>s_ra</th><th>s_dec</th><th>dataproduct_type</th><th>proposal_pi</th><th>calib_level</th><th>t_min</th><th>t_max</th><th>t_exptime</th><th>em_min</th><th>em_max</th><th>obs_title</th><th>t_obs_release</th><th>proposal_id</th><th>proposal_type</th><th>sequence_number</th><th>s_region</th><th>jpegURL</th><th>dataURL</th><th>dataRights</th><th>mtFlag</th><th>srcDen</th><th>obsid</th><th>objID</th></tr></thead>\n",
       "<thead><tr><th>str7</th><th>str4</th><th>str4</th><th>str10</th><th>str4</th><th>str4</th><th>str7</th><th>str7</th><th>str1</th><th>str47</th><th>float64</th><th>float64</th><th>str10</th><th>str14</th><th>int64</th><th>float64</th><th>float64</th><th>float64</th><th>float64</th><th>float64</th><th>str1</th><th>float64</th><th>str7</th><th>str1</th><th>int64</th><th>str47</th><th>str1</th><th>str79</th><th>str6</th><th>bool</th><th>float64</th><th>str8</th><th>str9</th></tr></thead>\n",
       "<tr><td>science</td><td>TESS</td><td>SPOC</td><td>Photometer</td><td>TESS</td><td>TESS</td><td>Optical</td><td>7854182</td><td>--</td><td>tess2020133194932-s0025-0000000007854182-0182-s</td><td>275.548647063955</td><td>47.568878067161</td><td>timeseries</td><td>Ricker, George</td><td>3</td><td>58983.13551149</td><td>59008.80681946</td><td>120.0</td><td>600.0</td><td>1000.0</td><td>--</td><td>59050.0</td><td>G022062</td><td>--</td><td>25</td><td>CIRCLE ICRS 275.54864706 47.56887807 0.00138889</td><td>--</td><td>mast:TESS/product/tess2020133194932-s0025-0000000007854182-0182-s_lc.fits</td><td>PUBLIC</td><td>False</td><td>nan</td><td>27626482</td><td>70835966</td></tr>\n",
       "<tr><td>science</td><td>TESS</td><td>SPOC</td><td>Photometer</td><td>TESS</td><td>TESS</td><td>Optical</td><td>7854182</td><td>--</td><td>tess2019199201929-s0014-s0026-0000000007854182</td><td>275.548647063955</td><td>47.568878067161</td><td>timeseries</td><td>Ricker, George</td><td>3</td><td>58983.12717798611</td><td>59034.63613398148</td><td>120.0</td><td>600.0</td><td>1000.0</td><td>--</td><td>59092.0</td><td>G022062</td><td>--</td><td>26</td><td>CIRCLE 275.54864706 47.56887807 0.00138889</td><td>--</td><td>mast:TESS/product/tess2019199201929-s0014-s0026-0000000007854182-00353_dvt.fits</td><td>PUBLIC</td><td>False</td><td>nan</td><td>27740920</td><td>116847240</td></tr>\n",
       "<tr><td>science</td><td>TESS</td><td>SPOC</td><td>Photometer</td><td>TESS</td><td>TESS</td><td>Optical</td><td>7854182</td><td>--</td><td>tess2020160202036-s0026-0000000007854182-0188-s</td><td>275.548647063955</td><td>47.568878067161</td><td>timeseries</td><td>Ricker, George</td><td>3</td><td>59009.76794068287</td><td>59034.63613398148</td><td>120.0</td><td>600.0</td><td>1000.0</td><td>--</td><td>59064.0</td><td>G022062</td><td>--</td><td>26</td><td>CIRCLE 275.54864706 47.56887807 0.00138889</td><td>--</td><td>mast:TESS/product/tess2020160202036-s0026-0000000007854182-0188-s_lc.fits</td><td>PUBLIC</td><td>False</td><td>nan</td><td>27671902</td><td>116847248</td></tr>\n",
       "<tr><td>science</td><td>TESS</td><td>SPOC</td><td>Photometer</td><td>TESS</td><td>TESS</td><td>Optical</td><td>7854182</td><td>--</td><td>tess2021175071901-s0040-0000000007854182-0211-s</td><td>275.548647063955</td><td>47.568878067161</td><td>timeseries</td><td>Ricker, George</td><td>3</td><td>59390.15401666667</td><td>59418.35530668982</td><td>120.0</td><td>600.0</td><td>1000.0</td><td>--</td><td>59456.0</td><td>G04123</td><td>--</td><td>40</td><td>CIRCLE 275.54864706 47.56887807 0.00138889</td><td>--</td><td>mast:TESS/product/tess2021175071901-s0040-0000000007854182-0211-s_lc.fits</td><td>PUBLIC</td><td>False</td><td>nan</td><td>62346553</td><td>117015989</td></tr>\n",
       "<tr><td>science</td><td>TESS</td><td>SPOC</td><td>Photometer</td><td>TESS</td><td>TESS</td><td>Optical</td><td>7854182</td><td>--</td><td>tess2021204101404-s0041-0000000007854182-0212-s</td><td>275.548647063955</td><td>47.568878067161</td><td>timeseries</td><td>Ricker, George</td><td>3</td><td>59419.49001267361</td><td>59446.07981400463</td><td>120.0</td><td>600.0</td><td>1000.0</td><td>--</td><td>59477.0</td><td>G04123</td><td>--</td><td>41</td><td>CIRCLE 275.54864706 47.56887807 0.00138889</td><td>--</td><td>mast:TESS/product/tess2021204101404-s0041-0000000007854182-0212-s_lc.fits</td><td>PUBLIC</td><td>False</td><td>nan</td><td>62789558</td><td>120240735</td></tr>\n",
       "</table></div>"
      ],
      "text/plain": [
       "<Table masked=True length=5>\n",
       "intentType obs_collection provenance_name ...  srcDen  obsid     objID  \n",
       "   str7         str4            str4      ... float64   str8      str9  \n",
       "---------- -------------- --------------- ... ------- -------- ---------\n",
       "   science           TESS            SPOC ...     nan 27626482  70835966\n",
       "   science           TESS            SPOC ...     nan 27740920 116847240\n",
       "   science           TESS            SPOC ...     nan 27671902 116847248\n",
       "   science           TESS            SPOC ...     nan 62346553 117015989\n",
       "   science           TESS            SPOC ...     nan 62789558 120240735"
      ]
     },
     "execution_count": 7,
     "metadata": {},
     "output_type": "execute_result"
    }
   ],
   "source": [
    "obs = Observations.query_criteria(target_name=\"7854182\", obs_collection=\"TESS\")\n",
    "obs[:5]"
   ]
  },
  {
   "cell_type": "markdown",
   "id": "c859eb92-2dcd-48c5-b401-f9c2471095e0",
   "metadata": {},
   "source": [
    "Excellent. The next step is to go from `Observation` results to the underlying data files.\n",
    "\n",
    "## Accessing the Underlying Data Files\n",
    "We've been looking at `Observations`: an overaching colleciton of metadata and underlying data files. Now we'd like to get at the actual data, in this case a timeseries of our target star. The relevant astroquery function is `Observations.get_product_list()`. To keep this short, let's only pass the first `Observation` to this function. To get all of the light curves, just drop the `[0]` indexing."
   ]
  },
  {
   "cell_type": "code",
   "execution_count": 8,
   "id": "67b6931b-a6b0-49c1-8b0f-e88178071c9a",
   "metadata": {
    "tags": []
   },
   "outputs": [
    {
     "data": {
      "text/html": [
       "<div><i>Table masked=True length=7</i>\n",
       "<table id=\"table140471723562608\" class=\"table-striped table-bordered table-condensed\">\n",
       "<thead><tr><th>obsID</th><th>obs_collection</th><th>dataproduct_type</th><th>obs_id</th><th>description</th><th>type</th><th>dataURI</th><th>productType</th><th>productGroupDescription</th><th>productSubGroupDescription</th><th>productDocumentationURL</th><th>project</th><th>prvversion</th><th>proposal_id</th><th>productFilename</th><th>size</th><th>parent_obsid</th><th>dataRights</th><th>calib_level</th></tr></thead>\n",
       "<thead><tr><th>str8</th><th>str4</th><th>str10</th><th>str47</th><th>str33</th><th>str1</th><th>str81</th><th>str7</th><th>str28</th><th>str3</th><th>str1</th><th>str4</th><th>str20</th><th>str7</th><th>str63</th><th>int64</th><th>str8</th><th>str6</th><th>int64</th></tr></thead>\n",
       "<tr><td>27626482</td><td>TESS</td><td>timeseries</td><td>tess2020133194932-s0025-0000000007854182-0182-s</td><td>full data validation report</td><td>S</td><td>mast:TESS/product/tess2020135030118-s0025-s0025-0000000007854182-00344_dvr.pdf</td><td>INFO</td><td>--</td><td>DVR</td><td>--</td><td>SPOC</td><td>b9bb72fe01</td><td>G022062</td><td>tess2020135030118-s0025-s0025-0000000007854182-00344_dvr.pdf</td><td>5303784</td><td>27626482</td><td>PUBLIC</td><td>3</td></tr>\n",
       "<tr><td>27626482</td><td>TESS</td><td>timeseries</td><td>tess2020133194932-s0025-0000000007854182-0182-s</td><td>full data validation report (xml)</td><td>S</td><td>mast:TESS/product/tess2020135030118-s0025-s0025-0000000007854182-00344_dvr.xml</td><td>INFO</td><td>--</td><td>DVR</td><td>--</td><td>SPOC</td><td>b9bb72fe01</td><td>G022062</td><td>tess2020135030118-s0025-s0025-0000000007854182-00344_dvr.xml</td><td>67779</td><td>27626482</td><td>PUBLIC</td><td>3</td></tr>\n",
       "<tr><td>27626482</td><td>TESS</td><td>timeseries</td><td>tess2020133194932-s0025-0000000007854182-0182-s</td><td>Data validation mini report</td><td>S</td><td>mast:TESS/product/tess2020135030118-s0025-s0025-0000000007854182-00344_dvm.pdf</td><td>INFO</td><td>Minimum Recommended Products</td><td>DVM</td><td>--</td><td>SPOC</td><td>b9bb72fe01</td><td>G022062</td><td>tess2020135030118-s0025-s0025-0000000007854182-00344_dvm.pdf</td><td>3245532</td><td>27626482</td><td>PUBLIC</td><td>3</td></tr>\n",
       "<tr><td>27626482</td><td>TESS</td><td>timeseries</td><td>tess2020133194932-s0025-0000000007854182-0182-s</td><td>TCE summary report</td><td>S</td><td>mast:TESS/product/tess2020135030118-s0025-s0025-0000000007854182-01-00344_dvs.pdf</td><td>INFO</td><td>Minimum Recommended Products</td><td>DVS</td><td>--</td><td>SPOC</td><td>b9bb72fe01</td><td>G022062</td><td>tess2020135030118-s0025-s0025-0000000007854182-01-00344_dvs.pdf</td><td>1144136</td><td>27626482</td><td>PUBLIC</td><td>3</td></tr>\n",
       "<tr><td>27626482</td><td>TESS</td><td>timeseries</td><td>tess2020133194932-s0025-0000000007854182-0182-s</td><td>Data validation time series</td><td>S</td><td>mast:TESS/product/tess2020135030118-s0025-s0025-0000000007854182-00344_dvt.fits</td><td>SCIENCE</td><td>Minimum Recommended Products</td><td>DVT</td><td>--</td><td>SPOC</td><td>b9bb72fe01</td><td>G022062</td><td>tess2020135030118-s0025-s0025-0000000007854182-00344_dvt.fits</td><td>3729600</td><td>27626482</td><td>PUBLIC</td><td>3</td></tr>\n",
       "<tr><td>27626482</td><td>TESS</td><td>timeseries</td><td>tess2020133194932-s0025-0000000007854182-0182-s</td><td>Light curves</td><td>S</td><td>mast:TESS/product/tess2020133194932-s0025-0000000007854182-0182-s_lc.fits</td><td>SCIENCE</td><td>Minimum Recommended Products</td><td>LC</td><td>--</td><td>SPOC</td><td>b9bb72fe01</td><td>G022062</td><td>tess2020133194932-s0025-0000000007854182-0182-s_lc.fits</td><td>1877760</td><td>27626482</td><td>PUBLIC</td><td>3</td></tr>\n",
       "<tr><td>27626482</td><td>TESS</td><td>timeseries</td><td>tess2020133194932-s0025-0000000007854182-0182-s</td><td>Target pixel files</td><td>S</td><td>mast:TESS/product/tess2020133194932-s0025-0000000007854182-0182-s_tp.fits</td><td>SCIENCE</td><td>Minimum Recommended Products</td><td>TP</td><td>--</td><td>SPOC</td><td>spoc-4.0.36-20200520</td><td>G022062</td><td>tess2020133194932-s0025-0000000007854182-0182-s_tp.fits</td><td>45299520</td><td>27626482</td><td>PUBLIC</td><td>2</td></tr>\n",
       "</table></div>"
      ],
      "text/plain": [
       "<Table masked=True length=7>\n",
       " obsID   obs_collection dataproduct_type ... parent_obsid dataRights calib_level\n",
       "  str8        str4           str10       ...     str8        str6       int64   \n",
       "-------- -------------- ---------------- ... ------------ ---------- -----------\n",
       "27626482           TESS       timeseries ...     27626482     PUBLIC           3\n",
       "27626482           TESS       timeseries ...     27626482     PUBLIC           3\n",
       "27626482           TESS       timeseries ...     27626482     PUBLIC           3\n",
       "27626482           TESS       timeseries ...     27626482     PUBLIC           3\n",
       "27626482           TESS       timeseries ...     27626482     PUBLIC           3\n",
       "27626482           TESS       timeseries ...     27626482     PUBLIC           3\n",
       "27626482           TESS       timeseries ...     27626482     PUBLIC           2"
      ]
     },
     "execution_count": 8,
     "metadata": {},
     "output_type": "execute_result"
    }
   ],
   "source": [
    "prod = Observations.get_product_list(obs[0])\n",
    "prod"
   ]
  },
  {
   "cell_type": "markdown",
   "id": "75d68375-372a-4223-ab4a-6152eed65f3e",
   "metadata": {},
   "source": [
    "We got back quite a bit more than light curves. That's because there is actually a substantial amount of data associated with each TESS Observation. The `description` field is useful for using `Observations.filter_products()` for particular files. Full explanations of each of the product filters that can be used in the `filter_products` function are available on the [MAST API Product Field Description page](https://mast.stsci.edu/api/v0/_productsfields.html).\n",
    "\n",
    "Here's a quick example of filtering for just the light curves:"
   ]
  },
  {
   "cell_type": "code",
   "execution_count": 9,
   "id": "14f4b60b-6f2d-450f-ae60-09b052aaa34a",
   "metadata": {
    "tags": []
   },
   "outputs": [],
   "source": [
    "# Sample filtering query\n",
    "filt = Observations.filter_products(prod, description=\"Light curves\")"
   ]
  },
  {
   "cell_type": "markdown",
   "id": "685f1032-0506-4541-847e-cd97958b4649",
   "metadata": {},
   "source": [
    "Now, we're ready to access the data from the AWS S3 bucket!\n",
    "\n",
    "### Method 1: TIKE\n",
    "With TIKE, no download is necessary; it's as though you were accessing the files locally. There is a little bit of extra work  writing code, but it pays off in terms of access speeds.\n",
    "\n",
    "In order to open files with TIKE, we'll need the cloud URI. Fortunately, there is a handle function to do just that: `Observations.get_cloud_uris`. We'll also need to enable `s3fs`, which lets Python access the S3 bucket as though it were local data."
   ]
  },
  {
   "cell_type": "code",
   "execution_count": 10,
   "id": "1d1e95a3-6b86-4b17-bc8b-0b7b22ff96d9",
   "metadata": {
    "tags": []
   },
   "outputs": [],
   "source": [
    "# Get the cloud URI\n",
    "c_uri = Observations.get_cloud_uris(filt)\n",
    "\n",
    "# Enable Pythonic access of the S3 filesystem\n",
    "fs = s3fs.S3FileSystem(anon=True)"
   ]
  },
  {
   "cell_type": "markdown",
   "id": "674eee88-57c0-4728-9709-9a354074700f",
   "metadata": {},
   "source": [
    "Excellent. Now we just need one final `with` block to access the data in the file."
   ]
  },
  {
   "cell_type": "code",
   "execution_count": 16,
   "id": "1b8aac10-337e-42a0-b0a7-3cf80c57a52d",
   "metadata": {
    "tags": []
   },
   "outputs": [
    {
     "name": "stdout",
     "output_type": "stream",
     "text": [
      "Filename: <class 's3fs.core.S3File'>\n",
      "No.    Name      Ver    Type      Cards   Dimensions   Format\n",
      "  0  PRIMARY       1 PrimaryHDU      44   ()      \n",
      "  1  LIGHTCURVE    1 BinTableHDU    161   18489R x 20C   [D, E, J, E, E, E, E, E, E, J, D, E, D, E, D, E, D, E, E, E]   \n",
      "  2  APERTURE      1 ImageHDU        49   (11, 11)   int32   \n"
     ]
    }
   ],
   "source": [
    "# Open the file in AWS: 'F' is the S3 file\n",
    "with fs.open(c_uri[0], 'rb') as f:\n",
    "     # Now actually read in the FITS file \n",
    "    with fits.open(f, 'readonly') as HDUlist:\n",
    "        HDUlist.info()"
   ]
  },
  {
   "cell_type": "markdown",
   "id": "810b715c-7f7c-4c35-9d3b-be218fbe860e",
   "metadata": {},
   "source": [
    "### Method 2: Redirecting (local) Downloads to the Cloud\n",
    "\n",
    "This is NOT the correct strategy on the TIKE Platform, since there's no need for a download.\n",
    "\n",
    "When set to True, the `cloud_only` parameter in `download_products` skips any data products that are not available in the cloud; all TESS Mission data are available through AWS, so none of the selected data products should be skipped.\n",
    "\n",
    "NOTE -- If you try to download the same file(s) more than once (e.g., by running the cell below multiple times), you should get the message \"Found cached file\" instead of \"Downloading URL\" in the printed manifest."
   ]
  },
  {
   "cell_type": "code",
   "execution_count": 18,
   "id": "c21a8378-dded-4b8e-b22e-4ef0495b84aa",
   "metadata": {
    "tags": []
   },
   "outputs": [
    {
     "name": "stdout",
     "output_type": "stream",
     "text": [
      "INFO: Found cached file ./mastDownload/TESS/tess2020133194932-s0025-0000000007854182-0182-s/tess2020133194932-s0025-0000000007854182-0182-s_lc.fits with expected size 1877760. [astroquery.mast.cloud]\n"
     ]
    }
   ],
   "source": [
    "manifest = Observations.download_products(filt, cloud_only=True)"
   ]
  },
  {
   "cell_type": "markdown",
   "id": "7d60fa49-924e-47ec-9765-1379b3f436bd",
   "metadata": {},
   "source": [
    "All TESS light curves for TIC 7854182 have been downloaded, and we're ready to start our science!"
   ]
  },
  {
   "cell_type": "markdown",
   "id": "a19de73d-033b-4b48-a31f-21e91f07583d",
   "metadata": {
    "tags": []
   },
   "source": [
    "## Bonus: Query for a specific Guest Investigator program\n",
    "In this example, we want to retrieve all TESS data (light curves, target pixel files, and data validation files) associated with Guest Investigator program G05101 from Cycle 5 (PI: Susan Mullally).\n",
    "\n",
    "Feel free to use any program here! The list of program IDs can be found at the [TESS GI List of Approved Programs](https://heasarc.gsfc.nasa.gov/docs/tess/approved-programs.html)."
   ]
  },
  {
   "cell_type": "code",
   "execution_count": 19,
   "id": "2d9af135-94c1-4214-9a58-87ecfa9ce1a0",
   "metadata": {
    "tags": []
   },
   "outputs": [],
   "source": [
    "pid = \"G05101\""
   ]
  },
  {
   "cell_type": "code",
   "execution_count": 20,
   "id": "91a25f4c-fa8a-4eca-a731-52e636fee448",
   "metadata": {
    "tags": []
   },
   "outputs": [],
   "source": [
    "obs_pid = Observations.query_criteria(obs_collection = \"TESS\",\n",
    "                                  proposal_id = f\"*{pid}*\")"
   ]
  },
  {
   "cell_type": "code",
   "execution_count": 21,
   "id": "d684eac1-6ac2-4d01-baeb-2b2487988bfa",
   "metadata": {
    "tags": []
   },
   "outputs": [
    {
     "name": "stdout",
     "output_type": "stream",
     "text": [
      "TOTAL Number of Observations available for G05101: \n",
      "49\n"
     ]
    }
   ],
   "source": [
    "print(f\"TOTAL Number of Observations available for {pid}: \\n{len(obs_pid)}\")"
   ]
  },
  {
   "cell_type": "code",
   "execution_count": 22,
   "id": "fd7c29b0-a74b-47d1-82d3-b6db39d65976",
   "metadata": {
    "tags": []
   },
   "outputs": [
    {
     "data": {
      "text/html": [
       "<div><i>Table masked=True length=5</i>\n",
       "<table id=\"table140471536211088\" class=\"table-striped table-bordered table-condensed\">\n",
       "<thead><tr><th>intentType</th><th>obs_collection</th><th>provenance_name</th><th>instrument_name</th><th>project</th><th>filters</th><th>wavelength_region</th><th>target_name</th><th>target_classification</th><th>obs_id</th><th>s_ra</th><th>s_dec</th><th>dataproduct_type</th><th>proposal_pi</th><th>calib_level</th><th>t_min</th><th>t_max</th><th>t_exptime</th><th>em_min</th><th>em_max</th><th>obs_title</th><th>t_obs_release</th><th>proposal_id</th><th>proposal_type</th><th>sequence_number</th><th>s_region</th><th>jpegURL</th><th>dataURL</th><th>dataRights</th><th>mtFlag</th><th>srcDen</th><th>obsid</th><th>objID</th></tr></thead>\n",
       "<thead><tr><th>str7</th><th>str4</th><th>str4</th><th>str10</th><th>str4</th><th>str4</th><th>str7</th><th>str9</th><th>str1</th><th>str52</th><th>float64</th><th>float64</th><th>str10</th><th>str14</th><th>int64</th><th>float64</th><th>float64</th><th>float64</th><th>float64</th><th>float64</th><th>str1</th><th>float64</th><th>str34</th><th>str1</th><th>int64</th><th>str43</th><th>str1</th><th>str79</th><th>str6</th><th>bool</th><th>float64</th><th>str9</th><th>str9</th></tr></thead>\n",
       "<tr><td>science</td><td>TESS</td><td>SPOC</td><td>Photometer</td><td>TESS</td><td>TESS</td><td>Optical</td><td>383623835</td><td>--</td><td>tess2022330142927-s0059-0000000383623835-0248-s</td><td>270.628087535846</td><td>58.6272659486741</td><td>timeseries</td><td>Ricker, George</td><td>3</td><td>59909.76229211806</td><td>59936.1858008912</td><td>120.0</td><td>600.0</td><td>1000.0</td><td>--</td><td>59962.0</td><td>G05101</td><td>--</td><td>59</td><td>CIRCLE 270.62808754 58.62726595 0.00138889</td><td>--</td><td>mast:TESS/product/tess2022330142927-s0059-0000000383623835-0248-s_lc.fits</td><td>PUBLIC</td><td>False</td><td>nan</td><td>113395560</td><td>210506880</td></tr>\n",
       "<tr><td>science</td><td>TESS</td><td>SPOC</td><td>Photometer</td><td>TESS</td><td>TESS</td><td>Optical</td><td>5914520</td><td>--</td><td>tess2023096110322-s0064-0000000005914520-0257-s</td><td>193.312720118104</td><td>-18.5222248428656</td><td>timeseries</td><td>Ricker, George</td><td>3</td><td>60040.63527681713</td><td>60067.43903234954</td><td>120.0</td><td>600.0</td><td>1000.0</td><td>--</td><td>60087.0</td><td>G05101</td><td>--</td><td>64</td><td>CIRCLE 193.31272012 -18.52222484 0.00138889</td><td>--</td><td>mast:TESS/product/tess2023096110322-s0064-0000000005914520-0257-s_lc.fits</td><td>PUBLIC</td><td>False</td><td>nan</td><td>139084486</td><td>254133156</td></tr>\n",
       "<tr><td>science</td><td>TESS</td><td>SPOC</td><td>Photometer</td><td>TESS</td><td>TESS</td><td>Optical</td><td>298411553</td><td>--</td><td>tess2022330142927-s0059-0000000298411553-0248-s</td><td>149.476234232293</td><td>85.4946883170451</td><td>timeseries</td><td>Ricker, George</td><td>3</td><td>59909.7650365625</td><td>59936.18904974537</td><td>120.0</td><td>600.0</td><td>1000.0</td><td>--</td><td>59962.0</td><td>G05101_G05084_G05115_G05081</td><td>--</td><td>59</td><td>CIRCLE 149.47623423 85.49468832 0.00138889</td><td>--</td><td>mast:TESS/product/tess2022330142927-s0059-0000000298411553-0248-s_lc.fits</td><td>PUBLIC</td><td>False</td><td>nan</td><td>113392111</td><td>210500653</td></tr>\n",
       "<tr><td>science</td><td>TESS</td><td>SPOC</td><td>Photometer</td><td>TESS</td><td>TESS</td><td>Optical</td><td>219097989</td><td>--</td><td>tess2022357055054-s0060-0000000219097989-0249-s</td><td>269.658310781969</td><td>66.7811423559296</td><td>timeseries</td><td>Ricker, George</td><td>3</td><td>59936.40188498842</td><td>59962.08243238426</td><td>120.0</td><td>600.0</td><td>1000.0</td><td>--</td><td>59982.0</td><td>G05101</td><td>--</td><td>60</td><td>CIRCLE 269.65831078 66.78114236 0.00138889</td><td>--</td><td>mast:TESS/product/tess2022357055054-s0060-0000000219097989-0249-s_lc.fits</td><td>PUBLIC</td><td>False</td><td>nan</td><td>114309714</td><td>211965772</td></tr>\n",
       "<tr><td>science</td><td>TESS</td><td>SPOC</td><td>Photometer</td><td>TESS</td><td>TESS</td><td>Optical</td><td>420814525</td><td>--</td><td>tess2022244194134-s0056-0000000420814525-0243-s</td><td>330.794887332661</td><td>18.8843189579296</td><td>timeseries</td><td>Ricker, George</td><td>3</td><td>59824.761134409724</td><td>59852.642480821756</td><td>120.0</td><td>600.0</td><td>1000.0</td><td>--</td><td>59873.0</td><td>G05101_G05015_G05144_G05069</td><td>--</td><td>56</td><td>CIRCLE 330.79488733 18.88431896 0.00138889</td><td>--</td><td>mast:TESS/product/tess2022244194134-s0056-0000000420814525-0243-s_lc.fits</td><td>PUBLIC</td><td>False</td><td>nan</td><td>97942919</td><td>184143980</td></tr>\n",
       "</table></div>"
      ],
      "text/plain": [
       "<Table masked=True length=5>\n",
       "intentType obs_collection provenance_name ...  srcDen   obsid     objID  \n",
       "   str7         str4            str4      ... float64    str9      str9  \n",
       "---------- -------------- --------------- ... ------- --------- ---------\n",
       "   science           TESS            SPOC ...     nan 113395560 210506880\n",
       "   science           TESS            SPOC ...     nan 139084486 254133156\n",
       "   science           TESS            SPOC ...     nan 113392111 210500653\n",
       "   science           TESS            SPOC ...     nan 114309714 211965772\n",
       "   science           TESS            SPOC ...     nan  97942919 184143980"
      ]
     },
     "metadata": {},
     "output_type": "display_data"
    }
   ],
   "source": [
    "display(obs_pid[:5])"
   ]
  },
  {
   "cell_type": "markdown",
   "id": "3c2f097c-7f57-402a-9094-e58decf90a21",
   "metadata": {},
   "source": [
    "Next, we will retrieve the list of data products that are associated with each Observation.\n"
   ]
  },
  {
   "cell_type": "code",
   "execution_count": 23,
   "id": "a284a407-22ed-4123-ace4-0a33ae1cad8e",
   "metadata": {
    "tags": []
   },
   "outputs": [],
   "source": [
    "# Pick which products we want to retrieve\n",
    "data_prod_pid = Observations.get_product_list(obs_pid)"
   ]
  },
  {
   "cell_type": "code",
   "execution_count": 24,
   "id": "abef04aa-cf5f-4480-a2dd-7a727bdcf804",
   "metadata": {
    "tags": []
   },
   "outputs": [
    {
     "name": "stdout",
     "output_type": "stream",
     "text": [
      "Number of TESS data products available for G05101: \n",
      "106\n"
     ]
    }
   ],
   "source": [
    "print(f\"Number of TESS data products available for {pid}: \\n{len(data_prod_pid)}\")"
   ]
  },
  {
   "cell_type": "code",
   "execution_count": 27,
   "id": "33289b3b-44f3-4dad-9a57-adc2722700df",
   "metadata": {
    "tags": []
   },
   "outputs": [
    {
     "data": {
      "text/html": [
       "<div><i>Table masked=True length=7</i>\n",
       "<table id=\"table140471723562608\" class=\"table-striped table-bordered table-condensed\">\n",
       "<thead><tr><th>obsID</th><th>obs_collection</th><th>dataproduct_type</th><th>obs_id</th><th>description</th><th>type</th><th>dataURI</th><th>productType</th><th>productGroupDescription</th><th>productSubGroupDescription</th><th>productDocumentationURL</th><th>project</th><th>prvversion</th><th>proposal_id</th><th>productFilename</th><th>size</th><th>parent_obsid</th><th>dataRights</th><th>calib_level</th></tr></thead>\n",
       "<thead><tr><th>str8</th><th>str4</th><th>str10</th><th>str47</th><th>str33</th><th>str1</th><th>str81</th><th>str7</th><th>str28</th><th>str3</th><th>str1</th><th>str4</th><th>str20</th><th>str7</th><th>str63</th><th>int64</th><th>str8</th><th>str6</th><th>int64</th></tr></thead>\n",
       "<tr><td>27626482</td><td>TESS</td><td>timeseries</td><td>tess2020133194932-s0025-0000000007854182-0182-s</td><td>full data validation report</td><td>S</td><td>mast:TESS/product/tess2020135030118-s0025-s0025-0000000007854182-00344_dvr.pdf</td><td>INFO</td><td>--</td><td>DVR</td><td>--</td><td>SPOC</td><td>b9bb72fe01</td><td>G022062</td><td>tess2020135030118-s0025-s0025-0000000007854182-00344_dvr.pdf</td><td>5303784</td><td>27626482</td><td>PUBLIC</td><td>3</td></tr>\n",
       "<tr><td>27626482</td><td>TESS</td><td>timeseries</td><td>tess2020133194932-s0025-0000000007854182-0182-s</td><td>full data validation report (xml)</td><td>S</td><td>mast:TESS/product/tess2020135030118-s0025-s0025-0000000007854182-00344_dvr.xml</td><td>INFO</td><td>--</td><td>DVR</td><td>--</td><td>SPOC</td><td>b9bb72fe01</td><td>G022062</td><td>tess2020135030118-s0025-s0025-0000000007854182-00344_dvr.xml</td><td>67779</td><td>27626482</td><td>PUBLIC</td><td>3</td></tr>\n",
       "<tr><td>27626482</td><td>TESS</td><td>timeseries</td><td>tess2020133194932-s0025-0000000007854182-0182-s</td><td>Data validation mini report</td><td>S</td><td>mast:TESS/product/tess2020135030118-s0025-s0025-0000000007854182-00344_dvm.pdf</td><td>INFO</td><td>Minimum Recommended Products</td><td>DVM</td><td>--</td><td>SPOC</td><td>b9bb72fe01</td><td>G022062</td><td>tess2020135030118-s0025-s0025-0000000007854182-00344_dvm.pdf</td><td>3245532</td><td>27626482</td><td>PUBLIC</td><td>3</td></tr>\n",
       "<tr><td>27626482</td><td>TESS</td><td>timeseries</td><td>tess2020133194932-s0025-0000000007854182-0182-s</td><td>TCE summary report</td><td>S</td><td>mast:TESS/product/tess2020135030118-s0025-s0025-0000000007854182-01-00344_dvs.pdf</td><td>INFO</td><td>Minimum Recommended Products</td><td>DVS</td><td>--</td><td>SPOC</td><td>b9bb72fe01</td><td>G022062</td><td>tess2020135030118-s0025-s0025-0000000007854182-01-00344_dvs.pdf</td><td>1144136</td><td>27626482</td><td>PUBLIC</td><td>3</td></tr>\n",
       "<tr><td>27626482</td><td>TESS</td><td>timeseries</td><td>tess2020133194932-s0025-0000000007854182-0182-s</td><td>Data validation time series</td><td>S</td><td>mast:TESS/product/tess2020135030118-s0025-s0025-0000000007854182-00344_dvt.fits</td><td>SCIENCE</td><td>Minimum Recommended Products</td><td>DVT</td><td>--</td><td>SPOC</td><td>b9bb72fe01</td><td>G022062</td><td>tess2020135030118-s0025-s0025-0000000007854182-00344_dvt.fits</td><td>3729600</td><td>27626482</td><td>PUBLIC</td><td>3</td></tr>\n",
       "<tr><td>27626482</td><td>TESS</td><td>timeseries</td><td>tess2020133194932-s0025-0000000007854182-0182-s</td><td>Light curves</td><td>S</td><td>mast:TESS/product/tess2020133194932-s0025-0000000007854182-0182-s_lc.fits</td><td>SCIENCE</td><td>Minimum Recommended Products</td><td>LC</td><td>--</td><td>SPOC</td><td>b9bb72fe01</td><td>G022062</td><td>tess2020133194932-s0025-0000000007854182-0182-s_lc.fits</td><td>1877760</td><td>27626482</td><td>PUBLIC</td><td>3</td></tr>\n",
       "<tr><td>27626482</td><td>TESS</td><td>timeseries</td><td>tess2020133194932-s0025-0000000007854182-0182-s</td><td>Target pixel files</td><td>S</td><td>mast:TESS/product/tess2020133194932-s0025-0000000007854182-0182-s_tp.fits</td><td>SCIENCE</td><td>Minimum Recommended Products</td><td>TP</td><td>--</td><td>SPOC</td><td>spoc-4.0.36-20200520</td><td>G022062</td><td>tess2020133194932-s0025-0000000007854182-0182-s_tp.fits</td><td>45299520</td><td>27626482</td><td>PUBLIC</td><td>2</td></tr>\n",
       "</table></div>"
      ],
      "text/plain": [
       "<Table masked=True length=7>\n",
       " obsID   obs_collection dataproduct_type ... parent_obsid dataRights calib_level\n",
       "  str8        str4           str10       ...     str8        str6       int64   \n",
       "-------- -------------- ---------------- ... ------------ ---------- -----------\n",
       "27626482           TESS       timeseries ...     27626482     PUBLIC           3\n",
       "27626482           TESS       timeseries ...     27626482     PUBLIC           3\n",
       "27626482           TESS       timeseries ...     27626482     PUBLIC           3\n",
       "27626482           TESS       timeseries ...     27626482     PUBLIC           3\n",
       "27626482           TESS       timeseries ...     27626482     PUBLIC           3\n",
       "27626482           TESS       timeseries ...     27626482     PUBLIC           3\n",
       "27626482           TESS       timeseries ...     27626482     PUBLIC           2"
      ]
     },
     "metadata": {},
     "output_type": "display_data"
    }
   ],
   "source": [
    "display(prod)"
   ]
  },
  {
   "cell_type": "markdown",
   "id": "ce6534b7-2490-44b4-9207-140fd8af03f5",
   "metadata": {},
   "source": [
    "As above, if we decide that we only want to download, e.g., the light curve files, we can further filter the products list based on the columns/fields in the table.\n",
    "\n",
    "For our purposes, this step is optional; I'm going to download **all** of the available data products for this program ID."
   ]
  },
  {
   "cell_type": "code",
   "execution_count": null,
   "id": "82d758f4-30b2-45e2-b193-45631a64d6ba",
   "metadata": {},
   "outputs": [],
   "source": [
    "# OPTIONAL\n",
    "# Select which files to download from the S3 bucket by applying additional filters\n",
    "# filt_prod = Observations.filter_products(data_prod_pid, description='Light curves')"
   ]
  },
  {
   "cell_type": "markdown",
   "id": "ad0de2de-7c5e-4c9b-bdd0-7e3cbc77b114",
   "metadata": {},
   "source": [
    "Now, we're ready to download the data from the AWS S3 bucket!\n",
    "\n",
    "By default, all downloads will be placed in a `./mastDownload/` directory on the TIKE. If you'd like to change this directory, use the `download_dir` parameter in the `download_products` functions. For example, you may want to place all products downloaded for GI program G05101 in a directory named `./G05101`, as shown below.\n"
   ]
  },
  {
   "cell_type": "code",
   "execution_count": 29,
   "id": "9d241f44-3fa3-46a5-a776-cdb8c2dc8901",
   "metadata": {
    "tags": []
   },
   "outputs": [
    {
     "name": "stderr",
     "output_type": "stream",
     "text": [
      "ERROR: Error pulling from S3 bucket: 'productFilename' [astroquery.mast.observations]\n",
      "WARNING: Skipping file... [astroquery.mast.observations]\n"
     ]
    },
    {
     "name": "stdout",
     "output_type": "stream",
     "text": [
      "INFO: Found cached file G05101/mastDownload/TESS/tess2018206190142-s0001-s0069-0000000200779640/tess2018206190142-s0001-s0069-0000000200779640-00810_dvr.xml with expected size 374231. [astroquery.mast.cloud]\n"
     ]
    },
    {
     "name": "stderr",
     "output_type": "stream",
     "text": [
      "ERROR: Error pulling from S3 bucket: 'productFilename' [astroquery.mast.observations]\n",
      "WARNING: Skipping file... [astroquery.mast.observations]\n"
     ]
    },
    {
     "name": "stdout",
     "output_type": "stream",
     "text": [
      "INFO: Found cached file G05101/mastDownload/TESS/tess2018206190142-s0001-s0069-0000000200779640/tess2018206190142-s0001-s0069-0000000200779640-01-00810_dvs.pdf with expected size 703837. [astroquery.mast.cloud]\n",
      "INFO: Found cached file G05101/mastDownload/TESS/tess2018206190142-s0001-s0069-0000000200779640/tess2018206190142-s0001-s0069-0000000200779640-00810_dvt.fits with expected size 53426880. [astroquery.mast.cloud]\n",
      "INFO: Found cached file G05101/mastDownload/TESS/tess2022244194134-s0056-0000000207440438-0243-s/tess2022244194134-s0056-0000000207440438-0243-s_lc.fits with expected size 2039040. [astroquery.mast.cloud]\n",
      "INFO: Found cached file G05101/mastDownload/TESS/tess2022244194134-s0056-0000000207440438-0243-s/tess2022244194134-s0056-0000000207440438-0243-s_tp.fits with expected size 49193280. [astroquery.mast.cloud]\n",
      "INFO: Found cached file G05101/mastDownload/TESS/tess2022244194134-s0056-0000000219089401-0243-s/tess2022244194134-s0056-0000000219089401-0243-s_lc.fits with expected size 2039040. [astroquery.mast.cloud]\n",
      "INFO: Found cached file G05101/mastDownload/TESS/tess2022244194134-s0056-0000000219089401-0243-s/tess2022244194134-s0056-0000000219089401-0243-s_tp.fits with expected size 49193280. [astroquery.mast.cloud]\n",
      "INFO: Found cached file G05101/mastDownload/TESS/tess2022244194134-s0056-0000000219097989-0243-s/tess2022244194134-s0056-0000000219097989-0243-s_lc.fits with expected size 2039040. [astroquery.mast.cloud]\n"
     ]
    }
   ],
   "source": [
    "manifest = Observations.download_products(data_prod_pid[:10], download_dir=f'{pid}', cloud_only=True)"
   ]
  },
  {
   "cell_type": "markdown",
   "id": "79c20955-ee97-4d1a-9f31-34f43d7ef3c1",
   "metadata": {},
   "source": [
    "If you scroll through the above manifest, you may notice an error:\n",
    "```\n",
    "ERROR: Error pulling from S3 bucket: 'productFilename' [astroquery.mast.observations]\n",
    "WARNING: Skipping file... [astroquery.mast.observations]\n",
    "```\n",
    "\n",
    "So, what happened here? Let's check the manifest to see which files were not downloaded.\n"
   ]
  },
  {
   "cell_type": "code",
   "execution_count": 30,
   "id": "17d2d03e-bdb8-46dd-97fe-d8bd65cd4c1e",
   "metadata": {
    "tags": []
   },
   "outputs": [
    {
     "data": {
      "text/html": [
       "<div><i>Table length=2</i>\n",
       "<table id=\"table140471670325840\" class=\"table-striped table-bordered table-condensed\">\n",
       "<thead><tr><th>Local Path</th><th>Status</th><th>Message</th><th>URL</th></tr></thead>\n",
       "<thead><tr><th>str135</th><th>str8</th><th>object</th><th>object</th></tr></thead>\n",
       "<tr><td>G05101/mastDownload/TESS/tess2018206190142-s0001-s0069-0000000200779640/tess2018206190142-s0001-s0069-0000000200779640-00810_dvr.pdf</td><td>SKIPPED</td><td>None</td><td>None</td></tr>\n",
       "<tr><td>G05101/mastDownload/TESS/tess2018206190142-s0001-s0069-0000000200779640/tess2018206190142-s0001-s0069-0000000200779640-00810_dvm.pdf</td><td>SKIPPED</td><td>None</td><td>None</td></tr>\n",
       "</table></div>"
      ],
      "text/plain": [
       "<Table length=2>\n",
       "                                                             Local Path                                                              ...\n",
       "                                                               str135                                                                ...\n",
       "------------------------------------------------------------------------------------------------------------------------------------ ...\n",
       "G05101/mastDownload/TESS/tess2018206190142-s0001-s0069-0000000200779640/tess2018206190142-s0001-s0069-0000000200779640-00810_dvr.pdf ...\n",
       "G05101/mastDownload/TESS/tess2018206190142-s0001-s0069-0000000200779640/tess2018206190142-s0001-s0069-0000000200779640-00810_dvm.pdf ..."
      ]
     },
     "metadata": {},
     "output_type": "display_data"
    }
   ],
   "source": [
    "display(manifest[manifest['Status']!='COMPLETE'])"
   ]
  },
  {
   "cell_type": "markdown",
   "id": "ddd49f11-dad0-404a-85ca-0bce9106ca18",
   "metadata": {},
   "source": [
    "When we say that \"ALL\" data from the TESS Mission are available in AWS S3 buckets, there is a small caveat.\n",
    "\n",
    "The TESS Full Data Validation Reports (`*_dvr.pdf`) and Mini Data Validation Reports (`*_drm.pdf`), which are produced for all TCEs associated with a particular host star, are **not currently** hosted on AWS.\n",
    "\n",
    "As MAST moves towards a more cloud-based model for data access, MAST is considering adding these types of data products to the AWS S3 bucket, but for now, if we want to download them to our local directory, we'll need to download them directly from MAST. To do this, we set `cloud_only=False`. If set to False and cloud data access is enabled (`enable_cloud_dataset` above), files that are not found in the cloud will be downloaded from MAST."
   ]
  },
  {
   "cell_type": "code",
   "execution_count": 31,
   "id": "8ed6cade-79e5-4786-a031-dffe08e662a6",
   "metadata": {
    "tags": []
   },
   "outputs": [
    {
     "name": "stdout",
     "output_type": "stream",
     "text": [
      "Downloading URL https://mast.stsci.edu/api/v0.1/Download/file?uri=mast:TESS/product/tess2018206190142-s0001-s0069-0000000200779640-00810_dvr.pdf to G05101/mastDownload/TESS/tess2018206190142-s0001-s0069-0000000200779640/tess2018206190142-s0001-s0069-0000000200779640-00810_dvr.pdf ..."
     ]
    },
    {
     "name": "stderr",
     "output_type": "stream",
     "text": [
      "ERROR: Error pulling from S3 bucket: 'productFilename' [astroquery.mast.observations]\n",
      "WARNING: Falling back to mast download... [astroquery.mast.observations]\n"
     ]
    },
    {
     "name": "stdout",
     "output_type": "stream",
     "text": [
      " [Done]\n",
      "INFO: Found cached file G05101/mastDownload/TESS/tess2018206190142-s0001-s0069-0000000200779640/tess2018206190142-s0001-s0069-0000000200779640-00810_dvr.xml with expected size 374231. [astroquery.mast.cloud]\n",
      "Downloading URL https://mast.stsci.edu/api/v0.1/Download/file?uri=mast:TESS/product/tess2018206190142-s0001-s0069-0000000200779640-00810_dvm.pdf to G05101/mastDownload/TESS/tess2018206190142-s0001-s0069-0000000200779640/tess2018206190142-s0001-s0069-0000000200779640-00810_dvm.pdf ..."
     ]
    },
    {
     "name": "stderr",
     "output_type": "stream",
     "text": [
      "ERROR: Error pulling from S3 bucket: 'productFilename' [astroquery.mast.observations]\n",
      "WARNING: Falling back to mast download... [astroquery.mast.observations]\n"
     ]
    },
    {
     "name": "stdout",
     "output_type": "stream",
     "text": [
      " [Done]\n",
      "INFO: Found cached file G05101/mastDownload/TESS/tess2018206190142-s0001-s0069-0000000200779640/tess2018206190142-s0001-s0069-0000000200779640-01-00810_dvs.pdf with expected size 703837. [astroquery.mast.cloud]\n",
      "INFO: Found cached file G05101/mastDownload/TESS/tess2018206190142-s0001-s0069-0000000200779640/tess2018206190142-s0001-s0069-0000000200779640-00810_dvt.fits with expected size 53426880. [astroquery.mast.cloud]\n",
      "INFO: Found cached file G05101/mastDownload/TESS/tess2022244194134-s0056-0000000207440438-0243-s/tess2022244194134-s0056-0000000207440438-0243-s_lc.fits with expected size 2039040. [astroquery.mast.cloud]\n",
      "INFO: Found cached file G05101/mastDownload/TESS/tess2022244194134-s0056-0000000207440438-0243-s/tess2022244194134-s0056-0000000207440438-0243-s_tp.fits with expected size 49193280. [astroquery.mast.cloud]\n",
      "INFO: Found cached file G05101/mastDownload/TESS/tess2022244194134-s0056-0000000219089401-0243-s/tess2022244194134-s0056-0000000219089401-0243-s_lc.fits with expected size 2039040. [astroquery.mast.cloud]\n",
      "INFO: Found cached file G05101/mastDownload/TESS/tess2022244194134-s0056-0000000219089401-0243-s/tess2022244194134-s0056-0000000219089401-0243-s_tp.fits with expected size 49193280. [astroquery.mast.cloud]\n",
      "INFO: Found cached file G05101/mastDownload/TESS/tess2022244194134-s0056-0000000219097989-0243-s/tess2022244194134-s0056-0000000219097989-0243-s_lc.fits with expected size 2039040. [astroquery.mast.cloud]\n"
     ]
    }
   ],
   "source": [
    "manifest = Observations.download_products(data_prod_pid[:10], download_dir=f'{pid}', cloud_only=False)"
   ]
  },
  {
   "cell_type": "markdown",
   "id": "4c152c6a-56e6-4bd2-9603-3833fe9cf697",
   "metadata": {},
   "source": [
    "All TESS data products (light curves, target pixel files, and data validation files) associated with Guest Investigator program G05101 have been downloaded"
   ]
  },
  {
   "cell_type": "markdown",
   "id": "0e0e8d71-6f08-47c4-9e2f-3e906cda104a",
   "metadata": {
    "tags": []
   },
   "source": [
    "## About this Notebook\n",
    "\n",
    "**Author:** Hannah M. Lewis, STScI Data Scientist. Edits by Nicole Schanche and Thomas Dutkiewicz.\n",
    "\n",
    "**Last updated:** 5 Jan 2023\n",
    "\n",
    "<img style=\"float: right;\" src=\"https://raw.githubusercontent.com/spacetelescope/notebooks/master/assets/stsci_pri_combo_mark_horizonal_white_bkgd.png\" alt=\"STScI logo\" width=\"200px\"/>"
   ]
  }
 ],
 "metadata": {
  "kernelspec": {
   "display_name": "TESS Environment",
   "language": "python",
   "name": "tess"
  },
  "language_info": {
   "codemirror_mode": {
    "name": "ipython",
    "version": 3
   },
   "file_extension": ".py",
   "mimetype": "text/x-python",
   "name": "python",
   "nbconvert_exporter": "python",
   "pygments_lexer": "ipython3",
   "version": "3.8.16"
  }
 },
 "nbformat": 4,
 "nbformat_minor": 5
}
